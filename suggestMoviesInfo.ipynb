{
 "cells": [
  {
   "cell_type": "markdown",
   "metadata": {},
   "source": [
    "# Inspecting Movie Data \n",
    "\n",
    "Three movie data files are stored in an s3 bucket. These three data files will be loaded into dataframes, inspected and transformed for the machine learning training process."
   ]
  },
  {
   "cell_type": "markdown",
   "metadata": {},
   "source": [
    "## Loading title.akas.tsv file into a DataFrame for inspection and transformation"
   ]
  },
  {
   "cell_type": "code",
   "execution_count": 302,
   "metadata": {},
   "outputs": [],
   "source": [
    "import pandas as pd\n",
    "import seaborn as sns\n",
    "import numpy as np\n",
    "import matplotlib.pyplot as plt\n",
    "\n",
    "#reading title.Akas.tsv file from s3 bucket and loading data into dataframe\n",
    "titleAkas_df = pd.read_csv(\"s3://mlmovieinfofiles/title.akas.tsv\", sep='\\t', dtype={'region':'category','language':'category','types':'category','attributes':'category','ordering':'uint8','isOriginalTitle' : 'object'})"
   ]
  },
  {
   "cell_type": "code",
   "execution_count": 303,
   "metadata": {},
   "outputs": [
    {
     "data": {
      "text/html": [
       "<div>\n",
       "<style scoped>\n",
       "    .dataframe tbody tr th:only-of-type {\n",
       "        vertical-align: middle;\n",
       "    }\n",
       "\n",
       "    .dataframe tbody tr th {\n",
       "        vertical-align: top;\n",
       "    }\n",
       "\n",
       "    .dataframe thead th {\n",
       "        text-align: right;\n",
       "    }\n",
       "</style>\n",
       "<table border=\"1\" class=\"dataframe\">\n",
       "  <thead>\n",
       "    <tr style=\"text-align: right;\">\n",
       "      <th></th>\n",
       "      <th>titleId</th>\n",
       "      <th>ordering</th>\n",
       "      <th>title</th>\n",
       "      <th>region</th>\n",
       "      <th>language</th>\n",
       "      <th>types</th>\n",
       "      <th>attributes</th>\n",
       "      <th>isOriginalTitle</th>\n",
       "    </tr>\n",
       "  </thead>\n",
       "  <tbody>\n",
       "    <tr>\n",
       "      <th>0</th>\n",
       "      <td>tt0000001</td>\n",
       "      <td>1</td>\n",
       "      <td>Карменсіта</td>\n",
       "      <td>UA</td>\n",
       "      <td>\\N</td>\n",
       "      <td>imdbDisplay</td>\n",
       "      <td>\\N</td>\n",
       "      <td>0</td>\n",
       "    </tr>\n",
       "    <tr>\n",
       "      <th>1</th>\n",
       "      <td>tt0000001</td>\n",
       "      <td>2</td>\n",
       "      <td>Carmencita</td>\n",
       "      <td>DE</td>\n",
       "      <td>\\N</td>\n",
       "      <td>\\N</td>\n",
       "      <td>literal title</td>\n",
       "      <td>0</td>\n",
       "    </tr>\n",
       "    <tr>\n",
       "      <th>2</th>\n",
       "      <td>tt0000001</td>\n",
       "      <td>3</td>\n",
       "      <td>Carmencita - spanyol tánc</td>\n",
       "      <td>HU</td>\n",
       "      <td>\\N</td>\n",
       "      <td>imdbDisplay</td>\n",
       "      <td>\\N</td>\n",
       "      <td>0</td>\n",
       "    </tr>\n",
       "    <tr>\n",
       "      <th>3</th>\n",
       "      <td>tt0000001</td>\n",
       "      <td>4</td>\n",
       "      <td>Καρμενσίτα</td>\n",
       "      <td>GR</td>\n",
       "      <td>\\N</td>\n",
       "      <td>imdbDisplay</td>\n",
       "      <td>\\N</td>\n",
       "      <td>0</td>\n",
       "    </tr>\n",
       "    <tr>\n",
       "      <th>4</th>\n",
       "      <td>tt0000001</td>\n",
       "      <td>5</td>\n",
       "      <td>Карменсита</td>\n",
       "      <td>RU</td>\n",
       "      <td>\\N</td>\n",
       "      <td>imdbDisplay</td>\n",
       "      <td>\\N</td>\n",
       "      <td>0</td>\n",
       "    </tr>\n",
       "  </tbody>\n",
       "</table>\n",
       "</div>"
      ],
      "text/plain": [
       "     titleId  ordering                      title region language  \\\n",
       "0  tt0000001         1                 Карменсіта     UA       \\N   \n",
       "1  tt0000001         2                 Carmencita     DE       \\N   \n",
       "2  tt0000001         3  Carmencita - spanyol tánc     HU       \\N   \n",
       "3  tt0000001         4                 Καρμενσίτα     GR       \\N   \n",
       "4  tt0000001         5                 Карменсита     RU       \\N   \n",
       "\n",
       "         types     attributes isOriginalTitle  \n",
       "0  imdbDisplay             \\N               0  \n",
       "1           \\N  literal title               0  \n",
       "2  imdbDisplay             \\N               0  \n",
       "3  imdbDisplay             \\N               0  \n",
       "4  imdbDisplay             \\N               0  "
      ]
     },
     "execution_count": 303,
     "metadata": {},
     "output_type": "execute_result"
    }
   ],
   "source": [
    "titleAkas_df.head()"
   ]
  },
  {
   "cell_type": "code",
   "execution_count": 304,
   "metadata": {},
   "outputs": [
    {
     "data": {
      "text/plain": [
       "titleId              object\n",
       "ordering              uint8\n",
       "title                object\n",
       "region             category\n",
       "language           category\n",
       "types              category\n",
       "attributes         category\n",
       "isOriginalTitle      object\n",
       "dtype: object"
      ]
     },
     "execution_count": 304,
     "metadata": {},
     "output_type": "execute_result"
    }
   ],
   "source": [
    "#checking data types\n",
    "titleAkas_df.dtypes"
   ]
  },
  {
   "cell_type": "code",
   "execution_count": 305,
   "metadata": {},
   "outputs": [
    {
     "name": "stdout",
     "output_type": "stream",
     "text": [
      "number of duplicate rows:  (0, 8)\n"
     ]
    }
   ],
   "source": [
    "#checking for duplicate rows in titleAkas_df and dropping if any exist\n",
    "duplicate_Akasrows_df = titleAkas_df[titleAkas_df.duplicated()]\n",
    "print(\"number of duplicate rows: \", duplicate_Akasrows_df.shape)\n",
    "\n",
    "#titleAkas_df = titleAkas_df.drop_duplicates()"
   ]
  },
  {
   "cell_type": "code",
   "execution_count": 306,
   "metadata": {},
   "outputs": [
    {
     "data": {
      "text/plain": [
       "(23854591, 8)"
      ]
     },
     "execution_count": 306,
     "metadata": {},
     "output_type": "execute_result"
    }
   ],
   "source": [
    "titleAkas_df.shape"
   ]
  },
  {
   "cell_type": "code",
   "execution_count": 307,
   "metadata": {},
   "outputs": [
    {
     "data": {
      "text/plain": [
       "(array([ 0,  1,  2,  3,  4,  5,  6,  7,  8,  9, 10, 11, 12, 13, 14, 15, 16,\n",
       "        17, 18, 19, 20, 21, 22, 23, 24]),\n",
       " <a list of 25 Text xticklabel objects>)"
      ]
     },
     "execution_count": 307,
     "metadata": {},
     "output_type": "execute_result"
    },
    {
     "data": {
      "image/png": "[encoded data removed]",
      "text/plain": [
       "<Figure size 432x288 with 1 Axes>"
      ]
     },
     "metadata": {
      "needs_background": "light"
     },
     "output_type": "display_data"
    }
   ],
   "source": [
    "sns.countplot(x='types', data=titleAkas_df)\n",
    "plt.xticks(rotation=90)"
   ]
  },
  {
   "cell_type": "code",
   "execution_count": 308,
   "metadata": {},
   "outputs": [
    {
     "data": {
      "text/plain": [
       "(array([  0,   1,   2,   3,   4,   5,   6,   7,   8,   9,  10,  11,  12,\n",
       "         13,  14,  15,  16,  17,  18,  19,  20,  21,  22,  23,  24,  25,\n",
       "         26,  27,  28,  29,  30,  31,  32,  33,  34,  35,  36,  37,  38,\n",
       "         39,  40,  41,  42,  43,  44,  45,  46,  47,  48,  49,  50,  51,\n",
       "         52,  53,  54,  55,  56,  57,  58,  59,  60,  61,  62,  63,  64,\n",
       "         65,  66,  67,  68,  69,  70,  71,  72,  73,  74,  75,  76,  77,\n",
       "         78,  79,  80,  81,  82,  83,  84,  85,  86,  87,  88,  89,  90,\n",
       "         91,  92,  93,  94,  95,  96,  97,  98,  99, 100, 101, 102, 103,\n",
       "        104, 105, 106, 107, 108, 109, 110, 111, 112, 113, 114, 115, 116,\n",
       "        117, 118, 119, 120, 121, 122, 123, 124, 125, 126, 127, 128, 129,\n",
       "        130, 131, 132, 133, 134, 135, 136, 137, 138, 139, 140, 141, 142,\n",
       "        143, 144, 145, 146, 147, 148, 149, 150, 151, 152, 153, 154, 155,\n",
       "        156, 157, 158, 159, 160, 161, 162, 163, 164, 165, 166, 167, 168,\n",
       "        169, 170, 171, 172, 173, 174, 175, 176, 177, 178, 179, 180, 181,\n",
       "        182, 183, 184, 185, 186, 187, 188]),\n",
       " <a list of 189 Text xticklabel objects>)"
      ]
     },
     "execution_count": 308,
     "metadata": {},
     "output_type": "execute_result"
    },
    {
     "data": {
      "image/png": "[encoded data removed]",
      "text/plain": [
       "<Figure size 432x288 with 1 Axes>"
      ]
     },
     "metadata": {
      "needs_background": "light"
     },
     "output_type": "display_data"
    }
   ],
   "source": [
    "sns.countplot(x='attributes', data=titleAkas_df)\n",
    "plt.xticks(rotation=90)"
   ]
  },
  {
   "cell_type": "code",
   "execution_count": 309,
   "metadata": {},
   "outputs": [
    {
     "data": {
      "text/plain": [
       "2629.0"
      ]
     },
     "execution_count": 309,
     "metadata": {},
     "output_type": "execute_result"
    }
   ],
   "source": [
    "titleAkas_df.title.str.count(\"\\\\\\\\N\").sum()"
   ]
  },
  {
   "cell_type": "code",
   "execution_count": 310,
   "metadata": {},
   "outputs": [
    {
     "data": {
      "text/plain": [
       "579851.0"
      ]
     },
     "execution_count": 310,
     "metadata": {},
     "output_type": "execute_result"
    }
   ],
   "source": [
    "titleAkas_df.region.str.count(\"\\\\\\\\N\").sum()"
   ]
  },
  {
   "cell_type": "code",
   "execution_count": 311,
   "metadata": {},
   "outputs": [
    {
     "data": {
      "text/plain": [
       "4111171"
      ]
     },
     "execution_count": 311,
     "metadata": {},
     "output_type": "execute_result"
    }
   ],
   "source": [
    "titleAkas_df.language.str.count(\"\\\\\\\\N\").sum()"
   ]
  },
  {
   "cell_type": "code",
   "execution_count": 312,
   "metadata": {},
   "outputs": [
    {
     "data": {
      "text/plain": [
       "21999072"
      ]
     },
     "execution_count": 312,
     "metadata": {},
     "output_type": "execute_result"
    }
   ],
   "source": [
    "titleAkas_df.types.str.count(\"\\\\\\\\N\").sum()"
   ]
  },
  {
   "cell_type": "code",
   "execution_count": 313,
   "metadata": {},
   "outputs": [
    {
     "data": {
      "text/plain": [
       "23645673"
      ]
     },
     "execution_count": 313,
     "metadata": {},
     "output_type": "execute_result"
    }
   ],
   "source": [
    "titleAkas_df.attributes.str.count(\"\\\\\\\\N\").sum()"
   ]
  },
  {
   "cell_type": "code",
   "execution_count": 314,
   "metadata": {},
   "outputs": [
    {
     "data": {
      "text/plain": [
       "2189"
      ]
     },
     "execution_count": 314,
     "metadata": {},
     "output_type": "execute_result"
    }
   ],
   "source": [
    "titleAkas_df.isOriginalTitle.str.count(\"\\\\\\\\N\").sum()"
   ]
  },
  {
   "cell_type": "code",
   "execution_count": 315,
   "metadata": {},
   "outputs": [
    {
     "data": {
      "text/html": [
       "<div>\n",
       "<style scoped>\n",
       "    .dataframe tbody tr th:only-of-type {\n",
       "        vertical-align: middle;\n",
       "    }\n",
       "\n",
       "    .dataframe tbody tr th {\n",
       "        vertical-align: top;\n",
       "    }\n",
       "\n",
       "    .dataframe thead th {\n",
       "        text-align: right;\n",
       "    }\n",
       "</style>\n",
       "<table border=\"1\" class=\"dataframe\">\n",
       "  <thead>\n",
       "    <tr style=\"text-align: right;\">\n",
       "      <th></th>\n",
       "      <th>titleId</th>\n",
       "      <th>ordering</th>\n",
       "      <th>title</th>\n",
       "      <th>region</th>\n",
       "      <th>isOriginalTitle</th>\n",
       "    </tr>\n",
       "  </thead>\n",
       "  <tbody>\n",
       "    <tr>\n",
       "      <th>0</th>\n",
       "      <td>tt0000001</td>\n",
       "      <td>1</td>\n",
       "      <td>Карменсіта</td>\n",
       "      <td>UA</td>\n",
       "      <td>0</td>\n",
       "    </tr>\n",
       "    <tr>\n",
       "      <th>1</th>\n",
       "      <td>tt0000001</td>\n",
       "      <td>2</td>\n",
       "      <td>Carmencita</td>\n",
       "      <td>DE</td>\n",
       "      <td>0</td>\n",
       "    </tr>\n",
       "    <tr>\n",
       "      <th>2</th>\n",
       "      <td>tt0000001</td>\n",
       "      <td>3</td>\n",
       "      <td>Carmencita - spanyol tánc</td>\n",
       "      <td>HU</td>\n",
       "      <td>0</td>\n",
       "    </tr>\n",
       "    <tr>\n",
       "      <th>3</th>\n",
       "      <td>tt0000001</td>\n",
       "      <td>4</td>\n",
       "      <td>Καρμενσίτα</td>\n",
       "      <td>GR</td>\n",
       "      <td>0</td>\n",
       "    </tr>\n",
       "    <tr>\n",
       "      <th>4</th>\n",
       "      <td>tt0000001</td>\n",
       "      <td>5</td>\n",
       "      <td>Карменсита</td>\n",
       "      <td>RU</td>\n",
       "      <td>0</td>\n",
       "    </tr>\n",
       "  </tbody>\n",
       "</table>\n",
       "</div>"
      ],
      "text/plain": [
       "     titleId  ordering                      title region isOriginalTitle\n",
       "0  tt0000001         1                 Карменсіта     UA               0\n",
       "1  tt0000001         2                 Carmencita     DE               0\n",
       "2  tt0000001         3  Carmencita - spanyol tánc     HU               0\n",
       "3  tt0000001         4                 Καρμενσίτα     GR               0\n",
       "4  tt0000001         5                 Карменсита     RU               0"
      ]
     },
     "execution_count": 315,
     "metadata": {},
     "output_type": "execute_result"
    }
   ],
   "source": [
    "#dropping irrelevant columns \n",
    "titleAkas_df = titleAkas_df.drop(['types','attributes','language'],axis=1)\n",
    "titleAkas_df.head()"
   ]
  },
  {
   "cell_type": "code",
   "execution_count": 316,
   "metadata": {},
   "outputs": [],
   "source": [
    "#Checking how many unique values are in region column\n",
    "#titleAkas_df.region.unique()"
   ]
  },
  {
   "cell_type": "code",
   "execution_count": 317,
   "metadata": {},
   "outputs": [],
   "source": [
    "#Removing rows that have region value \"\\\\\\\\N\" and isOriginalTitle value \"0\"\n",
    "#for ind in titleAkas_df.index:\n",
    "#    if titleAkas_df.region.str == \"\\\\\\\\N\":  \n",
    "#        if titleAkas_df.isOriginalTitle.str == '0': \n",
    "#            titleAkas_df.drop(titleAkas_df.index[ind])\n",
    "#            break\n",
    "#        else:\n",
    "            \n",
    "#    else:\n",
    "        "
   ]
  },
  {
   "cell_type": "code",
   "execution_count": 318,
   "metadata": {},
   "outputs": [],
   "source": [
    "#titleAkas_df.shape"
   ]
  },
  {
   "cell_type": "code",
   "execution_count": 319,
   "metadata": {},
   "outputs": [],
   "source": [
    "#Assigning rows with isOriginalTitle value \"1\" to a new dataframe\n",
    "#isOriginal_df = titleAkas_df[titleAkas_df.isOriginalTitle=='1'] \n",
    "#isOriginal_df"
   ]
  },
  {
   "cell_type": "code",
   "execution_count": 320,
   "metadata": {},
   "outputs": [],
   "source": [
    "#isOriginal_df.shape"
   ]
  },
  {
   "cell_type": "code",
   "execution_count": 321,
   "metadata": {},
   "outputs": [],
   "source": [
    "#isOriginal_df.region.str.count(\"\\\\\\\\N\").sum()"
   ]
  },
  {
   "cell_type": "markdown",
   "metadata": {},
   "source": [
    "## Loading title.basics.tsv file into a DataFrame for inspection and transformation"
   ]
  },
  {
   "cell_type": "code",
   "execution_count": 322,
   "metadata": {},
   "outputs": [],
   "source": [
    "#read title.basics.tsv file from s3 bucket and loading data into dataframe\n",
    "titleBasics_df = pd.read_csv(\"s3://mlmovieinfofiles/title.basics.tsv\", sep='\\t', dtype={'isAdult':'uint8', 'startYear':'category', 'endYear':'category','genres':'object'})"
   ]
  },
  {
   "cell_type": "code",
   "execution_count": 323,
   "metadata": {},
   "outputs": [
    {
     "data": {
      "text/html": [
       "<div>\n",
       "<style scoped>\n",
       "    .dataframe tbody tr th:only-of-type {\n",
       "        vertical-align: middle;\n",
       "    }\n",
       "\n",
       "    .dataframe tbody tr th {\n",
       "        vertical-align: top;\n",
       "    }\n",
       "\n",
       "    .dataframe thead th {\n",
       "        text-align: right;\n",
       "    }\n",
       "</style>\n",
       "<table border=\"1\" class=\"dataframe\">\n",
       "  <thead>\n",
       "    <tr style=\"text-align: right;\">\n",
       "      <th></th>\n",
       "      <th>tconst</th>\n",
       "      <th>titleType</th>\n",
       "      <th>primaryTitle</th>\n",
       "      <th>originalTitle</th>\n",
       "      <th>isAdult</th>\n",
       "      <th>startYear</th>\n",
       "      <th>endYear</th>\n",
       "      <th>runtimeMinutes</th>\n",
       "      <th>genres</th>\n",
       "    </tr>\n",
       "  </thead>\n",
       "  <tbody>\n",
       "    <tr>\n",
       "      <th>0</th>\n",
       "      <td>tt0000001</td>\n",
       "      <td>short</td>\n",
       "      <td>Carmencita</td>\n",
       "      <td>Carmencita</td>\n",
       "      <td>0</td>\n",
       "      <td>1894</td>\n",
       "      <td>\\N</td>\n",
       "      <td>1</td>\n",
       "      <td>Documentary,Short</td>\n",
       "    </tr>\n",
       "    <tr>\n",
       "      <th>1</th>\n",
       "      <td>tt0000002</td>\n",
       "      <td>short</td>\n",
       "      <td>Le clown et ses chiens</td>\n",
       "      <td>Le clown et ses chiens</td>\n",
       "      <td>0</td>\n",
       "      <td>1892</td>\n",
       "      <td>\\N</td>\n",
       "      <td>5</td>\n",
       "      <td>Animation,Short</td>\n",
       "    </tr>\n",
       "    <tr>\n",
       "      <th>2</th>\n",
       "      <td>tt0000003</td>\n",
       "      <td>short</td>\n",
       "      <td>Pauvre Pierrot</td>\n",
       "      <td>Pauvre Pierrot</td>\n",
       "      <td>0</td>\n",
       "      <td>1892</td>\n",
       "      <td>\\N</td>\n",
       "      <td>4</td>\n",
       "      <td>Animation,Comedy,Romance</td>\n",
       "    </tr>\n",
       "    <tr>\n",
       "      <th>3</th>\n",
       "      <td>tt0000004</td>\n",
       "      <td>short</td>\n",
       "      <td>Un bon bock</td>\n",
       "      <td>Un bon bock</td>\n",
       "      <td>0</td>\n",
       "      <td>1892</td>\n",
       "      <td>\\N</td>\n",
       "      <td>12</td>\n",
       "      <td>Animation,Short</td>\n",
       "    </tr>\n",
       "    <tr>\n",
       "      <th>4</th>\n",
       "      <td>tt0000005</td>\n",
       "      <td>short</td>\n",
       "      <td>Blacksmith Scene</td>\n",
       "      <td>Blacksmith Scene</td>\n",
       "      <td>0</td>\n",
       "      <td>1893</td>\n",
       "      <td>\\N</td>\n",
       "      <td>1</td>\n",
       "      <td>Comedy,Short</td>\n",
       "    </tr>\n",
       "  </tbody>\n",
       "</table>\n",
       "</div>"
      ],
      "text/plain": [
       "      tconst titleType            primaryTitle           originalTitle  \\\n",
       "0  tt0000001     short              Carmencita              Carmencita   \n",
       "1  tt0000002     short  Le clown et ses chiens  Le clown et ses chiens   \n",
       "2  tt0000003     short          Pauvre Pierrot          Pauvre Pierrot   \n",
       "3  tt0000004     short             Un bon bock             Un bon bock   \n",
       "4  tt0000005     short        Blacksmith Scene        Blacksmith Scene   \n",
       "\n",
       "   isAdult startYear endYear runtimeMinutes                    genres  \n",
       "0        0      1894      \\N              1         Documentary,Short  \n",
       "1        0      1892      \\N              5           Animation,Short  \n",
       "2        0      1892      \\N              4  Animation,Comedy,Romance  \n",
       "3        0      1892      \\N             12           Animation,Short  \n",
       "4        0      1893      \\N              1              Comedy,Short  "
      ]
     },
     "execution_count": 323,
     "metadata": {},
     "output_type": "execute_result"
    }
   ],
   "source": [
    "titleBasics_df.head()"
   ]
  },
  {
   "cell_type": "code",
   "execution_count": 324,
   "metadata": {},
   "outputs": [
    {
     "data": {
      "text/plain": [
       "tconst              object\n",
       "titleType           object\n",
       "primaryTitle        object\n",
       "originalTitle       object\n",
       "isAdult              uint8\n",
       "startYear         category\n",
       "endYear           category\n",
       "runtimeMinutes      object\n",
       "genres              object\n",
       "dtype: object"
      ]
     },
     "execution_count": 324,
     "metadata": {},
     "output_type": "execute_result"
    }
   ],
   "source": [
    "#checking data types\n",
    "titleBasics_df.dtypes"
   ]
  },
  {
   "cell_type": "code",
   "execution_count": 325,
   "metadata": {},
   "outputs": [],
   "source": [
    "#renaming confusing column names\n",
    "titleBasics_df = titleBasics_df.rename(columns={'tconst': 'titleId'})"
   ]
  },
  {
   "cell_type": "code",
   "execution_count": 326,
   "metadata": {},
   "outputs": [
    {
     "name": "stdout",
     "output_type": "stream",
     "text": [
      "number of duplicate rows:  (0, 9)\n"
     ]
    }
   ],
   "source": [
    "#check for duplicate rows in titleBasics_df and dropping if any exist\n",
    "duplicate_Basicsrows_df = titleBasics_df[titleBasics_df.duplicated()]\n",
    "print(\"number of duplicate rows: \", duplicate_Basicsrows_df.shape)\n",
    "\n",
    "#titleBasics_df = titleBasics_df.drop_duplicates()"
   ]
  },
  {
   "cell_type": "code",
   "execution_count": 327,
   "metadata": {},
   "outputs": [
    {
     "data": {
      "text/plain": [
       "(7270373, 9)"
      ]
     },
     "execution_count": 327,
     "metadata": {},
     "output_type": "execute_result"
    }
   ],
   "source": [
    "titleBasics_df.shape"
   ]
  },
  {
   "cell_type": "code",
   "execution_count": 328,
   "metadata": {},
   "outputs": [
    {
     "data": {
      "text/plain": [
       "(array([0, 1, 2, 3, 4, 5, 6, 7, 8, 9]), <a list of 10 Text xticklabel objects>)"
      ]
     },
     "execution_count": 328,
     "metadata": {},
     "output_type": "execute_result"
    },
    {
     "data": {
      "image/png": "[encoded data removed]",
      "text/plain": [
       "<Figure size 432x288 with 1 Axes>"
      ]
     },
     "metadata": {
      "needs_background": "light"
     },
     "output_type": "display_data"
    }
   ],
   "source": [
    "sns.countplot(x='titleType', data=titleBasics_df)\n",
    "plt.xticks(rotation=90)"
   ]
  },
  {
   "cell_type": "code",
   "execution_count": 329,
   "metadata": {},
   "outputs": [
    {
     "data": {
      "text/plain": [
       "(array([ 0,  1,  2,  3,  4,  5,  6,  7,  8,  9, 10, 11, 12, 13, 14, 15, 16,\n",
       "        17, 18, 19, 20, 21, 22, 23, 24, 25, 26, 27, 28, 29, 30, 31, 32, 33,\n",
       "        34, 35, 36, 37, 38, 39, 40, 41, 42, 43, 44, 45, 46, 47, 48, 49, 50,\n",
       "        51, 52, 53, 54, 55, 56, 57, 58, 59, 60, 61, 62, 63, 64, 65, 66, 67,\n",
       "        68, 69, 70, 71, 72, 73, 74, 75, 76, 77, 78, 79, 80, 81, 82, 83, 84,\n",
       "        85, 86, 87, 88, 89, 90, 91, 92, 93, 94]),\n",
       " <a list of 95 Text xticklabel objects>)"
      ]
     },
     "execution_count": 329,
     "metadata": {},
     "output_type": "execute_result"
    },
    {
     "data": {
      "image/png": "[encoded data removed]",
      "text/plain": [
       "<Figure size 432x288 with 1 Axes>"
      ]
     },
     "metadata": {
      "needs_background": "light"
     },
     "output_type": "display_data"
    }
   ],
   "source": [
    "sns.countplot(x='endYear', data=titleBasics_df)\n",
    "plt.xticks(rotation=90)"
   ]
  },
  {
   "cell_type": "code",
   "execution_count": 330,
   "metadata": {},
   "outputs": [
    {
     "data": {
      "text/plain": [
       "(array([  0,   1,   2,   3,   4,   5,   6,   7,   8,   9,  10,  11,  12,\n",
       "         13,  14,  15,  16,  17,  18,  19,  20,  21,  22,  23,  24,  25,\n",
       "         26,  27,  28,  29,  30,  31,  32,  33,  34,  35,  36,  37,  38,\n",
       "         39,  40,  41,  42,  43,  44,  45,  46,  47,  48,  49,  50,  51,\n",
       "         52,  53,  54,  55,  56,  57,  58,  59,  60,  61,  62,  63,  64,\n",
       "         65,  66,  67,  68,  69,  70,  71,  72,  73,  74,  75,  76,  77,\n",
       "         78,  79,  80,  81,  82,  83,  84,  85,  86,  87,  88,  89,  90,\n",
       "         91,  92,  93,  94,  95,  96,  97,  98,  99, 100, 101, 102, 103,\n",
       "        104, 105, 106, 107, 108, 109, 110, 111, 112, 113, 114, 115, 116,\n",
       "        117, 118, 119, 120, 121, 122, 123, 124, 125, 126, 127, 128, 129,\n",
       "        130, 131, 132, 133, 134, 135, 136, 137, 138, 139, 140, 141, 142,\n",
       "        143, 144, 145, 146, 147, 148, 149, 150, 151, 152, 153, 154, 155,\n",
       "        156, 157, 158, 159, 160, 161, 162, 163, 164, 165, 166, 167, 168,\n",
       "        169, 170, 171, 172, 173, 174, 175, 176, 177, 178, 179, 180, 181,\n",
       "        182, 183, 184, 185, 186, 187, 188, 189, 190, 191, 192, 193, 194,\n",
       "        195, 196, 197, 198, 199, 200, 201, 202, 203, 204, 205, 206, 207,\n",
       "        208, 209, 210, 211, 212, 213, 214, 215, 216, 217, 218, 219, 220,\n",
       "        221, 222, 223, 224, 225, 226, 227, 228, 229, 230, 231, 232, 233,\n",
       "        234, 235, 236, 237, 238, 239, 240, 241, 242, 243, 244, 245, 246,\n",
       "        247, 248, 249, 250, 251, 252, 253, 254, 255, 256, 257, 258, 259,\n",
       "        260, 261, 262, 263, 264, 265, 266, 267, 268, 269, 270, 271, 272,\n",
       "        273, 274, 275, 276, 277, 278, 279, 280, 281, 282, 283, 284, 285,\n",
       "        286, 287, 288, 289, 290, 291, 292, 293, 294, 295, 296, 297, 298,\n",
       "        299, 300, 301, 302, 303, 304, 305, 306, 307, 308, 309, 310, 311,\n",
       "        312, 313, 314, 315, 316, 317, 318, 319, 320, 321, 322, 323, 324,\n",
       "        325, 326, 327, 328, 329, 330, 331, 332, 333, 334, 335, 336, 337,\n",
       "        338, 339, 340, 341, 342, 343, 344, 345, 346, 347, 348, 349, 350,\n",
       "        351, 352, 353, 354, 355, 356, 357, 358, 359, 360, 361, 362, 363,\n",
       "        364, 365, 366, 367, 368, 369, 370, 371, 372, 373, 374, 375, 376,\n",
       "        377, 378, 379, 380, 381, 382, 383, 384, 385, 386, 387, 388, 389,\n",
       "        390, 391, 392, 393, 394, 395, 396, 397, 398, 399, 400, 401, 402,\n",
       "        403, 404, 405, 406, 407, 408, 409, 410, 411, 412, 413, 414, 415,\n",
       "        416, 417, 418, 419, 420, 421, 422, 423, 424, 425, 426, 427, 428,\n",
       "        429, 430, 431, 432, 433, 434, 435, 436, 437, 438, 439, 440, 441,\n",
       "        442, 443, 444, 445, 446, 447, 448, 449, 450, 451, 452, 453, 454,\n",
       "        455, 456, 457, 458, 459, 460, 461, 462, 463, 464, 465, 466, 467,\n",
       "        468, 469, 470, 471, 472, 473, 474, 475, 476, 477, 478, 479, 480,\n",
       "        481, 482, 483, 484, 485, 486, 487, 488, 489, 490, 491, 492, 493,\n",
       "        494, 495, 496, 497, 498, 499, 500, 501, 502, 503, 504, 505, 506,\n",
       "        507, 508, 509, 510, 511, 512, 513, 514, 515, 516, 517, 518, 519,\n",
       "        520, 521, 522, 523, 524, 525, 526, 527, 528, 529, 530, 531, 532,\n",
       "        533, 534, 535, 536, 537, 538, 539, 540, 541, 542, 543, 544, 545,\n",
       "        546, 547, 548, 549, 550, 551, 552, 553, 554, 555, 556, 557, 558,\n",
       "        559, 560, 561, 562, 563, 564, 565, 566, 567, 568, 569, 570, 571,\n",
       "        572, 573, 574, 575, 576, 577, 578, 579, 580, 581, 582, 583, 584,\n",
       "        585, 586, 587, 588, 589, 590, 591, 592, 593, 594, 595, 596, 597,\n",
       "        598, 599, 600, 601, 602, 603, 604, 605, 606, 607, 608, 609, 610,\n",
       "        611, 612, 613, 614, 615, 616, 617, 618, 619, 620, 621, 622, 623,\n",
       "        624, 625, 626, 627, 628, 629, 630, 631, 632, 633, 634, 635, 636,\n",
       "        637, 638, 639, 640, 641, 642, 643, 644, 645, 646, 647, 648, 649,\n",
       "        650, 651, 652, 653, 654, 655, 656, 657, 658, 659, 660, 661, 662,\n",
       "        663, 664, 665, 666, 667, 668, 669, 670, 671, 672, 673, 674, 675,\n",
       "        676, 677, 678, 679, 680, 681, 682, 683, 684, 685, 686, 687, 688,\n",
       "        689, 690, 691, 692, 693, 694, 695, 696, 697, 698, 699, 700, 701,\n",
       "        702, 703, 704, 705, 706, 707, 708, 709, 710, 711, 712, 713, 714,\n",
       "        715, 716, 717, 718, 719, 720, 721, 722, 723, 724, 725, 726, 727,\n",
       "        728, 729, 730, 731, 732, 733, 734, 735, 736, 737, 738, 739, 740,\n",
       "        741, 742, 743, 744, 745, 746, 747, 748, 749, 750, 751, 752, 753,\n",
       "        754, 755, 756, 757, 758, 759, 760, 761, 762, 763, 764, 765, 766,\n",
       "        767, 768, 769, 770, 771, 772, 773, 774, 775, 776, 777, 778, 779,\n",
       "        780, 781, 782, 783, 784, 785, 786, 787, 788, 789, 790, 791, 792,\n",
       "        793, 794, 795, 796, 797, 798, 799, 800, 801, 802, 803, 804, 805,\n",
       "        806, 807, 808, 809, 810, 811, 812, 813, 814, 815, 816, 817, 818,\n",
       "        819, 820, 821, 822, 823, 824]),\n",
       " <a list of 825 Text xticklabel objects>)"
      ]
     },
     "execution_count": 330,
     "metadata": {},
     "output_type": "execute_result"
    },
    {
     "data": {
      "image/png": "[encoded data removed]",
      "text/plain": [
       "<Figure size 432x288 with 1 Axes>"
      ]
     },
     "metadata": {
      "needs_background": "light"
     },
     "output_type": "display_data"
    }
   ],
   "source": [
    "sns.countplot(x='runtimeMinutes', data=titleBasics_df)\n",
    "plt.xticks(rotation=90)"
   ]
  },
  {
   "cell_type": "code",
   "execution_count": 331,
   "metadata": {},
   "outputs": [
    {
     "data": {
      "text/plain": [
       "651099"
      ]
     },
     "execution_count": 331,
     "metadata": {},
     "output_type": "execute_result"
    }
   ],
   "source": [
    "titleBasics_df.startYear.str.count(\"\\\\\\\\N\").sum()"
   ]
  },
  {
   "cell_type": "code",
   "execution_count": 332,
   "metadata": {},
   "outputs": [
    {
     "data": {
      "text/plain": [
       "7203612"
      ]
     },
     "execution_count": 332,
     "metadata": {},
     "output_type": "execute_result"
    }
   ],
   "source": [
    "titleBasics_df.endYear.str.count(\"\\\\\\\\N\").sum()"
   ]
  },
  {
   "cell_type": "code",
   "execution_count": 333,
   "metadata": {},
   "outputs": [
    {
     "data": {
      "text/plain": [
       "5204153"
      ]
     },
     "execution_count": 333,
     "metadata": {},
     "output_type": "execute_result"
    }
   ],
   "source": [
    "titleBasics_df.runtimeMinutes.str.count(\"\\\\\\\\N\").sum()"
   ]
  },
  {
   "cell_type": "code",
   "execution_count": 334,
   "metadata": {},
   "outputs": [
    {
     "data": {
      "text/plain": [
       "569555.0"
      ]
     },
     "execution_count": 334,
     "metadata": {},
     "output_type": "execute_result"
    }
   ],
   "source": [
    "titleBasics_df.genres.str.count(\"\\\\\\\\N\").sum()"
   ]
  },
  {
   "cell_type": "code",
   "execution_count": 335,
   "metadata": {},
   "outputs": [
    {
     "data": {
      "text/html": [
       "<div>\n",
       "<style scoped>\n",
       "    .dataframe tbody tr th:only-of-type {\n",
       "        vertical-align: middle;\n",
       "    }\n",
       "\n",
       "    .dataframe tbody tr th {\n",
       "        vertical-align: top;\n",
       "    }\n",
       "\n",
       "    .dataframe thead th {\n",
       "        text-align: right;\n",
       "    }\n",
       "</style>\n",
       "<table border=\"1\" class=\"dataframe\">\n",
       "  <thead>\n",
       "    <tr style=\"text-align: right;\">\n",
       "      <th></th>\n",
       "      <th>titleId</th>\n",
       "      <th>titleType</th>\n",
       "      <th>primaryTitle</th>\n",
       "      <th>originalTitle</th>\n",
       "      <th>isAdult</th>\n",
       "      <th>startYear</th>\n",
       "      <th>genres</th>\n",
       "    </tr>\n",
       "  </thead>\n",
       "  <tbody>\n",
       "    <tr>\n",
       "      <th>0</th>\n",
       "      <td>tt0000001</td>\n",
       "      <td>short</td>\n",
       "      <td>Carmencita</td>\n",
       "      <td>Carmencita</td>\n",
       "      <td>0</td>\n",
       "      <td>1894</td>\n",
       "      <td>Documentary,Short</td>\n",
       "    </tr>\n",
       "    <tr>\n",
       "      <th>1</th>\n",
       "      <td>tt0000002</td>\n",
       "      <td>short</td>\n",
       "      <td>Le clown et ses chiens</td>\n",
       "      <td>Le clown et ses chiens</td>\n",
       "      <td>0</td>\n",
       "      <td>1892</td>\n",
       "      <td>Animation,Short</td>\n",
       "    </tr>\n",
       "    <tr>\n",
       "      <th>2</th>\n",
       "      <td>tt0000003</td>\n",
       "      <td>short</td>\n",
       "      <td>Pauvre Pierrot</td>\n",
       "      <td>Pauvre Pierrot</td>\n",
       "      <td>0</td>\n",
       "      <td>1892</td>\n",
       "      <td>Animation,Comedy,Romance</td>\n",
       "    </tr>\n",
       "    <tr>\n",
       "      <th>3</th>\n",
       "      <td>tt0000004</td>\n",
       "      <td>short</td>\n",
       "      <td>Un bon bock</td>\n",
       "      <td>Un bon bock</td>\n",
       "      <td>0</td>\n",
       "      <td>1892</td>\n",
       "      <td>Animation,Short</td>\n",
       "    </tr>\n",
       "    <tr>\n",
       "      <th>4</th>\n",
       "      <td>tt0000005</td>\n",
       "      <td>short</td>\n",
       "      <td>Blacksmith Scene</td>\n",
       "      <td>Blacksmith Scene</td>\n",
       "      <td>0</td>\n",
       "      <td>1893</td>\n",
       "      <td>Comedy,Short</td>\n",
       "    </tr>\n",
       "  </tbody>\n",
       "</table>\n",
       "</div>"
      ],
      "text/plain": [
       "     titleId titleType            primaryTitle           originalTitle  \\\n",
       "0  tt0000001     short              Carmencita              Carmencita   \n",
       "1  tt0000002     short  Le clown et ses chiens  Le clown et ses chiens   \n",
       "2  tt0000003     short          Pauvre Pierrot          Pauvre Pierrot   \n",
       "3  tt0000004     short             Un bon bock             Un bon bock   \n",
       "4  tt0000005     short        Blacksmith Scene        Blacksmith Scene   \n",
       "\n",
       "   isAdult startYear                    genres  \n",
       "0        0      1894         Documentary,Short  \n",
       "1        0      1892           Animation,Short  \n",
       "2        0      1892  Animation,Comedy,Romance  \n",
       "3        0      1892           Animation,Short  \n",
       "4        0      1893              Comedy,Short  "
      ]
     },
     "execution_count": 335,
     "metadata": {},
     "output_type": "execute_result"
    }
   ],
   "source": [
    "#dropping irrelevant columns \n",
    "titleBasics_df = titleBasics_df.drop(['endYear','runtimeMinutes'],axis=1)\n",
    "titleBasics_df.head()"
   ]
  },
  {
   "cell_type": "markdown",
   "metadata": {},
   "source": [
    "## Loading title.ratings.tsv file into a DataFrame for inspection and transformation"
   ]
  },
  {
   "cell_type": "code",
   "execution_count": 336,
   "metadata": {},
   "outputs": [],
   "source": [
    "#read title.ratings.tsv file from s3 bucket and loading data into dataframe\n",
    "titleRatings_df = pd.read_csv(\"s3://mlmovieinfofiles/title.ratings.tsv\", sep='\\t')"
   ]
  },
  {
   "cell_type": "code",
   "execution_count": 337,
   "metadata": {},
   "outputs": [
    {
     "data": {
      "text/html": [
       "<div>\n",
       "<style scoped>\n",
       "    .dataframe tbody tr th:only-of-type {\n",
       "        vertical-align: middle;\n",
       "    }\n",
       "\n",
       "    .dataframe tbody tr th {\n",
       "        vertical-align: top;\n",
       "    }\n",
       "\n",
       "    .dataframe thead th {\n",
       "        text-align: right;\n",
       "    }\n",
       "</style>\n",
       "<table border=\"1\" class=\"dataframe\">\n",
       "  <thead>\n",
       "    <tr style=\"text-align: right;\">\n",
       "      <th></th>\n",
       "      <th>tconst</th>\n",
       "      <th>averageRating</th>\n",
       "      <th>numVotes</th>\n",
       "    </tr>\n",
       "  </thead>\n",
       "  <tbody>\n",
       "    <tr>\n",
       "      <th>0</th>\n",
       "      <td>tt0000001</td>\n",
       "      <td>5.6</td>\n",
       "      <td>1652</td>\n",
       "    </tr>\n",
       "    <tr>\n",
       "      <th>1</th>\n",
       "      <td>tt0000002</td>\n",
       "      <td>6.1</td>\n",
       "      <td>199</td>\n",
       "    </tr>\n",
       "    <tr>\n",
       "      <th>2</th>\n",
       "      <td>tt0000003</td>\n",
       "      <td>6.5</td>\n",
       "      <td>1363</td>\n",
       "    </tr>\n",
       "    <tr>\n",
       "      <th>3</th>\n",
       "      <td>tt0000004</td>\n",
       "      <td>6.2</td>\n",
       "      <td>121</td>\n",
       "    </tr>\n",
       "    <tr>\n",
       "      <th>4</th>\n",
       "      <td>tt0000005</td>\n",
       "      <td>6.2</td>\n",
       "      <td>2148</td>\n",
       "    </tr>\n",
       "  </tbody>\n",
       "</table>\n",
       "</div>"
      ],
      "text/plain": [
       "      tconst  averageRating  numVotes\n",
       "0  tt0000001            5.6      1652\n",
       "1  tt0000002            6.1       199\n",
       "2  tt0000003            6.5      1363\n",
       "3  tt0000004            6.2       121\n",
       "4  tt0000005            6.2      2148"
      ]
     },
     "execution_count": 337,
     "metadata": {},
     "output_type": "execute_result"
    }
   ],
   "source": [
    "titleRatings_df.head()"
   ]
  },
  {
   "cell_type": "code",
   "execution_count": 338,
   "metadata": {},
   "outputs": [
    {
     "data": {
      "text/plain": [
       "tconst            object\n",
       "averageRating    float64\n",
       "numVotes           int64\n",
       "dtype: object"
      ]
     },
     "execution_count": 338,
     "metadata": {},
     "output_type": "execute_result"
    }
   ],
   "source": [
    "#checking data types\n",
    "titleRatings_df.dtypes"
   ]
  },
  {
   "cell_type": "code",
   "execution_count": 339,
   "metadata": {},
   "outputs": [],
   "source": [
    "#renaming confusing column names\n",
    "titleRatings_df = titleRatings_df.rename(columns={'tconst': 'titleId'})"
   ]
  },
  {
   "cell_type": "code",
   "execution_count": 340,
   "metadata": {},
   "outputs": [
    {
     "name": "stdout",
     "output_type": "stream",
     "text": [
      "number of duplicate rows:  (0, 3)\n"
     ]
    }
   ],
   "source": [
    "#check for duplicate rows in titleRatings_df and dropping if any exist\n",
    "duplicate_Ratingsrows_df = titleRatings_df[titleRatings_df.duplicated()]\n",
    "print(\"number of duplicate rows: \", duplicate_Ratingsrows_df.shape)\n",
    "\n",
    "#titleRatings_df = titleRatings_df.drop_duplicates()"
   ]
  },
  {
   "cell_type": "code",
   "execution_count": 341,
   "metadata": {},
   "outputs": [
    {
     "data": {
      "text/plain": [
       "(1084871, 3)"
      ]
     },
     "execution_count": 341,
     "metadata": {},
     "output_type": "execute_result"
    }
   ],
   "source": [
    "titleRatings_df.shape"
   ]
  },
  {
   "cell_type": "markdown",
   "metadata": {},
   "source": [
    "# Visualizing Movie Data"
   ]
  },
  {
   "cell_type": "markdown",
   "metadata": {},
   "source": [
    "### Finding Outliers in titleRatings_df Dataframe"
   ]
  },
  {
   "cell_type": "code",
   "execution_count": 342,
   "metadata": {},
   "outputs": [],
   "source": [
    "#import seaborn as sns\n",
    "#sns.boxplot(x=titleRatings_df['averageRating'])"
   ]
  },
  {
   "cell_type": "code",
   "execution_count": 343,
   "metadata": {},
   "outputs": [],
   "source": [
    "#import seaborn as sns\n",
    "#sns.boxplot(x=titleRatings_df['numVotes'])"
   ]
  },
  {
   "cell_type": "code",
   "execution_count": 344,
   "metadata": {},
   "outputs": [
    {
     "data": {
      "text/plain": [
       "{'whiskers': [<matplotlib.lines.Line2D at 0x7f8e7c4d6358>,\n",
       "  <matplotlib.lines.Line2D at 0x7f8f25f61e10>,\n",
       "  <matplotlib.lines.Line2D at 0x7f8f25f19748>,\n",
       "  <matplotlib.lines.Line2D at 0x7f8f25f27be0>],\n",
       " 'caps': [<matplotlib.lines.Line2D at 0x7f8f25f61e48>,\n",
       "  <matplotlib.lines.Line2D at 0x7f8f25f711d0>,\n",
       "  <matplotlib.lines.Line2D at 0x7f8f25f27f28>,\n",
       "  <matplotlib.lines.Line2D at 0x7f8d54e71908>],\n",
       " 'boxes': [<matplotlib.lines.Line2D at 0x7f8db84e0908>,\n",
       "  <matplotlib.lines.Line2D at 0x7f8f25f8b6d8>],\n",
       " 'medians': [<matplotlib.lines.Line2D at 0x7f8f25f7d710>,\n",
       "  <matplotlib.lines.Line2D at 0x7f8d54e717b8>],\n",
       " 'fliers': [<matplotlib.lines.Line2D at 0x7f8f25f8bcc0>,\n",
       "  <matplotlib.lines.Line2D at 0x7f8f25f35668>],\n",
       " 'means': []}"
      ]
     },
     "execution_count": 344,
     "metadata": {},
     "output_type": "execute_result"
    },
    {
     "data": {
      "image/png": "[encoded data removed]",
      "text/plain": [
       "<Figure size 432x288 with 1 Axes>"
      ]
     },
     "metadata": {
      "needs_background": "light"
     },
     "output_type": "display_data"
    }
   ],
   "source": [
    "#Displaying a boxplot for titleRatings_df\n",
    "import matplotlib.pyplot as plt\n",
    "\n",
    "ratingsdata = (titleRatings_df.averageRating,titleRatings_df.numVotes)\n",
    "\n",
    "red_square = dict(markerfacecolor='r', marker='s')\n",
    "fig, ax = plt.subplots()\n",
    "ax.set_title('Title Ratings Boxplot')\n",
    "ax.set_xlabel('Ratings')\n",
    "\n",
    "ax.boxplot(ratingsdata, vert=False, flierprops=red_square)"
   ]
  },
  {
   "cell_type": "code",
   "execution_count": 345,
   "metadata": {},
   "outputs": [
    {
     "data": {
      "image/png": "[encoded data removed]",
      "text/plain": [
       "<Figure size 432x288 with 1 Axes>"
      ]
     },
     "metadata": {
      "needs_background": "light"
     },
     "output_type": "display_data"
    }
   ],
   "source": [
    "#Displaying a scatterplot for titleRatings_df\n",
    "x = titleRatings_df.averageRating\n",
    "y = titleRatings_df.numVotes\n",
    "\n",
    "\n",
    "plt.scatter(x, y, alpha=0.5)\n",
    "plt.show()"
   ]
  },
  {
   "cell_type": "code",
   "execution_count": 346,
   "metadata": {},
   "outputs": [],
   "source": [
    "#fig, ax = plt.subplots(figsize=(16,8))\n",
    "#ax.scatter(titleRatings_df['averageRating'], titleRatings_df['numVotes'])\n",
    "#ax.set_xlabel('Ratings')\n",
    "#ax.set_ylabel('Number of Votes')\n",
    "#plt.show()"
   ]
  },
  {
   "cell_type": "markdown",
   "metadata": {},
   "source": [
    "### Using the IQR score technique to detect and remove outliers"
   ]
  },
  {
   "cell_type": "code",
   "execution_count": 347,
   "metadata": {},
   "outputs": [
    {
     "name": "stdout",
     "output_type": "stream",
     "text": [
      "averageRating     1.7\n",
      "numVotes         70.0\n",
      "dtype: float64\n"
     ]
    }
   ],
   "source": [
    "Q1 = titleRatings_df.quantile(0.25)\n",
    "Q3 = titleRatings_df.quantile(0.75)\n",
    "IQR = (Q3 - Q1)\n",
    "print(IQR)"
   ]
  },
  {
   "cell_type": "code",
   "execution_count": 348,
   "metadata": {},
   "outputs": [
    {
     "data": {
      "text/plain": [
       "(892764, 3)"
      ]
     },
     "execution_count": 348,
     "metadata": {},
     "output_type": "execute_result"
    }
   ],
   "source": [
    "#Removing outliers\n",
    "titleRatings_df = titleRatings_df[~((titleRatings_df < (Q1 - 1.5 * IQR)) |(titleRatings_df > (Q3 + 1.5 * IQR))).any(axis=1)]\n",
    "titleRatings_df.shape"
   ]
  },
  {
   "cell_type": "code",
   "execution_count": 349,
   "metadata": {},
   "outputs": [
    {
     "data": {
      "image/png": "[encoded data removed]",
      "text/plain": [
       "<Figure size 432x288 with 1 Axes>"
      ]
     },
     "metadata": {
      "needs_background": "light"
     },
     "output_type": "display_data"
    }
   ],
   "source": [
    "#Displaying a scatterplot after outliers have been removed\n",
    "x = titleRatings_df.averageRating\n",
    "y = titleRatings_df.numVotes\n",
    "\n",
    "\n",
    "plt.scatter(x, y, alpha=0.5)\n",
    "plt.show()"
   ]
  },
  {
   "cell_type": "markdown",
   "metadata": {},
   "source": [
    "# Joining titleAkas_df and titleBasics_df Dataframes to titleRatings_df Dataframe"
   ]
  },
  {
   "cell_type": "code",
   "execution_count": 350,
   "metadata": {},
   "outputs": [
    {
     "data": {
      "text/html": [
       "<div>\n",
       "<style scoped>\n",
       "    .dataframe tbody tr th:only-of-type {\n",
       "        vertical-align: middle;\n",
       "    }\n",
       "\n",
       "    .dataframe tbody tr th {\n",
       "        vertical-align: top;\n",
       "    }\n",
       "\n",
       "    .dataframe thead th {\n",
       "        text-align: right;\n",
       "    }\n",
       "</style>\n",
       "<table border=\"1\" class=\"dataframe\">\n",
       "  <thead>\n",
       "    <tr style=\"text-align: right;\">\n",
       "      <th></th>\n",
       "      <th>titleId</th>\n",
       "      <th>averageRating</th>\n",
       "      <th>numVotes</th>\n",
       "      <th>titleType</th>\n",
       "      <th>primaryTitle</th>\n",
       "      <th>originalTitle</th>\n",
       "      <th>isAdult</th>\n",
       "      <th>startYear</th>\n",
       "      <th>genres</th>\n",
       "    </tr>\n",
       "  </thead>\n",
       "  <tbody>\n",
       "    <tr>\n",
       "      <th>0</th>\n",
       "      <td>tt0000004</td>\n",
       "      <td>6.2</td>\n",
       "      <td>121</td>\n",
       "      <td>short</td>\n",
       "      <td>Un bon bock</td>\n",
       "      <td>Un bon bock</td>\n",
       "      <td>0</td>\n",
       "      <td>1892</td>\n",
       "      <td>Animation,Short</td>\n",
       "    </tr>\n",
       "    <tr>\n",
       "      <th>1</th>\n",
       "      <td>tt0000006</td>\n",
       "      <td>5.3</td>\n",
       "      <td>115</td>\n",
       "      <td>short</td>\n",
       "      <td>Chinese Opium Den</td>\n",
       "      <td>Chinese Opium Den</td>\n",
       "      <td>0</td>\n",
       "      <td>1894</td>\n",
       "      <td>Short</td>\n",
       "    </tr>\n",
       "    <tr>\n",
       "      <th>2</th>\n",
       "      <td>tt0000009</td>\n",
       "      <td>5.9</td>\n",
       "      <td>156</td>\n",
       "      <td>movie</td>\n",
       "      <td>Miss Jerry</td>\n",
       "      <td>Miss Jerry</td>\n",
       "      <td>0</td>\n",
       "      <td>1894</td>\n",
       "      <td>Romance</td>\n",
       "    </tr>\n",
       "    <tr>\n",
       "      <th>3</th>\n",
       "      <td>tt0000019</td>\n",
       "      <td>5.3</td>\n",
       "      <td>20</td>\n",
       "      <td>short</td>\n",
       "      <td>The Clown Barber</td>\n",
       "      <td>The Clown Barber</td>\n",
       "      <td>0</td>\n",
       "      <td>1898</td>\n",
       "      <td>Comedy,Short</td>\n",
       "    </tr>\n",
       "    <tr>\n",
       "      <th>4</th>\n",
       "      <td>tt0000024</td>\n",
       "      <td>4.5</td>\n",
       "      <td>54</td>\n",
       "      <td>short</td>\n",
       "      <td>Opening of the Kiel Canal</td>\n",
       "      <td>Opening of the Kiel Canal</td>\n",
       "      <td>0</td>\n",
       "      <td>1895</td>\n",
       "      <td>News,Short</td>\n",
       "    </tr>\n",
       "  </tbody>\n",
       "</table>\n",
       "</div>"
      ],
      "text/plain": [
       "     titleId  averageRating  numVotes titleType               primaryTitle  \\\n",
       "0  tt0000004            6.2       121     short                Un bon bock   \n",
       "1  tt0000006            5.3       115     short          Chinese Opium Den   \n",
       "2  tt0000009            5.9       156     movie                 Miss Jerry   \n",
       "3  tt0000019            5.3        20     short           The Clown Barber   \n",
       "4  tt0000024            4.5        54     short  Opening of the Kiel Canal   \n",
       "\n",
       "               originalTitle  isAdult startYear           genres  \n",
       "0                Un bon bock        0      1892  Animation,Short  \n",
       "1          Chinese Opium Den        0      1894            Short  \n",
       "2                 Miss Jerry        0      1894          Romance  \n",
       "3           The Clown Barber        0      1898     Comedy,Short  \n",
       "4  Opening of the Kiel Canal        0      1895       News,Short  "
      ]
     },
     "execution_count": 350,
     "metadata": {},
     "output_type": "execute_result"
    }
   ],
   "source": [
    "from pandas import DataFrame\n",
    "\n",
    "#first joining titleBasics_df to titleRatings_df\n",
    "ratingsBasics_df = pd.merge(titleRatings_df, titleBasics_df,on='titleId')\n",
    "\n",
    "ratingsBasics_df.head()"
   ]
  },
  {
   "cell_type": "code",
   "execution_count": 351,
   "metadata": {},
   "outputs": [
    {
     "data": {
      "text/plain": [
       "(892764, 9)"
      ]
     },
     "execution_count": 351,
     "metadata": {},
     "output_type": "execute_result"
    }
   ],
   "source": [
    "ratingsBasics_df.shape"
   ]
  },
  {
   "cell_type": "code",
   "execution_count": 352,
   "metadata": {},
   "outputs": [
    {
     "data": {
      "text/html": [
       "<div>\n",
       "<style scoped>\n",
       "    .dataframe tbody tr th:only-of-type {\n",
       "        vertical-align: middle;\n",
       "    }\n",
       "\n",
       "    .dataframe tbody tr th {\n",
       "        vertical-align: top;\n",
       "    }\n",
       "\n",
       "    .dataframe thead th {\n",
       "        text-align: right;\n",
       "    }\n",
       "</style>\n",
       "<table border=\"1\" class=\"dataframe\">\n",
       "  <thead>\n",
       "    <tr style=\"text-align: right;\">\n",
       "      <th></th>\n",
       "      <th>titleId</th>\n",
       "      <th>ordering</th>\n",
       "      <th>title</th>\n",
       "      <th>region</th>\n",
       "      <th>isOriginalTitle</th>\n",
       "    </tr>\n",
       "  </thead>\n",
       "  <tbody>\n",
       "    <tr>\n",
       "      <th>6</th>\n",
       "      <td>tt0000001</td>\n",
       "      <td>7</td>\n",
       "      <td>Carmencita</td>\n",
       "      <td>\\N</td>\n",
       "      <td>1</td>\n",
       "    </tr>\n",
       "    <tr>\n",
       "      <th>8</th>\n",
       "      <td>tt0000002</td>\n",
       "      <td>1</td>\n",
       "      <td>Le clown et ses chiens</td>\n",
       "      <td>\\N</td>\n",
       "      <td>1</td>\n",
       "    </tr>\n",
       "    <tr>\n",
       "      <th>21</th>\n",
       "      <td>tt0000003</td>\n",
       "      <td>6</td>\n",
       "      <td>Pauvre Pierrot</td>\n",
       "      <td>\\N</td>\n",
       "      <td>1</td>\n",
       "    </tr>\n",
       "    <tr>\n",
       "      <th>25</th>\n",
       "      <td>tt0000004</td>\n",
       "      <td>1</td>\n",
       "      <td>Un bon bock</td>\n",
       "      <td>\\N</td>\n",
       "      <td>1</td>\n",
       "    </tr>\n",
       "    <tr>\n",
       "      <th>33</th>\n",
       "      <td>tt0000005</td>\n",
       "      <td>10</td>\n",
       "      <td>Blacksmith Scene</td>\n",
       "      <td>\\N</td>\n",
       "      <td>1</td>\n",
       "    </tr>\n",
       "  </tbody>\n",
       "</table>\n",
       "</div>"
      ],
      "text/plain": [
       "      titleId  ordering                   title region isOriginalTitle\n",
       "6   tt0000001         7              Carmencita     \\N               1\n",
       "8   tt0000002         1  Le clown et ses chiens     \\N               1\n",
       "21  tt0000003         6          Pauvre Pierrot     \\N               1\n",
       "25  tt0000004         1             Un bon bock     \\N               1\n",
       "33  tt0000005        10        Blacksmith Scene     \\N               1"
      ]
     },
     "execution_count": 352,
     "metadata": {},
     "output_type": "execute_result"
    }
   ],
   "source": [
    "#Assigning rows with isOriginalTitle value \"1\" to a new dataframe\n",
    "titleAkasOriginals_df = titleAkas_df[titleAkas_df.isOriginalTitle=='1']\n",
    "titleAkasOriginals_df.head()"
   ]
  },
  {
   "cell_type": "code",
   "execution_count": 353,
   "metadata": {},
   "outputs": [
    {
     "data": {
      "text/html": [
       "<div>\n",
       "<style scoped>\n",
       "    .dataframe tbody tr th:only-of-type {\n",
       "        vertical-align: middle;\n",
       "    }\n",
       "\n",
       "    .dataframe tbody tr th {\n",
       "        vertical-align: top;\n",
       "    }\n",
       "\n",
       "    .dataframe thead th {\n",
       "        text-align: right;\n",
       "    }\n",
       "</style>\n",
       "<table border=\"1\" class=\"dataframe\">\n",
       "  <thead>\n",
       "    <tr style=\"text-align: right;\">\n",
       "      <th></th>\n",
       "      <th>titleId</th>\n",
       "      <th>averageRating</th>\n",
       "      <th>numVotes</th>\n",
       "      <th>titleType</th>\n",
       "      <th>primaryTitle</th>\n",
       "      <th>originalTitle</th>\n",
       "      <th>isAdult</th>\n",
       "      <th>startYear</th>\n",
       "      <th>genres</th>\n",
       "      <th>ordering</th>\n",
       "      <th>title</th>\n",
       "      <th>region</th>\n",
       "      <th>isOriginalTitle</th>\n",
       "    </tr>\n",
       "  </thead>\n",
       "  <tbody>\n",
       "    <tr>\n",
       "      <th>0</th>\n",
       "      <td>tt0000004</td>\n",
       "      <td>6.2</td>\n",
       "      <td>121</td>\n",
       "      <td>short</td>\n",
       "      <td>Un bon bock</td>\n",
       "      <td>Un bon bock</td>\n",
       "      <td>0</td>\n",
       "      <td>1892</td>\n",
       "      <td>Animation,Short</td>\n",
       "      <td>1</td>\n",
       "      <td>Un bon bock</td>\n",
       "      <td>\\N</td>\n",
       "      <td>1</td>\n",
       "    </tr>\n",
       "    <tr>\n",
       "      <th>1</th>\n",
       "      <td>tt0000006</td>\n",
       "      <td>5.3</td>\n",
       "      <td>115</td>\n",
       "      <td>short</td>\n",
       "      <td>Chinese Opium Den</td>\n",
       "      <td>Chinese Opium Den</td>\n",
       "      <td>0</td>\n",
       "      <td>1894</td>\n",
       "      <td>Short</td>\n",
       "      <td>5</td>\n",
       "      <td>Chinese Opium Den</td>\n",
       "      <td>\\N</td>\n",
       "      <td>1</td>\n",
       "    </tr>\n",
       "    <tr>\n",
       "      <th>2</th>\n",
       "      <td>tt0000009</td>\n",
       "      <td>5.9</td>\n",
       "      <td>156</td>\n",
       "      <td>movie</td>\n",
       "      <td>Miss Jerry</td>\n",
       "      <td>Miss Jerry</td>\n",
       "      <td>0</td>\n",
       "      <td>1894</td>\n",
       "      <td>Romance</td>\n",
       "      <td>1</td>\n",
       "      <td>Miss Jerry</td>\n",
       "      <td>\\N</td>\n",
       "      <td>1</td>\n",
       "    </tr>\n",
       "    <tr>\n",
       "      <th>3</th>\n",
       "      <td>tt0000024</td>\n",
       "      <td>4.5</td>\n",
       "      <td>54</td>\n",
       "      <td>short</td>\n",
       "      <td>Opening of the Kiel Canal</td>\n",
       "      <td>Opening of the Kiel Canal</td>\n",
       "      <td>0</td>\n",
       "      <td>1895</td>\n",
       "      <td>News,Short</td>\n",
       "      <td>1</td>\n",
       "      <td>Opening of the Kiel Canal</td>\n",
       "      <td>\\N</td>\n",
       "      <td>1</td>\n",
       "    </tr>\n",
       "    <tr>\n",
       "      <th>4</th>\n",
       "      <td>tt0000034</td>\n",
       "      <td>5.3</td>\n",
       "      <td>135</td>\n",
       "      <td>short</td>\n",
       "      <td>Arrivée d'un train gare de Vincennes</td>\n",
       "      <td>Arrivée d'un train gare de Vincennes</td>\n",
       "      <td>0</td>\n",
       "      <td>1896</td>\n",
       "      <td>Documentary,Short</td>\n",
       "      <td>1</td>\n",
       "      <td>Arrivée d'un train gare de Vincennes</td>\n",
       "      <td>\\N</td>\n",
       "      <td>1</td>\n",
       "    </tr>\n",
       "  </tbody>\n",
       "</table>\n",
       "</div>"
      ],
      "text/plain": [
       "     titleId  averageRating  numVotes titleType  \\\n",
       "0  tt0000004            6.2       121     short   \n",
       "1  tt0000006            5.3       115     short   \n",
       "2  tt0000009            5.9       156     movie   \n",
       "3  tt0000024            4.5        54     short   \n",
       "4  tt0000034            5.3       135     short   \n",
       "\n",
       "                           primaryTitle                         originalTitle  \\\n",
       "0                           Un bon bock                           Un bon bock   \n",
       "1                     Chinese Opium Den                     Chinese Opium Den   \n",
       "2                            Miss Jerry                            Miss Jerry   \n",
       "3             Opening of the Kiel Canal             Opening of the Kiel Canal   \n",
       "4  Arrivée d'un train gare de Vincennes  Arrivée d'un train gare de Vincennes   \n",
       "\n",
       "   isAdult startYear             genres  ordering  \\\n",
       "0        0      1892    Animation,Short         1   \n",
       "1        0      1894              Short         5   \n",
       "2        0      1894            Romance         1   \n",
       "3        0      1895         News,Short         1   \n",
       "4        0      1896  Documentary,Short         1   \n",
       "\n",
       "                                  title region isOriginalTitle  \n",
       "0                           Un bon bock     \\N               1  \n",
       "1                     Chinese Opium Den     \\N               1  \n",
       "2                            Miss Jerry     \\N               1  \n",
       "3             Opening of the Kiel Canal     \\N               1  \n",
       "4  Arrivée d'un train gare de Vincennes     \\N               1  "
      ]
     },
     "execution_count": 353,
     "metadata": {},
     "output_type": "execute_result"
    }
   ],
   "source": [
    "ratingsBasicsAkas_df = pd.merge(ratingsBasics_df, titleAkasOriginals_df,on='titleId')\n",
    "ratingsBasicsAkas_df.head()"
   ]
  },
  {
   "cell_type": "code",
   "execution_count": 354,
   "metadata": {},
   "outputs": [
    {
     "data": {
      "text/plain": [
       "(205721, 13)"
      ]
     },
     "execution_count": 354,
     "metadata": {},
     "output_type": "execute_result"
    }
   ],
   "source": [
    "ratingsBasicsAkas_df.shape"
   ]
  },
  {
   "cell_type": "code",
   "execution_count": 355,
   "metadata": {},
   "outputs": [
    {
     "data": {
      "text/plain": [
       "titleId              object\n",
       "averageRating       float64\n",
       "numVotes              int64\n",
       "titleType            object\n",
       "primaryTitle         object\n",
       "originalTitle        object\n",
       "isAdult               uint8\n",
       "startYear          category\n",
       "genres               object\n",
       "ordering              uint8\n",
       "title                object\n",
       "region             category\n",
       "isOriginalTitle      object\n",
       "dtype: object"
      ]
     },
     "execution_count": 355,
     "metadata": {},
     "output_type": "execute_result"
    }
   ],
   "source": [
    "ratingsBasicsAkas_df.dtypes"
   ]
  },
  {
   "cell_type": "code",
   "execution_count": 356,
   "metadata": {},
   "outputs": [
    {
     "data": {
      "text/plain": [
       "titleId            0\n",
       "averageRating      0\n",
       "numVotes           0\n",
       "titleType          0\n",
       "primaryTitle       0\n",
       "originalTitle      0\n",
       "isAdult            0\n",
       "startYear          0\n",
       "genres             0\n",
       "ordering           0\n",
       "title              0\n",
       "region             0\n",
       "isOriginalTitle    0\n",
       "dtype: int64"
      ]
     },
     "execution_count": 356,
     "metadata": {},
     "output_type": "execute_result"
    }
   ],
   "source": [
    "ratingsBasicsAkas_df.isnull().sum()"
   ]
  },
  {
   "cell_type": "code",
   "execution_count": 357,
   "metadata": {},
   "outputs": [],
   "source": [
    "#ratingsBasicsAkas_df = ratingsBasicsAkas_df.drop(ratingsBasicsAkas_df.loc[ratingsBasicsAkas_df['region'].isnull()].index)"
   ]
  },
  {
   "cell_type": "code",
   "execution_count": 358,
   "metadata": {},
   "outputs": [
    {
     "data": {
      "text/plain": [
       "(205721, 13)"
      ]
     },
     "execution_count": 358,
     "metadata": {},
     "output_type": "execute_result"
    }
   ],
   "source": [
    "ratingsBasicsAkas_df.shape"
   ]
  },
  {
   "cell_type": "code",
   "execution_count": 359,
   "metadata": {},
   "outputs": [
    {
     "name": "stdout",
     "output_type": "stream",
     "text": [
      "number of duplicate rows:  (0, 13)\n"
     ]
    }
   ],
   "source": [
    "#check for duplicate rows in titleRatings_df and dropping if any exist\n",
    "duplicate_joinedDatarows_df = ratingsBasicsAkas_df[ratingsBasicsAkas_df.duplicated()]\n",
    "print(\"number of duplicate rows: \", duplicate_joinedDatarows_df.shape)\n",
    "\n",
    "#ratingsBasicsAkas_df = ratingsBasicsAkas_df.drop_duplicates()"
   ]
  },
  {
   "cell_type": "code",
   "execution_count": 360,
   "metadata": {},
   "outputs": [],
   "source": [
    "#Feature engineering for titleType column\n",
    "ratingsBasicsAkas_df['titleType'] = np.where(ratingsBasicsAkas_df['titleType']=='tvShort', 'short', ratingsBasicsAkas_df['titleType'])\n",
    "\n",
    "ratingsBasicsAkas_df['titleType'] = np.where(ratingsBasicsAkas_df['titleType']=='tvMovie', 'movie', ratingsBasicsAkas_df['titleType'])\n",
    "\n",
    "ratingsBasicsAkas_df['titleType'] = np.where(ratingsBasicsAkas_df['titleType']=='tvMiniSeries', 'tvSeries', ratingsBasicsAkas_df['titleType'])\n",
    "\n",
    "ratingsBasicsAkas_df['titleType'] = np.where(ratingsBasicsAkas_df['titleType']=='videoGame', 'video', ratingsBasicsAkas_df['titleType'])"
   ]
  },
  {
   "cell_type": "code",
   "execution_count": 361,
   "metadata": {},
   "outputs": [
    {
     "data": {
      "text/plain": [
       "(array([0, 1, 2, 3, 4, 5]), <a list of 6 Text xticklabel objects>)"
      ]
     },
     "execution_count": 361,
     "metadata": {},
     "output_type": "execute_result"
    },
    {
     "data": {
      "image/png": "[encoded data removed]",
      "text/plain": [
       "<Figure size 432x288 with 1 Axes>"
      ]
     },
     "metadata": {
      "needs_background": "light"
     },
     "output_type": "display_data"
    }
   ],
   "source": [
    "sns.countplot(x='titleType', data=ratingsBasicsAkas_df)\n",
    "plt.xticks(rotation=90)"
   ]
  },
  {
   "cell_type": "code",
   "execution_count": 362,
   "metadata": {},
   "outputs": [
    {
     "data": {
      "text/plain": [
       "24"
      ]
     },
     "execution_count": 362,
     "metadata": {},
     "output_type": "execute_result"
    }
   ],
   "source": [
    "ratingsBasicsAkas_df.startYear.str.count(\"\\\\\\\\N\").sum()"
   ]
  },
  {
   "cell_type": "code",
   "execution_count": 363,
   "metadata": {},
   "outputs": [
    {
     "data": {
      "text/plain": [
       "6939"
      ]
     },
     "execution_count": 363,
     "metadata": {},
     "output_type": "execute_result"
    }
   ],
   "source": [
    "ratingsBasicsAkas_df.genres.str.count(\"\\\\\\\\N\").sum()"
   ]
  },
  {
   "cell_type": "code",
   "execution_count": 364,
   "metadata": {},
   "outputs": [
    {
     "data": {
      "text/plain": [
       "205716"
      ]
     },
     "execution_count": 364,
     "metadata": {},
     "output_type": "execute_result"
    }
   ],
   "source": [
    "ratingsBasicsAkas_df.region.str.count(\"\\\\\\\\N\").sum()"
   ]
  },
  {
   "cell_type": "code",
   "execution_count": 365,
   "metadata": {},
   "outputs": [],
   "source": [
    "#ratingsBasicsAkas_df.title.str.count(\"\\\\\\\\N\").sum()"
   ]
  },
  {
   "cell_type": "code",
   "execution_count": 366,
   "metadata": {},
   "outputs": [],
   "source": [
    "#ratingsBasicsAkas_df.isOriginalTitle.str.count(\"\\\\\\\\N\").sum()"
   ]
  },
  {
   "cell_type": "code",
   "execution_count": 367,
   "metadata": {},
   "outputs": [
    {
     "data": {
      "text/html": [
       "<div>\n",
       "<style scoped>\n",
       "    .dataframe tbody tr th:only-of-type {\n",
       "        vertical-align: middle;\n",
       "    }\n",
       "\n",
       "    .dataframe tbody tr th {\n",
       "        vertical-align: top;\n",
       "    }\n",
       "\n",
       "    .dataframe thead th {\n",
       "        text-align: right;\n",
       "    }\n",
       "</style>\n",
       "<table border=\"1\" class=\"dataframe\">\n",
       "  <thead>\n",
       "    <tr style=\"text-align: right;\">\n",
       "      <th></th>\n",
       "      <th>titleId</th>\n",
       "      <th>averageRating</th>\n",
       "      <th>numVotes</th>\n",
       "      <th>titleType</th>\n",
       "      <th>primaryTitle</th>\n",
       "      <th>originalTitle</th>\n",
       "      <th>isAdult</th>\n",
       "      <th>startYear</th>\n",
       "      <th>genres</th>\n",
       "    </tr>\n",
       "  </thead>\n",
       "  <tbody>\n",
       "    <tr>\n",
       "      <th>0</th>\n",
       "      <td>tt0000004</td>\n",
       "      <td>6.2</td>\n",
       "      <td>121</td>\n",
       "      <td>short</td>\n",
       "      <td>Un bon bock</td>\n",
       "      <td>Un bon bock</td>\n",
       "      <td>0</td>\n",
       "      <td>1892</td>\n",
       "      <td>Animation,Short</td>\n",
       "    </tr>\n",
       "    <tr>\n",
       "      <th>1</th>\n",
       "      <td>tt0000006</td>\n",
       "      <td>5.3</td>\n",
       "      <td>115</td>\n",
       "      <td>short</td>\n",
       "      <td>Chinese Opium Den</td>\n",
       "      <td>Chinese Opium Den</td>\n",
       "      <td>0</td>\n",
       "      <td>1894</td>\n",
       "      <td>Short</td>\n",
       "    </tr>\n",
       "    <tr>\n",
       "      <th>2</th>\n",
       "      <td>tt0000009</td>\n",
       "      <td>5.9</td>\n",
       "      <td>156</td>\n",
       "      <td>movie</td>\n",
       "      <td>Miss Jerry</td>\n",
       "      <td>Miss Jerry</td>\n",
       "      <td>0</td>\n",
       "      <td>1894</td>\n",
       "      <td>Romance</td>\n",
       "    </tr>\n",
       "    <tr>\n",
       "      <th>3</th>\n",
       "      <td>tt0000024</td>\n",
       "      <td>4.5</td>\n",
       "      <td>54</td>\n",
       "      <td>short</td>\n",
       "      <td>Opening of the Kiel Canal</td>\n",
       "      <td>Opening of the Kiel Canal</td>\n",
       "      <td>0</td>\n",
       "      <td>1895</td>\n",
       "      <td>News,Short</td>\n",
       "    </tr>\n",
       "    <tr>\n",
       "      <th>4</th>\n",
       "      <td>tt0000034</td>\n",
       "      <td>5.3</td>\n",
       "      <td>135</td>\n",
       "      <td>short</td>\n",
       "      <td>Arrivée d'un train gare de Vincennes</td>\n",
       "      <td>Arrivée d'un train gare de Vincennes</td>\n",
       "      <td>0</td>\n",
       "      <td>1896</td>\n",
       "      <td>Documentary,Short</td>\n",
       "    </tr>\n",
       "  </tbody>\n",
       "</table>\n",
       "</div>"
      ],
      "text/plain": [
       "     titleId  averageRating  numVotes titleType  \\\n",
       "0  tt0000004            6.2       121     short   \n",
       "1  tt0000006            5.3       115     short   \n",
       "2  tt0000009            5.9       156     movie   \n",
       "3  tt0000024            4.5        54     short   \n",
       "4  tt0000034            5.3       135     short   \n",
       "\n",
       "                           primaryTitle                         originalTitle  \\\n",
       "0                           Un bon bock                           Un bon bock   \n",
       "1                     Chinese Opium Den                     Chinese Opium Den   \n",
       "2                            Miss Jerry                            Miss Jerry   \n",
       "3             Opening of the Kiel Canal             Opening of the Kiel Canal   \n",
       "4  Arrivée d'un train gare de Vincennes  Arrivée d'un train gare de Vincennes   \n",
       "\n",
       "   isAdult startYear             genres  \n",
       "0        0      1892    Animation,Short  \n",
       "1        0      1894              Short  \n",
       "2        0      1894            Romance  \n",
       "3        0      1895         News,Short  \n",
       "4        0      1896  Documentary,Short  "
      ]
     },
     "execution_count": 367,
     "metadata": {},
     "output_type": "execute_result"
    }
   ],
   "source": [
    "#dropping irrelevant columns \n",
    "ratingsBasicsAkas_df = ratingsBasicsAkas_df.drop(['ordering','title','region','isOriginalTitle'],axis=1)\n",
    "ratingsBasicsAkas_df.head()"
   ]
  },
  {
   "cell_type": "code",
   "execution_count": 368,
   "metadata": {},
   "outputs": [],
   "source": [
    "ratingsBasicsAkas_df = ratingsBasicsAkas_df[ratingsBasicsAkas_df.genres != '\\\\N']"
   ]
  },
  {
   "cell_type": "code",
   "execution_count": 369,
   "metadata": {},
   "outputs": [
    {
     "data": {
      "text/plain": [
       "(198782, 9)"
      ]
     },
     "execution_count": 369,
     "metadata": {},
     "output_type": "execute_result"
    }
   ],
   "source": [
    "ratingsBasicsAkas_df.shape"
   ]
  },
  {
   "cell_type": "code",
   "execution_count": 370,
   "metadata": {},
   "outputs": [
    {
     "data": {
      "text/plain": [
       "0"
      ]
     },
     "execution_count": 370,
     "metadata": {},
     "output_type": "execute_result"
    }
   ],
   "source": [
    "ratingsBasicsAkas_df.genres.str.count(\"\\\\\\\\N\").sum()"
   ]
  },
  {
   "cell_type": "code",
   "execution_count": 371,
   "metadata": {},
   "outputs": [
    {
     "data": {
      "text/plain": [
       "24"
      ]
     },
     "execution_count": 371,
     "metadata": {},
     "output_type": "execute_result"
    }
   ],
   "source": [
    "ratingsBasicsAkas_df.startYear.str.count(\"\\\\\\\\N\").sum()"
   ]
  },
  {
   "cell_type": "code",
   "execution_count": 372,
   "metadata": {},
   "outputs": [],
   "source": [
    "ratingsBasicsAkas_df = ratingsBasicsAkas_df[ratingsBasicsAkas_df.startYear != '\\\\N']"
   ]
  },
  {
   "cell_type": "code",
   "execution_count": 373,
   "metadata": {},
   "outputs": [
    {
     "data": {
      "text/plain": [
       "(198758, 9)"
      ]
     },
     "execution_count": 373,
     "metadata": {},
     "output_type": "execute_result"
    }
   ],
   "source": [
    "ratingsBasicsAkas_df.shape"
   ]
  },
  {
   "cell_type": "code",
   "execution_count": 374,
   "metadata": {},
   "outputs": [
    {
     "data": {
      "text/plain": [
       "0"
      ]
     },
     "execution_count": 374,
     "metadata": {},
     "output_type": "execute_result"
    }
   ],
   "source": [
    "ratingsBasicsAkas_df.startYear.str.count(\"\\\\\\\\N\").sum()"
   ]
  },
  {
   "cell_type": "code",
   "execution_count": 375,
   "metadata": {},
   "outputs": [
    {
     "data": {
      "text/html": [
       "<div>\n",
       "<style scoped>\n",
       "    .dataframe tbody tr th:only-of-type {\n",
       "        vertical-align: middle;\n",
       "    }\n",
       "\n",
       "    .dataframe tbody tr th {\n",
       "        vertical-align: top;\n",
       "    }\n",
       "\n",
       "    .dataframe thead th {\n",
       "        text-align: right;\n",
       "    }\n",
       "</style>\n",
       "<table border=\"1\" class=\"dataframe\">\n",
       "  <thead>\n",
       "    <tr style=\"text-align: right;\">\n",
       "      <th></th>\n",
       "      <th>titleType</th>\n",
       "      <th>primaryTitle</th>\n",
       "    </tr>\n",
       "  </thead>\n",
       "  <tbody>\n",
       "    <tr>\n",
       "      <th>0</th>\n",
       "      <td>short</td>\n",
       "      <td>Un bon bock</td>\n",
       "    </tr>\n",
       "    <tr>\n",
       "      <th>1</th>\n",
       "      <td>short</td>\n",
       "      <td>Chinese Opium Den</td>\n",
       "    </tr>\n",
       "    <tr>\n",
       "      <th>2</th>\n",
       "      <td>movie</td>\n",
       "      <td>Miss Jerry</td>\n",
       "    </tr>\n",
       "    <tr>\n",
       "      <th>3</th>\n",
       "      <td>short</td>\n",
       "      <td>Opening of the Kiel Canal</td>\n",
       "    </tr>\n",
       "    <tr>\n",
       "      <th>4</th>\n",
       "      <td>short</td>\n",
       "      <td>Arrivée d'un train gare de Vincennes</td>\n",
       "    </tr>\n",
       "  </tbody>\n",
       "</table>\n",
       "</div>"
      ],
      "text/plain": [
       "  titleType                          primaryTitle\n",
       "0     short                           Un bon bock\n",
       "1     short                     Chinese Opium Den\n",
       "2     movie                            Miss Jerry\n",
       "3     short             Opening of the Kiel Canal\n",
       "4     short  Arrivée d'un train gare de Vincennes"
      ]
     },
     "execution_count": 375,
     "metadata": {},
     "output_type": "execute_result"
    }
   ],
   "source": [
    "convertData = ratingsBasicsAkas_df.drop(['titleId','averageRating','numVotes','originalTitle','isAdult','startYear','genres'],axis=1)\n",
    "\n",
    "convertData.head()"
   ]
  },
  {
   "cell_type": "code",
   "execution_count": 376,
   "metadata": {},
   "outputs": [],
   "source": [
    "#converting categorical data found in titleType column into numerical data\n",
    "cat_vars = ['titleType' ]\n",
    "for var in cat_vars:\n",
    "    catList = 'var'+'_'+var\n",
    "    catList = pd.get_dummies(convertData[var], prefix=var)\n",
    "    data1 = convertData.join(catList)\n",
    "   \n",
    "    \n",
    "data_vars = data1.columns.values.tolist()\n",
    "to_keep = [i for i in data_vars if i not in cat_vars]\n",
    "data_final=data1[to_keep]"
   ]
  },
  {
   "cell_type": "code",
   "execution_count": 377,
   "metadata": {},
   "outputs": [
    {
     "data": {
      "text/html": [
       "<div>\n",
       "<style scoped>\n",
       "    .dataframe tbody tr th:only-of-type {\n",
       "        vertical-align: middle;\n",
       "    }\n",
       "\n",
       "    .dataframe tbody tr th {\n",
       "        vertical-align: top;\n",
       "    }\n",
       "\n",
       "    .dataframe thead th {\n",
       "        text-align: right;\n",
       "    }\n",
       "</style>\n",
       "<table border=\"1\" class=\"dataframe\">\n",
       "  <thead>\n",
       "    <tr style=\"text-align: right;\">\n",
       "      <th></th>\n",
       "      <th>primaryTitle</th>\n",
       "      <th>titleType_movie</th>\n",
       "      <th>titleType_short</th>\n",
       "      <th>titleType_tvEpisode</th>\n",
       "      <th>titleType_tvSeries</th>\n",
       "      <th>titleType_tvSpecial</th>\n",
       "      <th>titleType_video</th>\n",
       "    </tr>\n",
       "  </thead>\n",
       "  <tbody>\n",
       "    <tr>\n",
       "      <th>0</th>\n",
       "      <td>Un bon bock</td>\n",
       "      <td>0</td>\n",
       "      <td>1</td>\n",
       "      <td>0</td>\n",
       "      <td>0</td>\n",
       "      <td>0</td>\n",
       "      <td>0</td>\n",
       "    </tr>\n",
       "    <tr>\n",
       "      <th>1</th>\n",
       "      <td>Chinese Opium Den</td>\n",
       "      <td>0</td>\n",
       "      <td>1</td>\n",
       "      <td>0</td>\n",
       "      <td>0</td>\n",
       "      <td>0</td>\n",
       "      <td>0</td>\n",
       "    </tr>\n",
       "    <tr>\n",
       "      <th>2</th>\n",
       "      <td>Miss Jerry</td>\n",
       "      <td>1</td>\n",
       "      <td>0</td>\n",
       "      <td>0</td>\n",
       "      <td>0</td>\n",
       "      <td>0</td>\n",
       "      <td>0</td>\n",
       "    </tr>\n",
       "    <tr>\n",
       "      <th>3</th>\n",
       "      <td>Opening of the Kiel Canal</td>\n",
       "      <td>0</td>\n",
       "      <td>1</td>\n",
       "      <td>0</td>\n",
       "      <td>0</td>\n",
       "      <td>0</td>\n",
       "      <td>0</td>\n",
       "    </tr>\n",
       "    <tr>\n",
       "      <th>4</th>\n",
       "      <td>Arrivée d'un train gare de Vincennes</td>\n",
       "      <td>0</td>\n",
       "      <td>1</td>\n",
       "      <td>0</td>\n",
       "      <td>0</td>\n",
       "      <td>0</td>\n",
       "      <td>0</td>\n",
       "    </tr>\n",
       "    <tr>\n",
       "      <th>...</th>\n",
       "      <td>...</td>\n",
       "      <td>...</td>\n",
       "      <td>...</td>\n",
       "      <td>...</td>\n",
       "      <td>...</td>\n",
       "      <td>...</td>\n",
       "      <td>...</td>\n",
       "    </tr>\n",
       "    <tr>\n",
       "      <th>205716</th>\n",
       "      <td>Eco</td>\n",
       "      <td>0</td>\n",
       "      <td>1</td>\n",
       "      <td>0</td>\n",
       "      <td>0</td>\n",
       "      <td>0</td>\n",
       "      <td>0</td>\n",
       "    </tr>\n",
       "    <tr>\n",
       "      <th>205717</th>\n",
       "      <td>Danielle Darrieux: Il est poli d'être gai!</td>\n",
       "      <td>1</td>\n",
       "      <td>0</td>\n",
       "      <td>0</td>\n",
       "      <td>0</td>\n",
       "      <td>0</td>\n",
       "      <td>0</td>\n",
       "    </tr>\n",
       "    <tr>\n",
       "      <th>205718</th>\n",
       "      <td>Coven</td>\n",
       "      <td>1</td>\n",
       "      <td>0</td>\n",
       "      <td>0</td>\n",
       "      <td>0</td>\n",
       "      <td>0</td>\n",
       "      <td>0</td>\n",
       "    </tr>\n",
       "    <tr>\n",
       "      <th>205719</th>\n",
       "      <td>The Secret of China</td>\n",
       "      <td>1</td>\n",
       "      <td>0</td>\n",
       "      <td>0</td>\n",
       "      <td>0</td>\n",
       "      <td>0</td>\n",
       "      <td>0</td>\n",
       "    </tr>\n",
       "    <tr>\n",
       "      <th>205720</th>\n",
       "      <td>The Nun 2</td>\n",
       "      <td>0</td>\n",
       "      <td>1</td>\n",
       "      <td>0</td>\n",
       "      <td>0</td>\n",
       "      <td>0</td>\n",
       "      <td>0</td>\n",
       "    </tr>\n",
       "  </tbody>\n",
       "</table>\n",
       "<p>198758 rows × 7 columns</p>\n",
       "</div>"
      ],
      "text/plain": [
       "                                      primaryTitle  titleType_movie  \\\n",
       "0                                      Un bon bock                0   \n",
       "1                                Chinese Opium Den                0   \n",
       "2                                       Miss Jerry                1   \n",
       "3                        Opening of the Kiel Canal                0   \n",
       "4             Arrivée d'un train gare de Vincennes                0   \n",
       "...                                            ...              ...   \n",
       "205716                                         Eco                0   \n",
       "205717  Danielle Darrieux: Il est poli d'être gai!                1   \n",
       "205718                                       Coven                1   \n",
       "205719                         The Secret of China                1   \n",
       "205720                                   The Nun 2                0   \n",
       "\n",
       "        titleType_short  titleType_tvEpisode  titleType_tvSeries  \\\n",
       "0                     1                    0                   0   \n",
       "1                     1                    0                   0   \n",
       "2                     0                    0                   0   \n",
       "3                     1                    0                   0   \n",
       "4                     1                    0                   0   \n",
       "...                 ...                  ...                 ...   \n",
       "205716                1                    0                   0   \n",
       "205717                0                    0                   0   \n",
       "205718                0                    0                   0   \n",
       "205719                0                    0                   0   \n",
       "205720                1                    0                   0   \n",
       "\n",
       "        titleType_tvSpecial  titleType_video  \n",
       "0                         0                0  \n",
       "1                         0                0  \n",
       "2                         0                0  \n",
       "3                         0                0  \n",
       "4                         0                0  \n",
       "...                     ...              ...  \n",
       "205716                    0                0  \n",
       "205717                    0                0  \n",
       "205718                    0                0  \n",
       "205719                    0                0  \n",
       "205720                    0                0  \n",
       "\n",
       "[198758 rows x 7 columns]"
      ]
     },
     "execution_count": 377,
     "metadata": {},
     "output_type": "execute_result"
    }
   ],
   "source": [
    "data_final"
   ]
  },
  {
   "cell_type": "code",
   "execution_count": 378,
   "metadata": {},
   "outputs": [
    {
     "data": {
      "text/html": [
       "<div>\n",
       "<style scoped>\n",
       "    .dataframe tbody tr th:only-of-type {\n",
       "        vertical-align: middle;\n",
       "    }\n",
       "\n",
       "    .dataframe tbody tr th {\n",
       "        vertical-align: top;\n",
       "    }\n",
       "\n",
       "    .dataframe thead th {\n",
       "        text-align: right;\n",
       "    }\n",
       "</style>\n",
       "<table border=\"1\" class=\"dataframe\">\n",
       "  <thead>\n",
       "    <tr style=\"text-align: right;\">\n",
       "      <th></th>\n",
       "      <th>titleId</th>\n",
       "      <th>averageRating</th>\n",
       "      <th>numVotes</th>\n",
       "      <th>titleType</th>\n",
       "      <th>primaryTitle</th>\n",
       "      <th>originalTitle</th>\n",
       "      <th>isAdult</th>\n",
       "      <th>startYear</th>\n",
       "      <th>genres</th>\n",
       "      <th>titleType_movie</th>\n",
       "      <th>titleType_short</th>\n",
       "      <th>titleType_tvEpisode</th>\n",
       "      <th>titleType_tvSeries</th>\n",
       "      <th>titleType_tvSpecial</th>\n",
       "      <th>titleType_video</th>\n",
       "    </tr>\n",
       "  </thead>\n",
       "  <tbody>\n",
       "    <tr>\n",
       "      <th>0</th>\n",
       "      <td>tt0000004</td>\n",
       "      <td>6.2</td>\n",
       "      <td>121</td>\n",
       "      <td>short</td>\n",
       "      <td>Un bon bock</td>\n",
       "      <td>Un bon bock</td>\n",
       "      <td>0</td>\n",
       "      <td>1892</td>\n",
       "      <td>Animation,Short</td>\n",
       "      <td>0</td>\n",
       "      <td>1</td>\n",
       "      <td>0</td>\n",
       "      <td>0</td>\n",
       "      <td>0</td>\n",
       "      <td>0</td>\n",
       "    </tr>\n",
       "    <tr>\n",
       "      <th>1</th>\n",
       "      <td>tt0000006</td>\n",
       "      <td>5.3</td>\n",
       "      <td>115</td>\n",
       "      <td>short</td>\n",
       "      <td>Chinese Opium Den</td>\n",
       "      <td>Chinese Opium Den</td>\n",
       "      <td>0</td>\n",
       "      <td>1894</td>\n",
       "      <td>Short</td>\n",
       "      <td>0</td>\n",
       "      <td>1</td>\n",
       "      <td>0</td>\n",
       "      <td>0</td>\n",
       "      <td>0</td>\n",
       "      <td>0</td>\n",
       "    </tr>\n",
       "    <tr>\n",
       "      <th>2</th>\n",
       "      <td>tt0000009</td>\n",
       "      <td>5.9</td>\n",
       "      <td>156</td>\n",
       "      <td>movie</td>\n",
       "      <td>Miss Jerry</td>\n",
       "      <td>Miss Jerry</td>\n",
       "      <td>0</td>\n",
       "      <td>1894</td>\n",
       "      <td>Romance</td>\n",
       "      <td>1</td>\n",
       "      <td>0</td>\n",
       "      <td>0</td>\n",
       "      <td>0</td>\n",
       "      <td>0</td>\n",
       "      <td>0</td>\n",
       "    </tr>\n",
       "    <tr>\n",
       "      <th>3</th>\n",
       "      <td>tt0000024</td>\n",
       "      <td>4.5</td>\n",
       "      <td>54</td>\n",
       "      <td>short</td>\n",
       "      <td>Opening of the Kiel Canal</td>\n",
       "      <td>Opening of the Kiel Canal</td>\n",
       "      <td>0</td>\n",
       "      <td>1895</td>\n",
       "      <td>News,Short</td>\n",
       "      <td>0</td>\n",
       "      <td>1</td>\n",
       "      <td>0</td>\n",
       "      <td>0</td>\n",
       "      <td>0</td>\n",
       "      <td>0</td>\n",
       "    </tr>\n",
       "    <tr>\n",
       "      <th>4</th>\n",
       "      <td>tt0000034</td>\n",
       "      <td>5.3</td>\n",
       "      <td>135</td>\n",
       "      <td>short</td>\n",
       "      <td>Arrivée d'un train gare de Vincennes</td>\n",
       "      <td>Arrivée d'un train gare de Vincennes</td>\n",
       "      <td>0</td>\n",
       "      <td>1896</td>\n",
       "      <td>Documentary,Short</td>\n",
       "      <td>0</td>\n",
       "      <td>1</td>\n",
       "      <td>0</td>\n",
       "      <td>0</td>\n",
       "      <td>0</td>\n",
       "      <td>0</td>\n",
       "    </tr>\n",
       "  </tbody>\n",
       "</table>\n",
       "</div>"
      ],
      "text/plain": [
       "     titleId  averageRating  numVotes titleType  \\\n",
       "0  tt0000004            6.2       121     short   \n",
       "1  tt0000006            5.3       115     short   \n",
       "2  tt0000009            5.9       156     movie   \n",
       "3  tt0000024            4.5        54     short   \n",
       "4  tt0000034            5.3       135     short   \n",
       "\n",
       "                           primaryTitle                         originalTitle  \\\n",
       "0                           Un bon bock                           Un bon bock   \n",
       "1                     Chinese Opium Den                     Chinese Opium Den   \n",
       "2                            Miss Jerry                            Miss Jerry   \n",
       "3             Opening of the Kiel Canal             Opening of the Kiel Canal   \n",
       "4  Arrivée d'un train gare de Vincennes  Arrivée d'un train gare de Vincennes   \n",
       "\n",
       "   isAdult startYear             genres  titleType_movie  titleType_short  \\\n",
       "0        0      1892    Animation,Short                0                1   \n",
       "1        0      1894              Short                0                1   \n",
       "2        0      1894            Romance                1                0   \n",
       "3        0      1895         News,Short                0                1   \n",
       "4        0      1896  Documentary,Short                0                1   \n",
       "\n",
       "   titleType_tvEpisode  titleType_tvSeries  titleType_tvSpecial  \\\n",
       "0                    0                   0                    0   \n",
       "1                    0                   0                    0   \n",
       "2                    0                   0                    0   \n",
       "3                    0                   0                    0   \n",
       "4                    0                   0                    0   \n",
       "\n",
       "   titleType_video  \n",
       "0                0  \n",
       "1                0  \n",
       "2                0  \n",
       "3                0  \n",
       "4                0  "
      ]
     },
     "execution_count": 378,
     "metadata": {},
     "output_type": "execute_result"
    }
   ],
   "source": [
    "trainData_df = pd.merge(ratingsBasicsAkas_df, data_final,on='primaryTitle')\n",
    "trainData_df.head()"
   ]
  },
  {
   "cell_type": "code",
   "execution_count": 379,
   "metadata": {},
   "outputs": [
    {
     "data": {
      "text/html": [
       "<div>\n",
       "<style scoped>\n",
       "    .dataframe tbody tr th:only-of-type {\n",
       "        vertical-align: middle;\n",
       "    }\n",
       "\n",
       "    .dataframe tbody tr th {\n",
       "        vertical-align: top;\n",
       "    }\n",
       "\n",
       "    .dataframe thead th {\n",
       "        text-align: right;\n",
       "    }\n",
       "</style>\n",
       "<table border=\"1\" class=\"dataframe\">\n",
       "  <thead>\n",
       "    <tr style=\"text-align: right;\">\n",
       "      <th></th>\n",
       "      <th>averageRating</th>\n",
       "      <th>numVotes</th>\n",
       "      <th>primaryTitle</th>\n",
       "      <th>isAdult</th>\n",
       "      <th>startYear</th>\n",
       "      <th>genres</th>\n",
       "      <th>titleType_movie</th>\n",
       "      <th>titleType_short</th>\n",
       "      <th>titleType_tvEpisode</th>\n",
       "      <th>titleType_tvSeries</th>\n",
       "      <th>titleType_tvSpecial</th>\n",
       "      <th>titleType_video</th>\n",
       "    </tr>\n",
       "  </thead>\n",
       "  <tbody>\n",
       "    <tr>\n",
       "      <th>0</th>\n",
       "      <td>6.2</td>\n",
       "      <td>121</td>\n",
       "      <td>Un bon bock</td>\n",
       "      <td>0</td>\n",
       "      <td>1892</td>\n",
       "      <td>Animation,Short</td>\n",
       "      <td>0</td>\n",
       "      <td>1</td>\n",
       "      <td>0</td>\n",
       "      <td>0</td>\n",
       "      <td>0</td>\n",
       "      <td>0</td>\n",
       "    </tr>\n",
       "    <tr>\n",
       "      <th>1</th>\n",
       "      <td>5.3</td>\n",
       "      <td>115</td>\n",
       "      <td>Chinese Opium Den</td>\n",
       "      <td>0</td>\n",
       "      <td>1894</td>\n",
       "      <td>Short</td>\n",
       "      <td>0</td>\n",
       "      <td>1</td>\n",
       "      <td>0</td>\n",
       "      <td>0</td>\n",
       "      <td>0</td>\n",
       "      <td>0</td>\n",
       "    </tr>\n",
       "    <tr>\n",
       "      <th>2</th>\n",
       "      <td>5.9</td>\n",
       "      <td>156</td>\n",
       "      <td>Miss Jerry</td>\n",
       "      <td>0</td>\n",
       "      <td>1894</td>\n",
       "      <td>Romance</td>\n",
       "      <td>1</td>\n",
       "      <td>0</td>\n",
       "      <td>0</td>\n",
       "      <td>0</td>\n",
       "      <td>0</td>\n",
       "      <td>0</td>\n",
       "    </tr>\n",
       "    <tr>\n",
       "      <th>3</th>\n",
       "      <td>4.5</td>\n",
       "      <td>54</td>\n",
       "      <td>Opening of the Kiel Canal</td>\n",
       "      <td>0</td>\n",
       "      <td>1895</td>\n",
       "      <td>News,Short</td>\n",
       "      <td>0</td>\n",
       "      <td>1</td>\n",
       "      <td>0</td>\n",
       "      <td>0</td>\n",
       "      <td>0</td>\n",
       "      <td>0</td>\n",
       "    </tr>\n",
       "    <tr>\n",
       "      <th>4</th>\n",
       "      <td>5.3</td>\n",
       "      <td>135</td>\n",
       "      <td>Arrivée d'un train gare de Vincennes</td>\n",
       "      <td>0</td>\n",
       "      <td>1896</td>\n",
       "      <td>Documentary,Short</td>\n",
       "      <td>0</td>\n",
       "      <td>1</td>\n",
       "      <td>0</td>\n",
       "      <td>0</td>\n",
       "      <td>0</td>\n",
       "      <td>0</td>\n",
       "    </tr>\n",
       "  </tbody>\n",
       "</table>\n",
       "</div>"
      ],
      "text/plain": [
       "   averageRating  numVotes                          primaryTitle  isAdult  \\\n",
       "0            6.2       121                           Un bon bock        0   \n",
       "1            5.3       115                     Chinese Opium Den        0   \n",
       "2            5.9       156                            Miss Jerry        0   \n",
       "3            4.5        54             Opening of the Kiel Canal        0   \n",
       "4            5.3       135  Arrivée d'un train gare de Vincennes        0   \n",
       "\n",
       "  startYear             genres  titleType_movie  titleType_short  \\\n",
       "0      1892    Animation,Short                0                1   \n",
       "1      1894              Short                0                1   \n",
       "2      1894            Romance                1                0   \n",
       "3      1895         News,Short                0                1   \n",
       "4      1896  Documentary,Short                0                1   \n",
       "\n",
       "   titleType_tvEpisode  titleType_tvSeries  titleType_tvSpecial  \\\n",
       "0                    0                   0                    0   \n",
       "1                    0                   0                    0   \n",
       "2                    0                   0                    0   \n",
       "3                    0                   0                    0   \n",
       "4                    0                   0                    0   \n",
       "\n",
       "   titleType_video  \n",
       "0                0  \n",
       "1                0  \n",
       "2                0  \n",
       "3                0  \n",
       "4                0  "
      ]
     },
     "execution_count": 379,
     "metadata": {},
     "output_type": "execute_result"
    }
   ],
   "source": [
    "trainData_df = trainData_df.drop(['titleId','titleType','originalTitle'],axis=1)\n",
    "\n",
    "trainData_df.head()"
   ]
  },
  {
   "cell_type": "code",
   "execution_count": 380,
   "metadata": {},
   "outputs": [
    {
     "data": {
      "text/plain": [
       "averageRating                        5.2\n",
       "numVotes                              76\n",
       "primaryTitle           The Office Mix-Up\n",
       "isAdult                                0\n",
       "startYear                           2020\n",
       "genres                    Comedy,Romance\n",
       "titleType_movie                        1\n",
       "titleType_short                        0\n",
       "titleType_tvEpisode                    0\n",
       "titleType_tvSeries                     0\n",
       "titleType_tvSpecial                    0\n",
       "titleType_video                        0\n",
       "Name: 259766, dtype: object"
      ]
     },
     "execution_count": 380,
     "metadata": {},
     "output_type": "execute_result"
    }
   ],
   "source": [
    "trainData_df.iloc[259766]"
   ]
  },
  {
   "cell_type": "code",
   "execution_count": 381,
   "metadata": {},
   "outputs": [
    {
     "data": {
      "text/html": [
       "<div>\n",
       "<style scoped>\n",
       "    .dataframe tbody tr th:only-of-type {\n",
       "        vertical-align: middle;\n",
       "    }\n",
       "\n",
       "    .dataframe tbody tr th {\n",
       "        vertical-align: top;\n",
       "    }\n",
       "\n",
       "    .dataframe thead th {\n",
       "        text-align: right;\n",
       "    }\n",
       "</style>\n",
       "<table border=\"1\" class=\"dataframe\">\n",
       "  <thead>\n",
       "    <tr style=\"text-align: right;\">\n",
       "      <th></th>\n",
       "      <th>averageRating</th>\n",
       "      <th>numVotes</th>\n",
       "      <th>isAdult</th>\n",
       "      <th>startYear</th>\n",
       "      <th>titleType_movie</th>\n",
       "      <th>titleType_short</th>\n",
       "      <th>titleType_tvEpisode</th>\n",
       "      <th>titleType_tvSeries</th>\n",
       "      <th>titleType_tvSpecial</th>\n",
       "      <th>titleType_video</th>\n",
       "    </tr>\n",
       "  </thead>\n",
       "  <tbody>\n",
       "    <tr>\n",
       "      <th>Un bon bock-Animation,Short</th>\n",
       "      <td>6.2</td>\n",
       "      <td>121</td>\n",
       "      <td>0</td>\n",
       "      <td>1892</td>\n",
       "      <td>0</td>\n",
       "      <td>1</td>\n",
       "      <td>0</td>\n",
       "      <td>0</td>\n",
       "      <td>0</td>\n",
       "      <td>0</td>\n",
       "    </tr>\n",
       "    <tr>\n",
       "      <th>Chinese Opium Den-Short</th>\n",
       "      <td>5.3</td>\n",
       "      <td>115</td>\n",
       "      <td>0</td>\n",
       "      <td>1894</td>\n",
       "      <td>0</td>\n",
       "      <td>1</td>\n",
       "      <td>0</td>\n",
       "      <td>0</td>\n",
       "      <td>0</td>\n",
       "      <td>0</td>\n",
       "    </tr>\n",
       "    <tr>\n",
       "      <th>Miss Jerry-Romance</th>\n",
       "      <td>5.9</td>\n",
       "      <td>156</td>\n",
       "      <td>0</td>\n",
       "      <td>1894</td>\n",
       "      <td>1</td>\n",
       "      <td>0</td>\n",
       "      <td>0</td>\n",
       "      <td>0</td>\n",
       "      <td>0</td>\n",
       "      <td>0</td>\n",
       "    </tr>\n",
       "    <tr>\n",
       "      <th>Opening of the Kiel Canal-News,Short</th>\n",
       "      <td>4.5</td>\n",
       "      <td>54</td>\n",
       "      <td>0</td>\n",
       "      <td>1895</td>\n",
       "      <td>0</td>\n",
       "      <td>1</td>\n",
       "      <td>0</td>\n",
       "      <td>0</td>\n",
       "      <td>0</td>\n",
       "      <td>0</td>\n",
       "    </tr>\n",
       "    <tr>\n",
       "      <th>Arrivée d'un train gare de Vincennes-Documentary,Short</th>\n",
       "      <td>5.3</td>\n",
       "      <td>135</td>\n",
       "      <td>0</td>\n",
       "      <td>1896</td>\n",
       "      <td>0</td>\n",
       "      <td>1</td>\n",
       "      <td>0</td>\n",
       "      <td>0</td>\n",
       "      <td>0</td>\n",
       "      <td>0</td>\n",
       "    </tr>\n",
       "  </tbody>\n",
       "</table>\n",
       "</div>"
      ],
      "text/plain": [
       "                                                    averageRating  numVotes  \\\n",
       "Un bon bock-Animation,Short                                   6.2       121   \n",
       "Chinese Opium Den-Short                                       5.3       115   \n",
       "Miss Jerry-Romance                                            5.9       156   \n",
       "Opening of the Kiel Canal-News,Short                          4.5        54   \n",
       "Arrivée d'un train gare de Vincennes-Documentar...            5.3       135   \n",
       "\n",
       "                                                    isAdult startYear  \\\n",
       "Un bon bock-Animation,Short                               0      1892   \n",
       "Chinese Opium Den-Short                                   0      1894   \n",
       "Miss Jerry-Romance                                        0      1894   \n",
       "Opening of the Kiel Canal-News,Short                      0      1895   \n",
       "Arrivée d'un train gare de Vincennes-Documentar...        0      1896   \n",
       "\n",
       "                                                    titleType_movie  \\\n",
       "Un bon bock-Animation,Short                                       0   \n",
       "Chinese Opium Den-Short                                           0   \n",
       "Miss Jerry-Romance                                                1   \n",
       "Opening of the Kiel Canal-News,Short                              0   \n",
       "Arrivée d'un train gare de Vincennes-Documentar...                0   \n",
       "\n",
       "                                                    titleType_short  \\\n",
       "Un bon bock-Animation,Short                                       1   \n",
       "Chinese Opium Den-Short                                           1   \n",
       "Miss Jerry-Romance                                                0   \n",
       "Opening of the Kiel Canal-News,Short                              1   \n",
       "Arrivée d'un train gare de Vincennes-Documentar...                1   \n",
       "\n",
       "                                                    titleType_tvEpisode  \\\n",
       "Un bon bock-Animation,Short                                           0   \n",
       "Chinese Opium Den-Short                                               0   \n",
       "Miss Jerry-Romance                                                    0   \n",
       "Opening of the Kiel Canal-News,Short                                  0   \n",
       "Arrivée d'un train gare de Vincennes-Documentar...                    0   \n",
       "\n",
       "                                                    titleType_tvSeries  \\\n",
       "Un bon bock-Animation,Short                                          0   \n",
       "Chinese Opium Den-Short                                              0   \n",
       "Miss Jerry-Romance                                                   0   \n",
       "Opening of the Kiel Canal-News,Short                                 0   \n",
       "Arrivée d'un train gare de Vincennes-Documentar...                   0   \n",
       "\n",
       "                                                    titleType_tvSpecial  \\\n",
       "Un bon bock-Animation,Short                                           0   \n",
       "Chinese Opium Den-Short                                               0   \n",
       "Miss Jerry-Romance                                                    0   \n",
       "Opening of the Kiel Canal-News,Short                                  0   \n",
       "Arrivée d'un train gare de Vincennes-Documentar...                    0   \n",
       "\n",
       "                                                    titleType_video  \n",
       "Un bon bock-Animation,Short                                       0  \n",
       "Chinese Opium Den-Short                                           0  \n",
       "Miss Jerry-Romance                                                0  \n",
       "Opening of the Kiel Canal-News,Short                              0  \n",
       "Arrivée d'un train gare de Vincennes-Documentar...                0  "
      ]
     },
     "execution_count": 381,
     "metadata": {},
     "output_type": "execute_result"
    }
   ],
   "source": [
    "#changing index of trainData_df to primaryTitle + genres\n",
    "\n",
    "trainData_df.index=trainData_df['primaryTitle'] + \"-\" + trainData_df['genres'].astype(object)\n",
    "drop=[\"primaryTitle\" , \"genres\"]\n",
    "trainData_df.drop(drop, axis=1, inplace=True)\n",
    "trainData_df.head()"
   ]
  },
  {
   "cell_type": "code",
   "execution_count": 382,
   "metadata": {},
   "outputs": [
    {
     "data": {
      "text/html": [
       "<div>\n",
       "<style scoped>\n",
       "    .dataframe tbody tr th:only-of-type {\n",
       "        vertical-align: middle;\n",
       "    }\n",
       "\n",
       "    .dataframe tbody tr th {\n",
       "        vertical-align: top;\n",
       "    }\n",
       "\n",
       "    .dataframe thead th {\n",
       "        text-align: right;\n",
       "    }\n",
       "</style>\n",
       "<table border=\"1\" class=\"dataframe\">\n",
       "  <thead>\n",
       "    <tr style=\"text-align: right;\">\n",
       "      <th></th>\n",
       "      <th>startYear</th>\n",
       "      <th>numVotes</th>\n",
       "      <th>averageRating</th>\n",
       "      <th>isAdult</th>\n",
       "      <th>titleType_movie</th>\n",
       "      <th>titleType_short</th>\n",
       "      <th>titleType_tvEpisode</th>\n",
       "      <th>titleType_tvSeries</th>\n",
       "      <th>titleType_tvSpecial</th>\n",
       "      <th>titleType_video</th>\n",
       "    </tr>\n",
       "  </thead>\n",
       "  <tbody>\n",
       "    <tr>\n",
       "      <th>Un bon bock-Animation,Short</th>\n",
       "      <td>1892</td>\n",
       "      <td>121</td>\n",
       "      <td>6.2</td>\n",
       "      <td>0</td>\n",
       "      <td>0</td>\n",
       "      <td>1</td>\n",
       "      <td>0</td>\n",
       "      <td>0</td>\n",
       "      <td>0</td>\n",
       "      <td>0</td>\n",
       "    </tr>\n",
       "    <tr>\n",
       "      <th>Chinese Opium Den-Short</th>\n",
       "      <td>1894</td>\n",
       "      <td>115</td>\n",
       "      <td>5.3</td>\n",
       "      <td>0</td>\n",
       "      <td>0</td>\n",
       "      <td>1</td>\n",
       "      <td>0</td>\n",
       "      <td>0</td>\n",
       "      <td>0</td>\n",
       "      <td>0</td>\n",
       "    </tr>\n",
       "    <tr>\n",
       "      <th>Miss Jerry-Romance</th>\n",
       "      <td>1894</td>\n",
       "      <td>156</td>\n",
       "      <td>5.9</td>\n",
       "      <td>0</td>\n",
       "      <td>1</td>\n",
       "      <td>0</td>\n",
       "      <td>0</td>\n",
       "      <td>0</td>\n",
       "      <td>0</td>\n",
       "      <td>0</td>\n",
       "    </tr>\n",
       "    <tr>\n",
       "      <th>Opening of the Kiel Canal-News,Short</th>\n",
       "      <td>1895</td>\n",
       "      <td>54</td>\n",
       "      <td>4.5</td>\n",
       "      <td>0</td>\n",
       "      <td>0</td>\n",
       "      <td>1</td>\n",
       "      <td>0</td>\n",
       "      <td>0</td>\n",
       "      <td>0</td>\n",
       "      <td>0</td>\n",
       "    </tr>\n",
       "    <tr>\n",
       "      <th>Arrivée d'un train gare de Vincennes-Documentary,Short</th>\n",
       "      <td>1896</td>\n",
       "      <td>135</td>\n",
       "      <td>5.3</td>\n",
       "      <td>0</td>\n",
       "      <td>0</td>\n",
       "      <td>1</td>\n",
       "      <td>0</td>\n",
       "      <td>0</td>\n",
       "      <td>0</td>\n",
       "      <td>0</td>\n",
       "    </tr>\n",
       "  </tbody>\n",
       "</table>\n",
       "</div>"
      ],
      "text/plain": [
       "                                                   startYear  numVotes  \\\n",
       "Un bon bock-Animation,Short                             1892       121   \n",
       "Chinese Opium Den-Short                                 1894       115   \n",
       "Miss Jerry-Romance                                      1894       156   \n",
       "Opening of the Kiel Canal-News,Short                    1895        54   \n",
       "Arrivée d'un train gare de Vincennes-Documentar...      1896       135   \n",
       "\n",
       "                                                    averageRating  isAdult  \\\n",
       "Un bon bock-Animation,Short                                   6.2        0   \n",
       "Chinese Opium Den-Short                                       5.3        0   \n",
       "Miss Jerry-Romance                                            5.9        0   \n",
       "Opening of the Kiel Canal-News,Short                          4.5        0   \n",
       "Arrivée d'un train gare de Vincennes-Documentar...            5.3        0   \n",
       "\n",
       "                                                    titleType_movie  \\\n",
       "Un bon bock-Animation,Short                                       0   \n",
       "Chinese Opium Den-Short                                           0   \n",
       "Miss Jerry-Romance                                                1   \n",
       "Opening of the Kiel Canal-News,Short                              0   \n",
       "Arrivée d'un train gare de Vincennes-Documentar...                0   \n",
       "\n",
       "                                                    titleType_short  \\\n",
       "Un bon bock-Animation,Short                                       1   \n",
       "Chinese Opium Den-Short                                           1   \n",
       "Miss Jerry-Romance                                                0   \n",
       "Opening of the Kiel Canal-News,Short                              1   \n",
       "Arrivée d'un train gare de Vincennes-Documentar...                1   \n",
       "\n",
       "                                                    titleType_tvEpisode  \\\n",
       "Un bon bock-Animation,Short                                           0   \n",
       "Chinese Opium Den-Short                                               0   \n",
       "Miss Jerry-Romance                                                    0   \n",
       "Opening of the Kiel Canal-News,Short                                  0   \n",
       "Arrivée d'un train gare de Vincennes-Documentar...                    0   \n",
       "\n",
       "                                                    titleType_tvSeries  \\\n",
       "Un bon bock-Animation,Short                                          0   \n",
       "Chinese Opium Den-Short                                              0   \n",
       "Miss Jerry-Romance                                                   0   \n",
       "Opening of the Kiel Canal-News,Short                                 0   \n",
       "Arrivée d'un train gare de Vincennes-Documentar...                   0   \n",
       "\n",
       "                                                    titleType_tvSpecial  \\\n",
       "Un bon bock-Animation,Short                                           0   \n",
       "Chinese Opium Den-Short                                               0   \n",
       "Miss Jerry-Romance                                                    0   \n",
       "Opening of the Kiel Canal-News,Short                                  0   \n",
       "Arrivée d'un train gare de Vincennes-Documentar...                    0   \n",
       "\n",
       "                                                    titleType_video  \n",
       "Un bon bock-Animation,Short                                       0  \n",
       "Chinese Opium Den-Short                                           0  \n",
       "Miss Jerry-Romance                                                0  \n",
       "Opening of the Kiel Canal-News,Short                              0  \n",
       "Arrivée d'un train gare de Vincennes-Documentar...                0  "
      ]
     },
     "execution_count": 382,
     "metadata": {},
     "output_type": "execute_result"
    }
   ],
   "source": [
    "trainData_df = trainData_df[['startYear', 'numVotes', 'averageRating', 'isAdult','titleType_movie','titleType_short','titleType_tvEpisode','titleType_tvSeries','titleType_tvSpecial','titleType_video']]\n",
    "trainData_df.head()"
   ]
  },
  {
   "cell_type": "code",
   "execution_count": 383,
   "metadata": {},
   "outputs": [],
   "source": [
    "#convert_dict = {'startYear': int, \n",
    "#               } \n",
    "  \n",
    "#trainData_df = trainData_df.astype(convert_dict)"
   ]
  },
  {
   "cell_type": "code",
   "execution_count": 384,
   "metadata": {},
   "outputs": [
    {
     "data": {
      "text/plain": [
       "startYear              category\n",
       "numVotes                  int64\n",
       "averageRating           float64\n",
       "isAdult                   uint8\n",
       "titleType_movie           uint8\n",
       "titleType_short           uint8\n",
       "titleType_tvEpisode       uint8\n",
       "titleType_tvSeries        uint8\n",
       "titleType_tvSpecial       uint8\n",
       "titleType_video           uint8\n",
       "dtype: object"
      ]
     },
     "execution_count": 384,
     "metadata": {},
     "output_type": "execute_result"
    }
   ],
   "source": [
    "trainData_df.dtypes"
   ]
  },
  {
   "cell_type": "code",
   "execution_count": 385,
   "metadata": {},
   "outputs": [],
   "source": [
    "train_data = trainData_df.values.astype('float32')"
   ]
  },
  {
   "cell_type": "markdown",
   "metadata": {},
   "source": [
    "# Train the K-Means model"
   ]
  },
  {
   "cell_type": "code",
   "execution_count": 388,
   "metadata": {},
   "outputs": [
    {
     "name": "stdout",
     "output_type": "stream",
     "text": [
      "training artifacts will be uploaded to: s3://mlmovieinfofiles/output\n"
     ]
    }
   ],
   "source": [
    "from sagemaker import get_execution_role\n",
    "from sagemaker.session import Session\n",
    "from sagemaker import KMeans\n",
    "import boto3\n",
    "import os\n",
    "import mxnet as mx\n",
    "\n",
    "role = get_execution_role()\n",
    "bucket_name = 'mlmovieinfofiles'\n",
    "output_location = 's3://{}/output'.format(bucket_name)\n",
    "\n",
    "print('training artifacts will be uploaded to: {}'.format(output_location))\n",
    "\n",
    "num_clusters = 10\n",
    "kmeans = KMeans(role=role,\n",
    "                instance_count=1,\n",
    "                instance_type='ml.m5.xlarge',\n",
    "                output_path=output_location,              \n",
    "                k=num_clusters\n",
    "                )"
   ]
  },
  {
   "cell_type": "code",
   "execution_count": 389,
   "metadata": {},
   "outputs": [
    {
     "name": "stderr",
     "output_type": "stream",
     "text": [
      "Defaulting to the only supported framework/algorithm version: 1. Ignoring framework/algorithm version: 1.\n",
      "Defaulting to the only supported framework/algorithm version: 1. Ignoring framework/algorithm version: 1.\n"
     ]
    },
    {
     "name": "stdout",
     "output_type": "stream",
     "text": [
      "2020-11-19 09:10:07 Starting - Starting the training job...\n",
      "2020-11-19 09:10:09 Starting - Launching requested ML instances.........\n",
      "2020-11-19 09:11:40 Starting - Preparing the instances for training......\n",
      "2020-11-19 09:13:02 Downloading - Downloading input data...\n",
      "2020-11-19 09:13:38 Training - Training image download completed. Training in progress..\u001b[34mDocker entrypoint called with argument(s): train\u001b[0m\n",
      "\u001b[34mRunning default environment configuration script\u001b[0m\n",
      "\u001b[34m[11/19/2020 09:13:41 INFO 139930388879168] Reading default configuration from /opt/amazon/lib/python2.7/site-packages/algorithm/resources/default-input.json: {u'_enable_profiler': u'false', u'_tuning_objective_metric': u'', u'_num_gpus': u'auto', u'local_lloyd_num_trials': u'auto', u'_log_level': u'info', u'_kvstore': u'auto', u'local_lloyd_init_method': u'kmeans++', u'force_dense': u'true', u'epochs': u'1', u'init_method': u'random', u'local_lloyd_tol': u'0.0001', u'local_lloyd_max_iter': u'300', u'_disable_wait_to_read': u'false', u'extra_center_factor': u'auto', u'eval_metrics': u'[\"msd\"]', u'_num_kv_servers': u'1', u'mini_batch_size': u'5000', u'half_life_time_size': u'0', u'_num_slices': u'1'}\u001b[0m\n",
      "\u001b[34m[11/19/2020 09:13:41 INFO 139930388879168] Reading provided configuration from /opt/ml/input/config/hyperparameters.json: {u'feature_dim': u'10', u'k': u'10', u'force_dense': u'True'}\u001b[0m\n",
      "\u001b[34m[11/19/2020 09:13:41 INFO 139930388879168] Final configuration: {u'_tuning_objective_metric': u'', u'extra_center_factor': u'auto', u'local_lloyd_init_method': u'kmeans++', u'force_dense': u'True', u'epochs': u'1', u'feature_dim': u'10', u'local_lloyd_tol': u'0.0001', u'_disable_wait_to_read': u'false', u'eval_metrics': u'[\"msd\"]', u'_num_kv_servers': u'1', u'mini_batch_size': u'5000', u'_enable_profiler': u'false', u'_num_gpus': u'auto', u'local_lloyd_num_trials': u'auto', u'_log_level': u'info', u'init_method': u'random', u'half_life_time_size': u'0', u'local_lloyd_max_iter': u'300', u'_kvstore': u'auto', u'k': u'10', u'_num_slices': u'1'}\u001b[0m\n",
      "\u001b[34m[11/19/2020 09:13:41 WARNING 139930388879168] Loggers have already been setup.\u001b[0m\n",
      "\u001b[34mProcess 1 is a worker.\u001b[0m\n",
      "\u001b[34m[11/19/2020 09:13:41 INFO 139930388879168] Using default worker.\u001b[0m\n",
      "\u001b[34m[11/19/2020 09:13:41 INFO 139930388879168] Loaded iterator creator application/x-recordio-protobuf for content type ('application/x-recordio-protobuf', '1.0')\u001b[0m\n",
      "\u001b[34m[11/19/2020 09:13:41 INFO 139930388879168] Create Store: local\u001b[0m\n",
      "\u001b[34m[11/19/2020 09:13:41 INFO 139930388879168] nvidia-smi took: 0.0251588821411 secs to identify 0 gpus\u001b[0m\n",
      "\u001b[34m[11/19/2020 09:13:41 INFO 139930388879168] Number of GPUs being used: 0\u001b[0m\n",
      "\u001b[34m[11/19/2020 09:13:41 INFO 139930388879168] Setting up with params: {u'_tuning_objective_metric': u'', u'extra_center_factor': u'auto', u'local_lloyd_init_method': u'kmeans++', u'force_dense': u'True', u'epochs': u'1', u'feature_dim': u'10', u'local_lloyd_tol': u'0.0001', u'_disable_wait_to_read': u'false', u'eval_metrics': u'[\"msd\"]', u'_num_kv_servers': u'1', u'mini_batch_size': u'5000', u'_enable_profiler': u'false', u'_num_gpus': u'auto', u'local_lloyd_num_trials': u'auto', u'_log_level': u'info', u'init_method': u'random', u'half_life_time_size': u'0', u'local_lloyd_max_iter': u'300', u'_kvstore': u'auto', u'k': u'10', u'_num_slices': u'1'}\u001b[0m\n",
      "\u001b[34m[11/19/2020 09:13:41 INFO 139930388879168] 'extra_center_factor' was set to 'auto', evaluated to 10.\u001b[0m\n",
      "\u001b[34m[11/19/2020 09:13:41 INFO 139930388879168] Number of GPUs being used: 0\u001b[0m\n",
      "\u001b[34m[11/19/2020 09:13:41 INFO 139930388879168] number of center slices 1\u001b[0m\n",
      "\u001b[34m#metrics {\"Metrics\": {\"Max Batches Seen Between Resets\": {\"count\": 1, \"max\": 1, \"sum\": 1.0, \"min\": 1}, \"Number of Batches Since Last Reset\": {\"count\": 1, \"max\": 1, \"sum\": 1.0, \"min\": 1}, \"Number of Records Since Last Reset\": {\"count\": 1, \"max\": 5000, \"sum\": 5000.0, \"min\": 5000}, \"Total Batches Seen\": {\"count\": 1, \"max\": 1, \"sum\": 1.0, \"min\": 1}, \"Total Records Seen\": {\"count\": 1, \"max\": 5000, \"sum\": 5000.0, \"min\": 5000}, \"Max Records Seen Between Resets\": {\"count\": 1, \"max\": 5000, \"sum\": 5000.0, \"min\": 5000}, \"Reset Count\": {\"count\": 1, \"max\": 0, \"sum\": 0.0, \"min\": 0}}, \"EndTime\": 1605777221.28017, \"Dimensions\": {\"Host\": \"algo-1\", \"Meta\": \"init_train_data_iter\", \"Operation\": \"training\", \"Algorithm\": \"AWS/KMeansWebscale\"}, \"StartTime\": 1605777221.280117}\n",
      "\u001b[0m\n",
      "\u001b[34m[2020-11-19 09:13:41.287] [tensorio] [info] epoch_stats={\"data_pipeline\": \"/opt/ml/input/data/train\", \"epoch\": 0, \"duration\": 53, \"num_examples\": 1, \"num_bytes\": 320000}\u001b[0m\n",
      "\u001b[34m[11/19/2020 09:13:41 INFO 139930388879168] Iter 10: Short term msd 70.793121. Long term msd 74.604666\u001b[0m\n",
      "\u001b[34m[11/19/2020 09:13:41 INFO 139930388879168] Iter 20: Short term msd 55.512648. Long term msd 60.743858\u001b[0m\n",
      "\u001b[34m[11/19/2020 09:13:41 INFO 139930388879168] Iter 30: Short term msd 42.713347. Long term msd 48.252781\u001b[0m\n",
      "\u001b[34m[11/19/2020 09:13:41 INFO 139930388879168] Iter 40: Short term msd 35.999800. Long term msd 40.496660\u001b[0m\n",
      "\u001b[34m[11/19/2020 09:13:42 INFO 139930388879168] Iter 50: Short term msd 35.844228. Long term msd 36.701537\u001b[0m\n",
      "\u001b[34m[2020-11-19 09:13:42.049] [tensorio] [info] epoch_stats={\"data_pipeline\": \"/opt/ml/input/data/train\", \"epoch\": 1, \"duration\": 761, \"num_examples\": 53, \"num_bytes\": 16801408}\u001b[0m\n",
      "\u001b[34m[11/19/2020 09:13:42 INFO 139930388879168] processed a total of 262522 examples\u001b[0m\n",
      "\u001b[34m[11/19/2020 09:13:42 INFO 139930388879168] #progress_metric: host=algo-1, completed 100 % of epochs\u001b[0m\n",
      "\u001b[34m#metrics {\"Metrics\": {\"Max Batches Seen Between Resets\": {\"count\": 1, \"max\": 53, \"sum\": 53.0, \"min\": 53}, \"Number of Batches Since Last Reset\": {\"count\": 1, \"max\": 53, \"sum\": 53.0, \"min\": 53}, \"Number of Records Since Last Reset\": {\"count\": 1, \"max\": 262522, \"sum\": 262522.0, \"min\": 262522}, \"Total Batches Seen\": {\"count\": 1, \"max\": 54, \"sum\": 54.0, \"min\": 54}, \"Total Records Seen\": {\"count\": 1, \"max\": 267522, \"sum\": 267522.0, \"min\": 267522}, \"Max Records Seen Between Resets\": {\"count\": 1, \"max\": 262522, \"sum\": 262522.0, \"min\": 262522}, \"Reset Count\": {\"count\": 1, \"max\": 1, \"sum\": 1.0, \"min\": 1}}, \"EndTime\": 1605777222.050073, \"Dimensions\": {\"Host\": \"algo-1\", \"Meta\": \"training_data_iter\", \"Operation\": \"training\", \"Algorithm\": \"AWS/KMeansWebscale\", \"epoch\": 0}, \"StartTime\": 1605777221.287667}\n",
      "\u001b[0m\n",
      "\u001b[34m[11/19/2020 09:13:42 INFO 139930388879168] #throughput_metric: host=algo-1, train throughput=344268.628008 records/second\u001b[0m\n",
      "\u001b[34m[11/19/2020 09:13:42 WARNING 139930388879168] wait_for_all_workers will not sync workers since the kv store is not running distributed\u001b[0m\n",
      "\u001b[34m[11/19/2020 09:13:42 INFO 139930388879168] shrinking 100 centers into 10\u001b[0m\n",
      "\u001b[34m[11/19/2020 09:13:42 INFO 139930388879168] local kmeans attempt #0. Current mean square distance 221.206940\u001b[0m\n",
      "\u001b[34m[11/19/2020 09:13:42 INFO 139930388879168] local kmeans attempt #1. Current mean square distance 215.049789\u001b[0m\n",
      "\u001b[34m[11/19/2020 09:13:42 INFO 139930388879168] local kmeans attempt #2. Current mean square distance 209.669052\u001b[0m\n",
      "\u001b[34m[11/19/2020 09:13:42 INFO 139930388879168] local kmeans attempt #3. Current mean square distance 209.243713\u001b[0m\n",
      "\u001b[34m[11/19/2020 09:13:42 INFO 139930388879168] local kmeans attempt #4. Current mean square distance 200.888092\u001b[0m\n",
      "\u001b[34m[11/19/2020 09:13:42 INFO 139930388879168] local kmeans attempt #5. Current mean square distance 209.435867\u001b[0m\n",
      "\u001b[34m[11/19/2020 09:13:42 INFO 139930388879168] local kmeans attempt #6. Current mean square distance 207.083405\u001b[0m\n",
      "\u001b[34m[11/19/2020 09:13:42 INFO 139930388879168] local kmeans attempt #7. Current mean square distance 234.401703\u001b[0m\n",
      "\u001b[34m[11/19/2020 09:13:42 INFO 139930388879168] local kmeans attempt #8. Current mean square distance 207.799591\u001b[0m\n",
      "\u001b[34m[11/19/2020 09:13:42 INFO 139930388879168] local kmeans attempt #9. Current mean square distance 203.774536\u001b[0m\n",
      "\u001b[34m[11/19/2020 09:13:42 INFO 139930388879168] finished shrinking process. Mean Square Distance = 201\u001b[0m\n",
      "\u001b[34m[11/19/2020 09:13:42 INFO 139930388879168] #quality_metric: host=algo-1, train msd <loss>=200.888092041\u001b[0m\n",
      "\u001b[34m[11/19/2020 09:13:42 INFO 139930388879168] predict compute msd took: 31.7176%, (0.240643 secs)\u001b[0m\n",
      "\u001b[34m[11/19/2020 09:13:42 INFO 139930388879168] compute all data-center distances: inner product took: 23.9725%, (0.181881 secs)\u001b[0m\n",
      "\u001b[34m[11/19/2020 09:13:42 INFO 139930388879168] gradient: cluster size  took: 22.4957%, (0.170676 secs)\u001b[0m\n",
      "\u001b[34m[11/19/2020 09:13:42 INFO 139930388879168] gradient: cluster center took: 6.3702%, (0.048331 secs)\u001b[0m\n",
      "\u001b[34m[11/19/2020 09:13:42 INFO 139930388879168] compute all data-center distances: point norm took: 3.5925%, (0.027256 secs)\u001b[0m\n",
      "\u001b[34m[11/19/2020 09:13:42 INFO 139930388879168] batch data loading with context took: 2.9196%, (0.022151 secs)\u001b[0m\n",
      "\u001b[34m[11/19/2020 09:13:42 INFO 139930388879168] update state and report convergance took: 2.9153%, (0.022119 secs)\u001b[0m\n",
      "\u001b[34m[11/19/2020 09:13:42 INFO 139930388879168] gradient: one_hot took: 2.2321%, (0.016935 secs)\u001b[0m\n",
      "\u001b[34m[11/19/2020 09:13:42 INFO 139930388879168] collect from kv store took: 1.6463%, (0.012491 secs)\u001b[0m\n",
      "\u001b[34m[11/19/2020 09:13:42 INFO 139930388879168] splitting centers key-value pair took: 1.1309%, (0.008580 secs)\u001b[0m\n",
      "\u001b[34m[11/19/2020 09:13:42 INFO 139930388879168] compute all data-center distances: center norm took: 0.8678%, (0.006584 secs)\u001b[0m\n",
      "\u001b[34m[11/19/2020 09:13:42 INFO 139930388879168] predict minus dist took: 0.1102%, (0.000836 secs)\u001b[0m\n",
      "\u001b[34m[11/19/2020 09:13:42 INFO 139930388879168] update set-up time took: 0.0293%, (0.000222 secs)\u001b[0m\n",
      "\u001b[34m[11/19/2020 09:13:42 INFO 139930388879168] TOTAL took: 0.758704423904\u001b[0m\n",
      "\u001b[34m[11/19/2020 09:13:42 INFO 139930388879168] Number of GPUs being used: 0\u001b[0m\n",
      "\u001b[34m#metrics {\"Metrics\": {\"finalize.time\": {\"count\": 1, \"max\": 264.50586318969727, \"sum\": 264.50586318969727, \"min\": 264.50586318969727}, \"initialize.time\": {\"count\": 1, \"max\": 38.050174713134766, \"sum\": 38.050174713134766, \"min\": 38.050174713134766}, \"model.serialize.time\": {\"count\": 1, \"max\": 0.1399517059326172, \"sum\": 0.1399517059326172, \"min\": 0.1399517059326172}, \"update.time\": {\"count\": 1, \"max\": 762.1879577636719, \"sum\": 762.1879577636719, \"min\": 762.1879577636719}, \"epochs\": {\"count\": 1, \"max\": 1, \"sum\": 1.0, \"min\": 1}, \"state.serialize.time\": {\"count\": 1, \"max\": 1.516103744506836, \"sum\": 1.516103744506836, \"min\": 1.516103744506836}, \"_shrink.time\": {\"count\": 1, \"max\": 263.1509304046631, \"sum\": 263.1509304046631, \"min\": 263.1509304046631}}, \"EndTime\": 1605777222.316705, \"Dimensions\": {\"Host\": \"algo-1\", \"Operation\": \"training\", \"Algorithm\": \"AWS/KMeansWebscale\"}, \"StartTime\": 1605777221.232979}\n",
      "\u001b[0m\n",
      "\u001b[34m[11/19/2020 09:13:42 INFO 139930388879168] Test data is not provided.\u001b[0m\n",
      "\u001b[34m#metrics {\"Metrics\": {\"totaltime\": {\"count\": 1, \"max\": 1161.2510681152344, \"sum\": 1161.2510681152344, \"min\": 1161.2510681152344}, \"setuptime\": {\"count\": 1, \"max\": 17.503976821899414, \"sum\": 17.503976821899414, \"min\": 17.503976821899414}}, \"EndTime\": 1605777222.317695, \"Dimensions\": {\"Host\": \"algo-1\", \"Operation\": \"training\", \"Algorithm\": \"AWS/KMeansWebscale\"}, \"StartTime\": 1605777222.316808}\n",
      "\u001b[0m\n"
     ]
    },
    {
     "name": "stdout",
     "output_type": "stream",
     "text": [
      "\n",
      "2020-11-19 09:13:50 Uploading - Uploading generated training model\n",
      "2020-11-19 09:13:50 Completed - Training job completed\n",
      "Training seconds: 48\n",
      "Billable seconds: 48\n",
      "CPU times: user 3.36 s, sys: 43.1 ms, total: 3.4 s\n",
      "Wall time: 4min 15s\n"
     ]
    }
   ],
   "source": [
    "%%time\n",
    "\n",
    "kmeans.fit(kmeans.record_set(train_data))"
   ]
  },
  {
   "cell_type": "markdown",
   "metadata": {},
   "source": [
    "# Set up hosting for the model\n",
    "\n",
    "Now, we can deploy the model we just trained behind a real-time hosted endpoint. "
   ]
  },
  {
   "cell_type": "code",
   "execution_count": 390,
   "metadata": {},
   "outputs": [
    {
     "name": "stderr",
     "output_type": "stream",
     "text": [
      "Defaulting to the only supported framework/algorithm version: 1. Ignoring framework/algorithm version: 1.\n"
     ]
    },
    {
     "name": "stdout",
     "output_type": "stream",
     "text": [
      "-----------------!CPU times: user 251 ms, sys: 23.6 ms, total: 274 ms\n",
      "Wall time: 8min 32s\n"
     ]
    }
   ],
   "source": [
    "%%time\n",
    "\n",
    "kmeans_predictor = kmeans.deploy(initial_instance_count=1,\n",
    "                                 instance_type='ml.m4.xlarge')\n"
   ]
  },
  {
   "cell_type": "code",
   "execution_count": 391,
   "metadata": {},
   "outputs": [],
   "source": [
    "#result=kmeans_predictor.predict(train_data)\n",
    "result=kmeans_predictor.predict(train_data[0:98300])"
   ]
  },
  {
   "cell_type": "code",
   "execution_count": 392,
   "metadata": {},
   "outputs": [],
   "source": [
    "result1=kmeans_predictor.predict(train_data[98300:150000])"
   ]
  },
  {
   "cell_type": "code",
   "execution_count": 393,
   "metadata": {},
   "outputs": [],
   "source": [
    "result2=kmeans_predictor.predict(train_data[150000:248300])"
   ]
  },
  {
   "cell_type": "code",
   "execution_count": 394,
   "metadata": {},
   "outputs": [],
   "source": [
    "result3=kmeans_predictor.predict(train_data[248300:262522])"
   ]
  },
  {
   "cell_type": "code",
   "execution_count": 395,
   "metadata": {},
   "outputs": [
    {
     "data": {
      "text/plain": [
       "6.0    16678\n",
       "9.0    16318\n",
       "0.0    12039\n",
       "2.0    10539\n",
       "1.0     8564\n",
       "5.0     8251\n",
       "3.0     7362\n",
       "8.0     7255\n",
       "7.0     6380\n",
       "4.0     4914\n",
       "Name: 0, dtype: int64"
      ]
     },
     "execution_count": 395,
     "metadata": {},
     "output_type": "execute_result"
    }
   ],
   "source": [
    "cluster_labels = [r.label['closest_cluster'].float32_tensor.values[0] for r in result]\n",
    "pd.DataFrame(cluster_labels)[0].value_counts()"
   ]
  },
  {
   "cell_type": "code",
   "execution_count": 396,
   "metadata": {},
   "outputs": [
    {
     "data": {
      "text/plain": [
       "9.0    12608\n",
       "2.0     8382\n",
       "8.0     5759\n",
       "3.0     5060\n",
       "1.0     4918\n",
       "0.0     4892\n",
       "6.0     4717\n",
       "4.0     2790\n",
       "5.0     1490\n",
       "7.0     1084\n",
       "Name: 0, dtype: int64"
      ]
     },
     "execution_count": 396,
     "metadata": {},
     "output_type": "execute_result"
    }
   ],
   "source": [
    "cluster_labels1 = [r.label['closest_cluster'].float32_tensor.values[0] for r in result1]\n",
    "pd.DataFrame(cluster_labels1)[0].value_counts()"
   ]
  },
  {
   "cell_type": "code",
   "execution_count": 397,
   "metadata": {},
   "outputs": [
    {
     "data": {
      "text/plain": [
       "2.0    37847\n",
       "8.0    17873\n",
       "3.0    13737\n",
       "1.0     9852\n",
       "9.0     7615\n",
       "4.0     7179\n",
       "6.0     1965\n",
       "0.0     1486\n",
       "5.0      437\n",
       "7.0      309\n",
       "Name: 0, dtype: int64"
      ]
     },
     "execution_count": 397,
     "metadata": {},
     "output_type": "execute_result"
    }
   ],
   "source": [
    "cluster_labels2 = [r.label['closest_cluster'].float32_tensor.values[0] for r in result2]\n",
    "pd.DataFrame(cluster_labels2)[0].value_counts()"
   ]
  },
  {
   "cell_type": "code",
   "execution_count": 398,
   "metadata": {},
   "outputs": [
    {
     "data": {
      "text/plain": [
       "2.0    6103\n",
       "8.0    2653\n",
       "3.0    2167\n",
       "1.0    1417\n",
       "4.0    1137\n",
       "9.0     629\n",
       "6.0      77\n",
       "0.0      34\n",
       "5.0       3\n",
       "7.0       2\n",
       "Name: 0, dtype: int64"
      ]
     },
     "execution_count": 398,
     "metadata": {},
     "output_type": "execute_result"
    }
   ],
   "source": [
    "cluster_labels3 = [r.label['closest_cluster'].float32_tensor.values[0] for r in result3]\n",
    "pd.DataFrame(cluster_labels3)[0].value_counts()"
   ]
  },
  {
   "cell_type": "code",
   "execution_count": 399,
   "metadata": {},
   "outputs": [
    {
     "data": {
      "image/png": "[encoded data removed]",
      "text/plain": [
       "<Figure size 432x216 with 1 Axes>"
      ]
     },
     "metadata": {
      "needs_background": "light"
     },
     "output_type": "display_data"
    }
   ],
   "source": [
    "ax=plt.subplots(figsize=(6,3))\n",
    "ax=sns.distplot(cluster_labels, kde=False)\n",
    "title=\"Histogram of Cluster Counts\"\n",
    "ax.set_title(title, fontsize=12)\n",
    "plt.show()"
   ]
  },
  {
   "cell_type": "code",
   "execution_count": 404,
   "metadata": {},
   "outputs": [
    {
     "name": "stdout",
     "output_type": "stream",
     "text": [
      "output/kmeans-2020-11-19-09-10-07-455/output/model.tar.gz\n"
     ]
    }
   ],
   "source": [
    "job_name='kmeans-2020-11-19-09-10-07-455'\n",
    "model_key = \"output/\" + job_name + \"/output/model.tar.gz\"\n",
    "print(model_key)"
   ]
  },
  {
   "cell_type": "code",
   "execution_count": 405,
   "metadata": {},
   "outputs": [
    {
     "data": {
      "text/plain": [
       "-1"
      ]
     },
     "execution_count": 405,
     "metadata": {},
     "output_type": "execute_result"
    }
   ],
   "source": [
    "boto3.resource('s3').Bucket(bucket_name).download_file(model_key, 'model.tar.gz')\n",
    "os.system('tar -zxvf model.tar.gz')\n",
    "os.system('unzip model_algo-1')"
   ]
  },
  {
   "cell_type": "code",
   "execution_count": 406,
   "metadata": {},
   "outputs": [],
   "source": [
    "Kmeans_model_params = mx.ndarray.load('model_algo-1')"
   ]
  },
  {
   "cell_type": "code",
   "execution_count": 407,
   "metadata": {},
   "outputs": [
    {
     "data": {
      "text/html": [
       "<div>\n",
       "<style scoped>\n",
       "    .dataframe tbody tr th:only-of-type {\n",
       "        vertical-align: middle;\n",
       "    }\n",
       "\n",
       "    .dataframe tbody tr th {\n",
       "        vertical-align: top;\n",
       "    }\n",
       "\n",
       "    .dataframe thead th {\n",
       "        text-align: right;\n",
       "    }\n",
       "</style>\n",
       "<table border=\"1\" class=\"dataframe\">\n",
       "  <thead>\n",
       "    <tr style=\"text-align: right;\">\n",
       "      <th></th>\n",
       "      <th>startYear</th>\n",
       "      <th>numVotes</th>\n",
       "      <th>averageRating</th>\n",
       "      <th>isAdult</th>\n",
       "      <th>titleType_movie</th>\n",
       "      <th>titleType_short</th>\n",
       "      <th>titleType_tvEpisode</th>\n",
       "      <th>titleType_tvSeries</th>\n",
       "      <th>titleType_tvSpecial</th>\n",
       "      <th>titleType_video</th>\n",
       "    </tr>\n",
       "  </thead>\n",
       "  <tbody>\n",
       "    <tr>\n",
       "      <th>0</th>\n",
       "      <td>1927.544312</td>\n",
       "      <td>17.554184</td>\n",
       "      <td>5.952841</td>\n",
       "      <td>0.000612</td>\n",
       "      <td>0.673523</td>\n",
       "      <td>0.283188</td>\n",
       "      <td>0.005082</td>\n",
       "      <td>0.024124</td>\n",
       "      <td>0.000061</td>\n",
       "      <td>0.014022</td>\n",
       "    </tr>\n",
       "    <tr>\n",
       "      <th>1</th>\n",
       "      <td>2007.855225</td>\n",
       "      <td>64.637581</td>\n",
       "      <td>6.504402</td>\n",
       "      <td>0.013672</td>\n",
       "      <td>0.601114</td>\n",
       "      <td>0.124959</td>\n",
       "      <td>0.031011</td>\n",
       "      <td>0.161505</td>\n",
       "      <td>0.016642</td>\n",
       "      <td>0.064770</td>\n",
       "    </tr>\n",
       "    <tr>\n",
       "      <th>2</th>\n",
       "      <td>2005.114014</td>\n",
       "      <td>104.322205</td>\n",
       "      <td>6.311377</td>\n",
       "      <td>0.008638</td>\n",
       "      <td>0.623346</td>\n",
       "      <td>0.105676</td>\n",
       "      <td>0.030355</td>\n",
       "      <td>0.157700</td>\n",
       "      <td>0.024531</td>\n",
       "      <td>0.058391</td>\n",
       "    </tr>\n",
       "    <tr>\n",
       "      <th>3</th>\n",
       "      <td>2010.503418</td>\n",
       "      <td>30.733877</td>\n",
       "      <td>6.610579</td>\n",
       "      <td>0.018676</td>\n",
       "      <td>0.538919</td>\n",
       "      <td>0.176310</td>\n",
       "      <td>0.028977</td>\n",
       "      <td>0.165576</td>\n",
       "      <td>0.013992</td>\n",
       "      <td>0.076226</td>\n",
       "    </tr>\n",
       "    <tr>\n",
       "      <th>4</th>\n",
       "      <td>1969.962769</td>\n",
       "      <td>14.478603</td>\n",
       "      <td>6.328691</td>\n",
       "      <td>0.055501</td>\n",
       "      <td>0.719736</td>\n",
       "      <td>0.137359</td>\n",
       "      <td>0.014343</td>\n",
       "      <td>0.079314</td>\n",
       "      <td>0.017928</td>\n",
       "      <td>0.031321</td>\n",
       "    </tr>\n",
       "    <tr>\n",
       "      <th>5</th>\n",
       "      <td>1953.625488</td>\n",
       "      <td>135.093262</td>\n",
       "      <td>6.185695</td>\n",
       "      <td>0.005906</td>\n",
       "      <td>0.707973</td>\n",
       "      <td>0.195341</td>\n",
       "      <td>0.014984</td>\n",
       "      <td>0.062452</td>\n",
       "      <td>0.003609</td>\n",
       "      <td>0.015640</td>\n",
       "    </tr>\n",
       "    <tr>\n",
       "      <th>6</th>\n",
       "      <td>1984.296631</td>\n",
       "      <td>43.552715</td>\n",
       "      <td>6.408734</td>\n",
       "      <td>0.059571</td>\n",
       "      <td>0.672815</td>\n",
       "      <td>0.102208</td>\n",
       "      <td>0.021218</td>\n",
       "      <td>0.107499</td>\n",
       "      <td>0.033817</td>\n",
       "      <td>0.062443</td>\n",
       "    </tr>\n",
       "    <tr>\n",
       "      <th>7</th>\n",
       "      <td>2003.597534</td>\n",
       "      <td>155.425522</td>\n",
       "      <td>6.190912</td>\n",
       "      <td>0.006528</td>\n",
       "      <td>0.649258</td>\n",
       "      <td>0.092830</td>\n",
       "      <td>0.034742</td>\n",
       "      <td>0.148042</td>\n",
       "      <td>0.018975</td>\n",
       "      <td>0.056152</td>\n",
       "    </tr>\n",
       "    <tr>\n",
       "      <th>8</th>\n",
       "      <td>1952.994385</td>\n",
       "      <td>68.212318</td>\n",
       "      <td>6.364516</td>\n",
       "      <td>0.005383</td>\n",
       "      <td>0.751345</td>\n",
       "      <td>0.158870</td>\n",
       "      <td>0.013522</td>\n",
       "      <td>0.062420</td>\n",
       "      <td>0.002435</td>\n",
       "      <td>0.011407</td>\n",
       "    </tr>\n",
       "    <tr>\n",
       "      <th>9</th>\n",
       "      <td>2007.985352</td>\n",
       "      <td>11.156151</td>\n",
       "      <td>6.712027</td>\n",
       "      <td>0.064756</td>\n",
       "      <td>0.472978</td>\n",
       "      <td>0.233218</td>\n",
       "      <td>0.039792</td>\n",
       "      <td>0.133992</td>\n",
       "      <td>0.009688</td>\n",
       "      <td>0.110333</td>\n",
       "    </tr>\n",
       "  </tbody>\n",
       "</table>\n",
       "</div>"
      ],
      "text/plain": [
       "     startYear    numVotes  averageRating   isAdult  titleType_movie  \\\n",
       "0  1927.544312   17.554184       5.952841  0.000612         0.673523   \n",
       "1  2007.855225   64.637581       6.504402  0.013672         0.601114   \n",
       "2  2005.114014  104.322205       6.311377  0.008638         0.623346   \n",
       "3  2010.503418   30.733877       6.610579  0.018676         0.538919   \n",
       "4  1969.962769   14.478603       6.328691  0.055501         0.719736   \n",
       "5  1953.625488  135.093262       6.185695  0.005906         0.707973   \n",
       "6  1984.296631   43.552715       6.408734  0.059571         0.672815   \n",
       "7  2003.597534  155.425522       6.190912  0.006528         0.649258   \n",
       "8  1952.994385   68.212318       6.364516  0.005383         0.751345   \n",
       "9  2007.985352   11.156151       6.712027  0.064756         0.472978   \n",
       "\n",
       "   titleType_short  titleType_tvEpisode  titleType_tvSeries  \\\n",
       "0         0.283188             0.005082            0.024124   \n",
       "1         0.124959             0.031011            0.161505   \n",
       "2         0.105676             0.030355            0.157700   \n",
       "3         0.176310             0.028977            0.165576   \n",
       "4         0.137359             0.014343            0.079314   \n",
       "5         0.195341             0.014984            0.062452   \n",
       "6         0.102208             0.021218            0.107499   \n",
       "7         0.092830             0.034742            0.148042   \n",
       "8         0.158870             0.013522            0.062420   \n",
       "9         0.233218             0.039792            0.133992   \n",
       "\n",
       "   titleType_tvSpecial  titleType_video  \n",
       "0             0.000061         0.014022  \n",
       "1             0.016642         0.064770  \n",
       "2             0.024531         0.058391  \n",
       "3             0.013992         0.076226  \n",
       "4             0.017928         0.031321  \n",
       "5             0.003609         0.015640  \n",
       "6             0.033817         0.062443  \n",
       "7             0.018975         0.056152  \n",
       "8             0.002435         0.011407  \n",
       "9             0.009688         0.110333  "
      ]
     },
     "execution_count": 407,
     "metadata": {},
     "output_type": "execute_result"
    }
   ],
   "source": [
    "cluster_centroids=pd.DataFrame(Kmeans_model_params[0].asnumpy())\n",
    "cluster_centroids.columns=trainData_df.columns\n",
    "cluster_centroids"
   ]
  },
  {
   "cell_type": "code",
   "execution_count": 408,
   "metadata": {},
   "outputs": [
    {
     "data": {
      "text/html": [
       "<div>\n",
       "<style scoped>\n",
       "    .dataframe tbody tr th:only-of-type {\n",
       "        vertical-align: middle;\n",
       "    }\n",
       "\n",
       "    .dataframe tbody tr th {\n",
       "        vertical-align: top;\n",
       "    }\n",
       "\n",
       "    .dataframe thead th {\n",
       "        text-align: right;\n",
       "    }\n",
       "</style>\n",
       "<table border=\"1\" class=\"dataframe\">\n",
       "  <thead>\n",
       "    <tr style=\"text-align: right;\">\n",
       "      <th></th>\n",
       "      <th>startYear</th>\n",
       "      <th>numVotes</th>\n",
       "      <th>averageRating</th>\n",
       "      <th>isAdult</th>\n",
       "      <th>titleType_movie</th>\n",
       "      <th>titleType_short</th>\n",
       "      <th>titleType_tvEpisode</th>\n",
       "      <th>titleType_tvSeries</th>\n",
       "      <th>titleType_tvSpecial</th>\n",
       "      <th>titleType_video</th>\n",
       "      <th>labels</th>\n",
       "    </tr>\n",
       "  </thead>\n",
       "  <tbody>\n",
       "    <tr>\n",
       "      <th>Un bon bock-Animation,Short</th>\n",
       "      <td>1892</td>\n",
       "      <td>121</td>\n",
       "      <td>6.2</td>\n",
       "      <td>0</td>\n",
       "      <td>0</td>\n",
       "      <td>1</td>\n",
       "      <td>0</td>\n",
       "      <td>0</td>\n",
       "      <td>0</td>\n",
       "      <td>0</td>\n",
       "      <td>5</td>\n",
       "    </tr>\n",
       "    <tr>\n",
       "      <th>Chinese Opium Den-Short</th>\n",
       "      <td>1894</td>\n",
       "      <td>115</td>\n",
       "      <td>5.3</td>\n",
       "      <td>0</td>\n",
       "      <td>0</td>\n",
       "      <td>1</td>\n",
       "      <td>0</td>\n",
       "      <td>0</td>\n",
       "      <td>0</td>\n",
       "      <td>0</td>\n",
       "      <td>5</td>\n",
       "    </tr>\n",
       "    <tr>\n",
       "      <th>Miss Jerry-Romance</th>\n",
       "      <td>1894</td>\n",
       "      <td>156</td>\n",
       "      <td>5.9</td>\n",
       "      <td>0</td>\n",
       "      <td>1</td>\n",
       "      <td>0</td>\n",
       "      <td>0</td>\n",
       "      <td>0</td>\n",
       "      <td>0</td>\n",
       "      <td>0</td>\n",
       "      <td>7</td>\n",
       "    </tr>\n",
       "    <tr>\n",
       "      <th>Opening of the Kiel Canal-News,Short</th>\n",
       "      <td>1895</td>\n",
       "      <td>54</td>\n",
       "      <td>4.5</td>\n",
       "      <td>0</td>\n",
       "      <td>0</td>\n",
       "      <td>1</td>\n",
       "      <td>0</td>\n",
       "      <td>0</td>\n",
       "      <td>0</td>\n",
       "      <td>0</td>\n",
       "      <td>6</td>\n",
       "    </tr>\n",
       "    <tr>\n",
       "      <th>Arrivée d'un train gare de Vincennes-Documentary,Short</th>\n",
       "      <td>1896</td>\n",
       "      <td>135</td>\n",
       "      <td>5.3</td>\n",
       "      <td>0</td>\n",
       "      <td>0</td>\n",
       "      <td>1</td>\n",
       "      <td>0</td>\n",
       "      <td>0</td>\n",
       "      <td>0</td>\n",
       "      <td>0</td>\n",
       "      <td>5</td>\n",
       "    </tr>\n",
       "    <tr>\n",
       "      <th>...</th>\n",
       "      <td>...</td>\n",
       "      <td>...</td>\n",
       "      <td>...</td>\n",
       "      <td>...</td>\n",
       "      <td>...</td>\n",
       "      <td>...</td>\n",
       "      <td>...</td>\n",
       "      <td>...</td>\n",
       "      <td>...</td>\n",
       "      <td>...</td>\n",
       "      <td>...</td>\n",
       "    </tr>\n",
       "    <tr>\n",
       "      <th>Eco-Drama,Short</th>\n",
       "      <td>2019</td>\n",
       "      <td>9</td>\n",
       "      <td>5.4</td>\n",
       "      <td>0</td>\n",
       "      <td>0</td>\n",
       "      <td>1</td>\n",
       "      <td>0</td>\n",
       "      <td>0</td>\n",
       "      <td>0</td>\n",
       "      <td>0</td>\n",
       "      <td>2</td>\n",
       "    </tr>\n",
       "    <tr>\n",
       "      <th>Danielle Darrieux: Il est poli d'être gai!-Biography</th>\n",
       "      <td>2019</td>\n",
       "      <td>9</td>\n",
       "      <td>7.4</td>\n",
       "      <td>0</td>\n",
       "      <td>1</td>\n",
       "      <td>0</td>\n",
       "      <td>0</td>\n",
       "      <td>0</td>\n",
       "      <td>0</td>\n",
       "      <td>0</td>\n",
       "      <td>2</td>\n",
       "    </tr>\n",
       "    <tr>\n",
       "      <th>Coven-Drama,History,Horror</th>\n",
       "      <td>2020</td>\n",
       "      <td>93</td>\n",
       "      <td>6.9</td>\n",
       "      <td>0</td>\n",
       "      <td>1</td>\n",
       "      <td>0</td>\n",
       "      <td>0</td>\n",
       "      <td>0</td>\n",
       "      <td>0</td>\n",
       "      <td>0</td>\n",
       "      <td>1</td>\n",
       "    </tr>\n",
       "    <tr>\n",
       "      <th>The Secret of China-Adventure,History,War</th>\n",
       "      <td>2019</td>\n",
       "      <td>11</td>\n",
       "      <td>4.1</td>\n",
       "      <td>0</td>\n",
       "      <td>1</td>\n",
       "      <td>0</td>\n",
       "      <td>0</td>\n",
       "      <td>0</td>\n",
       "      <td>0</td>\n",
       "      <td>0</td>\n",
       "      <td>2</td>\n",
       "    </tr>\n",
       "    <tr>\n",
       "      <th>The Nun 2-Comedy,Horror,Mystery</th>\n",
       "      <td>2019</td>\n",
       "      <td>63</td>\n",
       "      <td>6.1</td>\n",
       "      <td>0</td>\n",
       "      <td>0</td>\n",
       "      <td>1</td>\n",
       "      <td>0</td>\n",
       "      <td>0</td>\n",
       "      <td>0</td>\n",
       "      <td>0</td>\n",
       "      <td>3</td>\n",
       "    </tr>\n",
       "  </tbody>\n",
       "</table>\n",
       "<p>262522 rows × 11 columns</p>\n",
       "</div>"
      ],
      "text/plain": [
       "                                                   startYear  numVotes  \\\n",
       "Un bon bock-Animation,Short                             1892       121   \n",
       "Chinese Opium Den-Short                                 1894       115   \n",
       "Miss Jerry-Romance                                      1894       156   \n",
       "Opening of the Kiel Canal-News,Short                    1895        54   \n",
       "Arrivée d'un train gare de Vincennes-Documentar...      1896       135   \n",
       "...                                                      ...       ...   \n",
       "Eco-Drama,Short                                         2019         9   \n",
       "Danielle Darrieux: Il est poli d'être gai!-Biog...      2019         9   \n",
       "Coven-Drama,History,Horror                              2020        93   \n",
       "The Secret of China-Adventure,History,War               2019        11   \n",
       "The Nun 2-Comedy,Horror,Mystery                         2019        63   \n",
       "\n",
       "                                                    averageRating  isAdult  \\\n",
       "Un bon bock-Animation,Short                                   6.2        0   \n",
       "Chinese Opium Den-Short                                       5.3        0   \n",
       "Miss Jerry-Romance                                            5.9        0   \n",
       "Opening of the Kiel Canal-News,Short                          4.5        0   \n",
       "Arrivée d'un train gare de Vincennes-Documentar...            5.3        0   \n",
       "...                                                           ...      ...   \n",
       "Eco-Drama,Short                                               5.4        0   \n",
       "Danielle Darrieux: Il est poli d'être gai!-Biog...            7.4        0   \n",
       "Coven-Drama,History,Horror                                    6.9        0   \n",
       "The Secret of China-Adventure,History,War                     4.1        0   \n",
       "The Nun 2-Comedy,Horror,Mystery                               6.1        0   \n",
       "\n",
       "                                                    titleType_movie  \\\n",
       "Un bon bock-Animation,Short                                       0   \n",
       "Chinese Opium Den-Short                                           0   \n",
       "Miss Jerry-Romance                                                1   \n",
       "Opening of the Kiel Canal-News,Short                              0   \n",
       "Arrivée d'un train gare de Vincennes-Documentar...                0   \n",
       "...                                                             ...   \n",
       "Eco-Drama,Short                                                   0   \n",
       "Danielle Darrieux: Il est poli d'être gai!-Biog...                1   \n",
       "Coven-Drama,History,Horror                                        1   \n",
       "The Secret of China-Adventure,History,War                         1   \n",
       "The Nun 2-Comedy,Horror,Mystery                                   0   \n",
       "\n",
       "                                                    titleType_short  \\\n",
       "Un bon bock-Animation,Short                                       1   \n",
       "Chinese Opium Den-Short                                           1   \n",
       "Miss Jerry-Romance                                                0   \n",
       "Opening of the Kiel Canal-News,Short                              1   \n",
       "Arrivée d'un train gare de Vincennes-Documentar...                1   \n",
       "...                                                             ...   \n",
       "Eco-Drama,Short                                                   1   \n",
       "Danielle Darrieux: Il est poli d'être gai!-Biog...                0   \n",
       "Coven-Drama,History,Horror                                        0   \n",
       "The Secret of China-Adventure,History,War                         0   \n",
       "The Nun 2-Comedy,Horror,Mystery                                   1   \n",
       "\n",
       "                                                    titleType_tvEpisode  \\\n",
       "Un bon bock-Animation,Short                                           0   \n",
       "Chinese Opium Den-Short                                               0   \n",
       "Miss Jerry-Romance                                                    0   \n",
       "Opening of the Kiel Canal-News,Short                                  0   \n",
       "Arrivée d'un train gare de Vincennes-Documentar...                    0   \n",
       "...                                                                 ...   \n",
       "Eco-Drama,Short                                                       0   \n",
       "Danielle Darrieux: Il est poli d'être gai!-Biog...                    0   \n",
       "Coven-Drama,History,Horror                                            0   \n",
       "The Secret of China-Adventure,History,War                             0   \n",
       "The Nun 2-Comedy,Horror,Mystery                                       0   \n",
       "\n",
       "                                                    titleType_tvSeries  \\\n",
       "Un bon bock-Animation,Short                                          0   \n",
       "Chinese Opium Den-Short                                              0   \n",
       "Miss Jerry-Romance                                                   0   \n",
       "Opening of the Kiel Canal-News,Short                                 0   \n",
       "Arrivée d'un train gare de Vincennes-Documentar...                   0   \n",
       "...                                                                ...   \n",
       "Eco-Drama,Short                                                      0   \n",
       "Danielle Darrieux: Il est poli d'être gai!-Biog...                   0   \n",
       "Coven-Drama,History,Horror                                           0   \n",
       "The Secret of China-Adventure,History,War                            0   \n",
       "The Nun 2-Comedy,Horror,Mystery                                      0   \n",
       "\n",
       "                                                    titleType_tvSpecial  \\\n",
       "Un bon bock-Animation,Short                                           0   \n",
       "Chinese Opium Den-Short                                               0   \n",
       "Miss Jerry-Romance                                                    0   \n",
       "Opening of the Kiel Canal-News,Short                                  0   \n",
       "Arrivée d'un train gare de Vincennes-Documentar...                    0   \n",
       "...                                                                 ...   \n",
       "Eco-Drama,Short                                                       0   \n",
       "Danielle Darrieux: Il est poli d'être gai!-Biog...                    0   \n",
       "Coven-Drama,History,Horror                                            0   \n",
       "The Secret of China-Adventure,History,War                             0   \n",
       "The Nun 2-Comedy,Horror,Mystery                                       0   \n",
       "\n",
       "                                                    titleType_video  labels  \n",
       "Un bon bock-Animation,Short                                       0       5  \n",
       "Chinese Opium Den-Short                                           0       5  \n",
       "Miss Jerry-Romance                                                0       7  \n",
       "Opening of the Kiel Canal-News,Short                              0       6  \n",
       "Arrivée d'un train gare de Vincennes-Documentar...                0       5  \n",
       "...                                                             ...     ...  \n",
       "Eco-Drama,Short                                                   0       2  \n",
       "Danielle Darrieux: Il est poli d'être gai!-Biog...                0       2  \n",
       "Coven-Drama,History,Horror                                        0       1  \n",
       "The Secret of China-Adventure,History,War                         0       2  \n",
       "The Nun 2-Comedy,Horror,Mystery                                   0       3  \n",
       "\n",
       "[262522 rows x 11 columns]"
      ]
     },
     "execution_count": 408,
     "metadata": {},
     "output_type": "execute_result"
    }
   ],
   "source": [
    "newData = trainData_df.iloc[0:98300]\n",
    "newData1 = trainData_df.iloc[98300:150000]\n",
    "newData2 = trainData_df.iloc[150000:248300]\n",
    "newData3 = trainData_df.iloc[248300:262522]\n",
    "newData['labels']=list(map(int, cluster_labels))\n",
    "newData1['labels']=list(map(int, cluster_labels1))\n",
    "newData2['labels']=list(map(int, cluster_labels2))\n",
    "newData3['labels']=list(map(int, cluster_labels3))\n",
    "finalData = pd.concat([newData,newData1,newData2,newData3])\n",
    "finalData"
   ]
  },
  {
   "cell_type": "code",
   "execution_count": 409,
   "metadata": {},
   "outputs": [
    {
     "data": {
      "text/html": [
       "<div>\n",
       "<style scoped>\n",
       "    .dataframe tbody tr th:only-of-type {\n",
       "        vertical-align: middle;\n",
       "    }\n",
       "\n",
       "    .dataframe tbody tr th {\n",
       "        vertical-align: top;\n",
       "    }\n",
       "\n",
       "    .dataframe thead th {\n",
       "        text-align: right;\n",
       "    }\n",
       "</style>\n",
       "<table border=\"1\" class=\"dataframe\">\n",
       "  <thead>\n",
       "    <tr style=\"text-align: right;\">\n",
       "      <th></th>\n",
       "      <th>Title</th>\n",
       "      <th>startYear</th>\n",
       "      <th>numVotes</th>\n",
       "      <th>averageRating</th>\n",
       "      <th>isAdult</th>\n",
       "      <th>titleType_movie</th>\n",
       "      <th>titleType_short</th>\n",
       "      <th>titleType_tvEpisode</th>\n",
       "      <th>titleType_tvSeries</th>\n",
       "      <th>titleType_tvSpecial</th>\n",
       "      <th>titleType_video</th>\n",
       "      <th>labels</th>\n",
       "    </tr>\n",
       "  </thead>\n",
       "  <tbody>\n",
       "    <tr>\n",
       "      <th>0</th>\n",
       "      <td>Un bon bock-Animation,Short</td>\n",
       "      <td>1892</td>\n",
       "      <td>121</td>\n",
       "      <td>6.2</td>\n",
       "      <td>0</td>\n",
       "      <td>0</td>\n",
       "      <td>1</td>\n",
       "      <td>0</td>\n",
       "      <td>0</td>\n",
       "      <td>0</td>\n",
       "      <td>0</td>\n",
       "      <td>5</td>\n",
       "    </tr>\n",
       "    <tr>\n",
       "      <th>1</th>\n",
       "      <td>Chinese Opium Den-Short</td>\n",
       "      <td>1894</td>\n",
       "      <td>115</td>\n",
       "      <td>5.3</td>\n",
       "      <td>0</td>\n",
       "      <td>0</td>\n",
       "      <td>1</td>\n",
       "      <td>0</td>\n",
       "      <td>0</td>\n",
       "      <td>0</td>\n",
       "      <td>0</td>\n",
       "      <td>5</td>\n",
       "    </tr>\n",
       "    <tr>\n",
       "      <th>2</th>\n",
       "      <td>Miss Jerry-Romance</td>\n",
       "      <td>1894</td>\n",
       "      <td>156</td>\n",
       "      <td>5.9</td>\n",
       "      <td>0</td>\n",
       "      <td>1</td>\n",
       "      <td>0</td>\n",
       "      <td>0</td>\n",
       "      <td>0</td>\n",
       "      <td>0</td>\n",
       "      <td>0</td>\n",
       "      <td>7</td>\n",
       "    </tr>\n",
       "    <tr>\n",
       "      <th>3</th>\n",
       "      <td>Opening of the Kiel Canal-News,Short</td>\n",
       "      <td>1895</td>\n",
       "      <td>54</td>\n",
       "      <td>4.5</td>\n",
       "      <td>0</td>\n",
       "      <td>0</td>\n",
       "      <td>1</td>\n",
       "      <td>0</td>\n",
       "      <td>0</td>\n",
       "      <td>0</td>\n",
       "      <td>0</td>\n",
       "      <td>6</td>\n",
       "    </tr>\n",
       "    <tr>\n",
       "      <th>4</th>\n",
       "      <td>Arrivée d'un train gare de Vincennes-Documenta...</td>\n",
       "      <td>1896</td>\n",
       "      <td>135</td>\n",
       "      <td>5.3</td>\n",
       "      <td>0</td>\n",
       "      <td>0</td>\n",
       "      <td>1</td>\n",
       "      <td>0</td>\n",
       "      <td>0</td>\n",
       "      <td>0</td>\n",
       "      <td>0</td>\n",
       "      <td>5</td>\n",
       "    </tr>\n",
       "    <tr>\n",
       "      <th>...</th>\n",
       "      <td>...</td>\n",
       "      <td>...</td>\n",
       "      <td>...</td>\n",
       "      <td>...</td>\n",
       "      <td>...</td>\n",
       "      <td>...</td>\n",
       "      <td>...</td>\n",
       "      <td>...</td>\n",
       "      <td>...</td>\n",
       "      <td>...</td>\n",
       "      <td>...</td>\n",
       "      <td>...</td>\n",
       "    </tr>\n",
       "    <tr>\n",
       "      <th>262517</th>\n",
       "      <td>Eco-Drama,Short</td>\n",
       "      <td>2019</td>\n",
       "      <td>9</td>\n",
       "      <td>5.4</td>\n",
       "      <td>0</td>\n",
       "      <td>0</td>\n",
       "      <td>1</td>\n",
       "      <td>0</td>\n",
       "      <td>0</td>\n",
       "      <td>0</td>\n",
       "      <td>0</td>\n",
       "      <td>2</td>\n",
       "    </tr>\n",
       "    <tr>\n",
       "      <th>262518</th>\n",
       "      <td>Danielle Darrieux: Il est poli d'être gai!-Bio...</td>\n",
       "      <td>2019</td>\n",
       "      <td>9</td>\n",
       "      <td>7.4</td>\n",
       "      <td>0</td>\n",
       "      <td>1</td>\n",
       "      <td>0</td>\n",
       "      <td>0</td>\n",
       "      <td>0</td>\n",
       "      <td>0</td>\n",
       "      <td>0</td>\n",
       "      <td>2</td>\n",
       "    </tr>\n",
       "    <tr>\n",
       "      <th>262519</th>\n",
       "      <td>Coven-Drama,History,Horror</td>\n",
       "      <td>2020</td>\n",
       "      <td>93</td>\n",
       "      <td>6.9</td>\n",
       "      <td>0</td>\n",
       "      <td>1</td>\n",
       "      <td>0</td>\n",
       "      <td>0</td>\n",
       "      <td>0</td>\n",
       "      <td>0</td>\n",
       "      <td>0</td>\n",
       "      <td>1</td>\n",
       "    </tr>\n",
       "    <tr>\n",
       "      <th>262520</th>\n",
       "      <td>The Secret of China-Adventure,History,War</td>\n",
       "      <td>2019</td>\n",
       "      <td>11</td>\n",
       "      <td>4.1</td>\n",
       "      <td>0</td>\n",
       "      <td>1</td>\n",
       "      <td>0</td>\n",
       "      <td>0</td>\n",
       "      <td>0</td>\n",
       "      <td>0</td>\n",
       "      <td>0</td>\n",
       "      <td>2</td>\n",
       "    </tr>\n",
       "    <tr>\n",
       "      <th>262521</th>\n",
       "      <td>The Nun 2-Comedy,Horror,Mystery</td>\n",
       "      <td>2019</td>\n",
       "      <td>63</td>\n",
       "      <td>6.1</td>\n",
       "      <td>0</td>\n",
       "      <td>0</td>\n",
       "      <td>1</td>\n",
       "      <td>0</td>\n",
       "      <td>0</td>\n",
       "      <td>0</td>\n",
       "      <td>0</td>\n",
       "      <td>3</td>\n",
       "    </tr>\n",
       "  </tbody>\n",
       "</table>\n",
       "<p>262522 rows × 12 columns</p>\n",
       "</div>"
      ],
      "text/plain": [
       "                                                    Title startYear  numVotes  \\\n",
       "0                             Un bon bock-Animation,Short      1892       121   \n",
       "1                                 Chinese Opium Den-Short      1894       115   \n",
       "2                                      Miss Jerry-Romance      1894       156   \n",
       "3                    Opening of the Kiel Canal-News,Short      1895        54   \n",
       "4       Arrivée d'un train gare de Vincennes-Documenta...      1896       135   \n",
       "...                                                   ...       ...       ...   \n",
       "262517                                    Eco-Drama,Short      2019         9   \n",
       "262518  Danielle Darrieux: Il est poli d'être gai!-Bio...      2019         9   \n",
       "262519                         Coven-Drama,History,Horror      2020        93   \n",
       "262520          The Secret of China-Adventure,History,War      2019        11   \n",
       "262521                    The Nun 2-Comedy,Horror,Mystery      2019        63   \n",
       "\n",
       "        averageRating  isAdult  titleType_movie  titleType_short  \\\n",
       "0                 6.2        0                0                1   \n",
       "1                 5.3        0                0                1   \n",
       "2                 5.9        0                1                0   \n",
       "3                 4.5        0                0                1   \n",
       "4                 5.3        0                0                1   \n",
       "...               ...      ...              ...              ...   \n",
       "262517            5.4        0                0                1   \n",
       "262518            7.4        0                1                0   \n",
       "262519            6.9        0                1                0   \n",
       "262520            4.1        0                1                0   \n",
       "262521            6.1        0                0                1   \n",
       "\n",
       "        titleType_tvEpisode  titleType_tvSeries  titleType_tvSpecial  \\\n",
       "0                         0                   0                    0   \n",
       "1                         0                   0                    0   \n",
       "2                         0                   0                    0   \n",
       "3                         0                   0                    0   \n",
       "4                         0                   0                    0   \n",
       "...                     ...                 ...                  ...   \n",
       "262517                    0                   0                    0   \n",
       "262518                    0                   0                    0   \n",
       "262519                    0                   0                    0   \n",
       "262520                    0                   0                    0   \n",
       "262521                    0                   0                    0   \n",
       "\n",
       "        titleType_video  labels  \n",
       "0                     0       5  \n",
       "1                     0       5  \n",
       "2                     0       7  \n",
       "3                     0       6  \n",
       "4                     0       5  \n",
       "...                 ...     ...  \n",
       "262517                0       2  \n",
       "262518                0       2  \n",
       "262519                0       1  \n",
       "262520                0       2  \n",
       "262521                0       3  \n",
       "\n",
       "[262522 rows x 12 columns]"
      ]
     },
     "execution_count": 409,
     "metadata": {},
     "output_type": "execute_result"
    }
   ],
   "source": [
    "finalData.reset_index(level=0, inplace=True)\n",
    "finalData = finalData.rename(columns={'index': 'Title'})\n",
    "finalData"
   ]
  },
  {
   "cell_type": "code",
   "execution_count": 442,
   "metadata": {},
   "outputs": [
    {
     "data": {
      "text/html": [
       "<div>\n",
       "<style scoped>\n",
       "    .dataframe tbody tr th:only-of-type {\n",
       "        vertical-align: middle;\n",
       "    }\n",
       "\n",
       "    .dataframe tbody tr th {\n",
       "        vertical-align: top;\n",
       "    }\n",
       "\n",
       "    .dataframe thead th {\n",
       "        text-align: right;\n",
       "    }\n",
       "</style>\n",
       "<table border=\"1\" class=\"dataframe\">\n",
       "  <thead>\n",
       "    <tr style=\"text-align: right;\">\n",
       "      <th></th>\n",
       "      <th>Title</th>\n",
       "      <th>startYear</th>\n",
       "      <th>numVotes</th>\n",
       "      <th>averageRating</th>\n",
       "      <th>isAdult</th>\n",
       "      <th>titleType_movie</th>\n",
       "      <th>titleType_short</th>\n",
       "      <th>titleType_tvEpisode</th>\n",
       "      <th>titleType_tvSeries</th>\n",
       "      <th>titleType_tvSpecial</th>\n",
       "      <th>titleType_video</th>\n",
       "      <th>labels</th>\n",
       "    </tr>\n",
       "  </thead>\n",
       "  <tbody>\n",
       "    <tr>\n",
       "      <th>0</th>\n",
       "      <td>Un bon bock-Animation,Short</td>\n",
       "      <td>1892</td>\n",
       "      <td>121</td>\n",
       "      <td>6.2</td>\n",
       "      <td>0</td>\n",
       "      <td>0</td>\n",
       "      <td>1</td>\n",
       "      <td>0</td>\n",
       "      <td>0</td>\n",
       "      <td>0</td>\n",
       "      <td>0</td>\n",
       "      <td>5</td>\n",
       "    </tr>\n",
       "    <tr>\n",
       "      <th>1</th>\n",
       "      <td>Chinese Opium Den-Short</td>\n",
       "      <td>1894</td>\n",
       "      <td>115</td>\n",
       "      <td>5.3</td>\n",
       "      <td>0</td>\n",
       "      <td>0</td>\n",
       "      <td>1</td>\n",
       "      <td>0</td>\n",
       "      <td>0</td>\n",
       "      <td>0</td>\n",
       "      <td>0</td>\n",
       "      <td>5</td>\n",
       "    </tr>\n",
       "    <tr>\n",
       "      <th>2</th>\n",
       "      <td>Miss Jerry-Romance</td>\n",
       "      <td>1894</td>\n",
       "      <td>156</td>\n",
       "      <td>5.9</td>\n",
       "      <td>0</td>\n",
       "      <td>1</td>\n",
       "      <td>0</td>\n",
       "      <td>0</td>\n",
       "      <td>0</td>\n",
       "      <td>0</td>\n",
       "      <td>0</td>\n",
       "      <td>7</td>\n",
       "    </tr>\n",
       "    <tr>\n",
       "      <th>3</th>\n",
       "      <td>Opening of the Kiel Canal-News,Short</td>\n",
       "      <td>1895</td>\n",
       "      <td>54</td>\n",
       "      <td>4.5</td>\n",
       "      <td>0</td>\n",
       "      <td>0</td>\n",
       "      <td>1</td>\n",
       "      <td>0</td>\n",
       "      <td>0</td>\n",
       "      <td>0</td>\n",
       "      <td>0</td>\n",
       "      <td>6</td>\n",
       "    </tr>\n",
       "    <tr>\n",
       "      <th>4</th>\n",
       "      <td>Arrivée d'un train gare de Vincennes-Documenta...</td>\n",
       "      <td>1896</td>\n",
       "      <td>135</td>\n",
       "      <td>5.3</td>\n",
       "      <td>0</td>\n",
       "      <td>0</td>\n",
       "      <td>1</td>\n",
       "      <td>0</td>\n",
       "      <td>0</td>\n",
       "      <td>0</td>\n",
       "      <td>0</td>\n",
       "      <td>5</td>\n",
       "    </tr>\n",
       "    <tr>\n",
       "      <th>...</th>\n",
       "      <td>...</td>\n",
       "      <td>...</td>\n",
       "      <td>...</td>\n",
       "      <td>...</td>\n",
       "      <td>...</td>\n",
       "      <td>...</td>\n",
       "      <td>...</td>\n",
       "      <td>...</td>\n",
       "      <td>...</td>\n",
       "      <td>...</td>\n",
       "      <td>...</td>\n",
       "      <td>...</td>\n",
       "    </tr>\n",
       "    <tr>\n",
       "      <th>262517</th>\n",
       "      <td>Eco-Drama,Short</td>\n",
       "      <td>2019</td>\n",
       "      <td>9</td>\n",
       "      <td>5.4</td>\n",
       "      <td>0</td>\n",
       "      <td>0</td>\n",
       "      <td>1</td>\n",
       "      <td>0</td>\n",
       "      <td>0</td>\n",
       "      <td>0</td>\n",
       "      <td>0</td>\n",
       "      <td>2</td>\n",
       "    </tr>\n",
       "    <tr>\n",
       "      <th>262518</th>\n",
       "      <td>Danielle Darrieux: Il est poli d'être gai!-Bio...</td>\n",
       "      <td>2019</td>\n",
       "      <td>9</td>\n",
       "      <td>7.4</td>\n",
       "      <td>0</td>\n",
       "      <td>1</td>\n",
       "      <td>0</td>\n",
       "      <td>0</td>\n",
       "      <td>0</td>\n",
       "      <td>0</td>\n",
       "      <td>0</td>\n",
       "      <td>2</td>\n",
       "    </tr>\n",
       "    <tr>\n",
       "      <th>262519</th>\n",
       "      <td>Coven-Drama,History,Horror</td>\n",
       "      <td>2020</td>\n",
       "      <td>93</td>\n",
       "      <td>6.9</td>\n",
       "      <td>0</td>\n",
       "      <td>1</td>\n",
       "      <td>0</td>\n",
       "      <td>0</td>\n",
       "      <td>0</td>\n",
       "      <td>0</td>\n",
       "      <td>0</td>\n",
       "      <td>1</td>\n",
       "    </tr>\n",
       "    <tr>\n",
       "      <th>262520</th>\n",
       "      <td>The Secret of China-Adventure,History,War</td>\n",
       "      <td>2019</td>\n",
       "      <td>11</td>\n",
       "      <td>4.1</td>\n",
       "      <td>0</td>\n",
       "      <td>1</td>\n",
       "      <td>0</td>\n",
       "      <td>0</td>\n",
       "      <td>0</td>\n",
       "      <td>0</td>\n",
       "      <td>0</td>\n",
       "      <td>2</td>\n",
       "    </tr>\n",
       "    <tr>\n",
       "      <th>262521</th>\n",
       "      <td>The Nun 2-Comedy,Horror,Mystery</td>\n",
       "      <td>2019</td>\n",
       "      <td>63</td>\n",
       "      <td>6.1</td>\n",
       "      <td>0</td>\n",
       "      <td>0</td>\n",
       "      <td>1</td>\n",
       "      <td>0</td>\n",
       "      <td>0</td>\n",
       "      <td>0</td>\n",
       "      <td>0</td>\n",
       "      <td>3</td>\n",
       "    </tr>\n",
       "  </tbody>\n",
       "</table>\n",
       "<p>262522 rows × 12 columns</p>\n",
       "</div>"
      ],
      "text/plain": [
       "                                                    Title startYear  numVotes  \\\n",
       "0                             Un bon bock-Animation,Short      1892       121   \n",
       "1                                 Chinese Opium Den-Short      1894       115   \n",
       "2                                      Miss Jerry-Romance      1894       156   \n",
       "3                    Opening of the Kiel Canal-News,Short      1895        54   \n",
       "4       Arrivée d'un train gare de Vincennes-Documenta...      1896       135   \n",
       "...                                                   ...       ...       ...   \n",
       "262517                                    Eco-Drama,Short      2019         9   \n",
       "262518  Danielle Darrieux: Il est poli d'être gai!-Bio...      2019         9   \n",
       "262519                         Coven-Drama,History,Horror      2020        93   \n",
       "262520          The Secret of China-Adventure,History,War      2019        11   \n",
       "262521                    The Nun 2-Comedy,Horror,Mystery      2019        63   \n",
       "\n",
       "        averageRating  isAdult  titleType_movie  titleType_short  \\\n",
       "0                 6.2        0                0                1   \n",
       "1                 5.3        0                0                1   \n",
       "2                 5.9        0                1                0   \n",
       "3                 4.5        0                0                1   \n",
       "4                 5.3        0                0                1   \n",
       "...               ...      ...              ...              ...   \n",
       "262517            5.4        0                0                1   \n",
       "262518            7.4        0                1                0   \n",
       "262519            6.9        0                1                0   \n",
       "262520            4.1        0                1                0   \n",
       "262521            6.1        0                0                1   \n",
       "\n",
       "        titleType_tvEpisode  titleType_tvSeries  titleType_tvSpecial  \\\n",
       "0                         0                   0                    0   \n",
       "1                         0                   0                    0   \n",
       "2                         0                   0                    0   \n",
       "3                         0                   0                    0   \n",
       "4                         0                   0                    0   \n",
       "...                     ...                 ...                  ...   \n",
       "262517                    0                   0                    0   \n",
       "262518                    0                   0                    0   \n",
       "262519                    0                   0                    0   \n",
       "262520                    0                   0                    0   \n",
       "262521                    0                   0                    0   \n",
       "\n",
       "        titleType_video  labels  \n",
       "0                     0       5  \n",
       "1                     0       5  \n",
       "2                     0       7  \n",
       "3                     0       6  \n",
       "4                     0       5  \n",
       "...                 ...     ...  \n",
       "262517                0       2  \n",
       "262518                0       2  \n",
       "262519                0       1  \n",
       "262520                0       2  \n",
       "262521                0       3  \n",
       "\n",
       "[262522 rows x 12 columns]"
      ]
     },
     "execution_count": 442,
     "metadata": {},
     "output_type": "execute_result"
    }
   ],
   "source": [
    "new = finalData[\"Title\"].str.split(\"-\", n = 1, expand = True)\n",
    "finalData"
   ]
  },
  {
   "cell_type": "code",
   "execution_count": 443,
   "metadata": {},
   "outputs": [
    {
     "data": {
      "text/html": [
       "<div>\n",
       "<style scoped>\n",
       "    .dataframe tbody tr th:only-of-type {\n",
       "        vertical-align: middle;\n",
       "    }\n",
       "\n",
       "    .dataframe tbody tr th {\n",
       "        vertical-align: top;\n",
       "    }\n",
       "\n",
       "    .dataframe thead th {\n",
       "        text-align: right;\n",
       "    }\n",
       "</style>\n",
       "<table border=\"1\" class=\"dataframe\">\n",
       "  <thead>\n",
       "    <tr style=\"text-align: right;\">\n",
       "      <th></th>\n",
       "      <th>Title</th>\n",
       "      <th>startYear</th>\n",
       "      <th>numVotes</th>\n",
       "      <th>averageRating</th>\n",
       "      <th>isAdult</th>\n",
       "      <th>titleType_movie</th>\n",
       "      <th>titleType_short</th>\n",
       "      <th>titleType_tvEpisode</th>\n",
       "      <th>titleType_tvSeries</th>\n",
       "      <th>titleType_tvSpecial</th>\n",
       "      <th>titleType_video</th>\n",
       "      <th>labels</th>\n",
       "      <th>0</th>\n",
       "      <th>1</th>\n",
       "    </tr>\n",
       "  </thead>\n",
       "  <tbody>\n",
       "    <tr>\n",
       "      <th>0</th>\n",
       "      <td>Un bon bock-Animation,Short</td>\n",
       "      <td>1892</td>\n",
       "      <td>121</td>\n",
       "      <td>6.2</td>\n",
       "      <td>0</td>\n",
       "      <td>0</td>\n",
       "      <td>1</td>\n",
       "      <td>0</td>\n",
       "      <td>0</td>\n",
       "      <td>0</td>\n",
       "      <td>0</td>\n",
       "      <td>5</td>\n",
       "      <td>Un bon bock</td>\n",
       "      <td>Animation,Short</td>\n",
       "    </tr>\n",
       "    <tr>\n",
       "      <th>1</th>\n",
       "      <td>Chinese Opium Den-Short</td>\n",
       "      <td>1894</td>\n",
       "      <td>115</td>\n",
       "      <td>5.3</td>\n",
       "      <td>0</td>\n",
       "      <td>0</td>\n",
       "      <td>1</td>\n",
       "      <td>0</td>\n",
       "      <td>0</td>\n",
       "      <td>0</td>\n",
       "      <td>0</td>\n",
       "      <td>5</td>\n",
       "      <td>Chinese Opium Den</td>\n",
       "      <td>Short</td>\n",
       "    </tr>\n",
       "    <tr>\n",
       "      <th>2</th>\n",
       "      <td>Miss Jerry-Romance</td>\n",
       "      <td>1894</td>\n",
       "      <td>156</td>\n",
       "      <td>5.9</td>\n",
       "      <td>0</td>\n",
       "      <td>1</td>\n",
       "      <td>0</td>\n",
       "      <td>0</td>\n",
       "      <td>0</td>\n",
       "      <td>0</td>\n",
       "      <td>0</td>\n",
       "      <td>7</td>\n",
       "      <td>Miss Jerry</td>\n",
       "      <td>Romance</td>\n",
       "    </tr>\n",
       "    <tr>\n",
       "      <th>3</th>\n",
       "      <td>Opening of the Kiel Canal-News,Short</td>\n",
       "      <td>1895</td>\n",
       "      <td>54</td>\n",
       "      <td>4.5</td>\n",
       "      <td>0</td>\n",
       "      <td>0</td>\n",
       "      <td>1</td>\n",
       "      <td>0</td>\n",
       "      <td>0</td>\n",
       "      <td>0</td>\n",
       "      <td>0</td>\n",
       "      <td>6</td>\n",
       "      <td>Opening of the Kiel Canal</td>\n",
       "      <td>News,Short</td>\n",
       "    </tr>\n",
       "    <tr>\n",
       "      <th>4</th>\n",
       "      <td>Arrivée d'un train gare de Vincennes-Documenta...</td>\n",
       "      <td>1896</td>\n",
       "      <td>135</td>\n",
       "      <td>5.3</td>\n",
       "      <td>0</td>\n",
       "      <td>0</td>\n",
       "      <td>1</td>\n",
       "      <td>0</td>\n",
       "      <td>0</td>\n",
       "      <td>0</td>\n",
       "      <td>0</td>\n",
       "      <td>5</td>\n",
       "      <td>Arrivée d'un train gare de Vincennes</td>\n",
       "      <td>Documentary,Short</td>\n",
       "    </tr>\n",
       "    <tr>\n",
       "      <th>...</th>\n",
       "      <td>...</td>\n",
       "      <td>...</td>\n",
       "      <td>...</td>\n",
       "      <td>...</td>\n",
       "      <td>...</td>\n",
       "      <td>...</td>\n",
       "      <td>...</td>\n",
       "      <td>...</td>\n",
       "      <td>...</td>\n",
       "      <td>...</td>\n",
       "      <td>...</td>\n",
       "      <td>...</td>\n",
       "      <td>...</td>\n",
       "      <td>...</td>\n",
       "    </tr>\n",
       "    <tr>\n",
       "      <th>262517</th>\n",
       "      <td>Eco-Drama,Short</td>\n",
       "      <td>2019</td>\n",
       "      <td>9</td>\n",
       "      <td>5.4</td>\n",
       "      <td>0</td>\n",
       "      <td>0</td>\n",
       "      <td>1</td>\n",
       "      <td>0</td>\n",
       "      <td>0</td>\n",
       "      <td>0</td>\n",
       "      <td>0</td>\n",
       "      <td>2</td>\n",
       "      <td>Eco</td>\n",
       "      <td>Drama,Short</td>\n",
       "    </tr>\n",
       "    <tr>\n",
       "      <th>262518</th>\n",
       "      <td>Danielle Darrieux: Il est poli d'être gai!-Bio...</td>\n",
       "      <td>2019</td>\n",
       "      <td>9</td>\n",
       "      <td>7.4</td>\n",
       "      <td>0</td>\n",
       "      <td>1</td>\n",
       "      <td>0</td>\n",
       "      <td>0</td>\n",
       "      <td>0</td>\n",
       "      <td>0</td>\n",
       "      <td>0</td>\n",
       "      <td>2</td>\n",
       "      <td>Danielle Darrieux: Il est poli d'être gai!</td>\n",
       "      <td>Biography</td>\n",
       "    </tr>\n",
       "    <tr>\n",
       "      <th>262519</th>\n",
       "      <td>Coven-Drama,History,Horror</td>\n",
       "      <td>2020</td>\n",
       "      <td>93</td>\n",
       "      <td>6.9</td>\n",
       "      <td>0</td>\n",
       "      <td>1</td>\n",
       "      <td>0</td>\n",
       "      <td>0</td>\n",
       "      <td>0</td>\n",
       "      <td>0</td>\n",
       "      <td>0</td>\n",
       "      <td>1</td>\n",
       "      <td>Coven</td>\n",
       "      <td>Drama,History,Horror</td>\n",
       "    </tr>\n",
       "    <tr>\n",
       "      <th>262520</th>\n",
       "      <td>The Secret of China-Adventure,History,War</td>\n",
       "      <td>2019</td>\n",
       "      <td>11</td>\n",
       "      <td>4.1</td>\n",
       "      <td>0</td>\n",
       "      <td>1</td>\n",
       "      <td>0</td>\n",
       "      <td>0</td>\n",
       "      <td>0</td>\n",
       "      <td>0</td>\n",
       "      <td>0</td>\n",
       "      <td>2</td>\n",
       "      <td>The Secret of China</td>\n",
       "      <td>Adventure,History,War</td>\n",
       "    </tr>\n",
       "    <tr>\n",
       "      <th>262521</th>\n",
       "      <td>The Nun 2-Comedy,Horror,Mystery</td>\n",
       "      <td>2019</td>\n",
       "      <td>63</td>\n",
       "      <td>6.1</td>\n",
       "      <td>0</td>\n",
       "      <td>0</td>\n",
       "      <td>1</td>\n",
       "      <td>0</td>\n",
       "      <td>0</td>\n",
       "      <td>0</td>\n",
       "      <td>0</td>\n",
       "      <td>3</td>\n",
       "      <td>The Nun 2</td>\n",
       "      <td>Comedy,Horror,Mystery</td>\n",
       "    </tr>\n",
       "  </tbody>\n",
       "</table>\n",
       "<p>262522 rows × 14 columns</p>\n",
       "</div>"
      ],
      "text/plain": [
       "                                                    Title startYear  numVotes  \\\n",
       "0                             Un bon bock-Animation,Short      1892       121   \n",
       "1                                 Chinese Opium Den-Short      1894       115   \n",
       "2                                      Miss Jerry-Romance      1894       156   \n",
       "3                    Opening of the Kiel Canal-News,Short      1895        54   \n",
       "4       Arrivée d'un train gare de Vincennes-Documenta...      1896       135   \n",
       "...                                                   ...       ...       ...   \n",
       "262517                                    Eco-Drama,Short      2019         9   \n",
       "262518  Danielle Darrieux: Il est poli d'être gai!-Bio...      2019         9   \n",
       "262519                         Coven-Drama,History,Horror      2020        93   \n",
       "262520          The Secret of China-Adventure,History,War      2019        11   \n",
       "262521                    The Nun 2-Comedy,Horror,Mystery      2019        63   \n",
       "\n",
       "        averageRating  isAdult  titleType_movie  titleType_short  \\\n",
       "0                 6.2        0                0                1   \n",
       "1                 5.3        0                0                1   \n",
       "2                 5.9        0                1                0   \n",
       "3                 4.5        0                0                1   \n",
       "4                 5.3        0                0                1   \n",
       "...               ...      ...              ...              ...   \n",
       "262517            5.4        0                0                1   \n",
       "262518            7.4        0                1                0   \n",
       "262519            6.9        0                1                0   \n",
       "262520            4.1        0                1                0   \n",
       "262521            6.1        0                0                1   \n",
       "\n",
       "        titleType_tvEpisode  titleType_tvSeries  titleType_tvSpecial  \\\n",
       "0                         0                   0                    0   \n",
       "1                         0                   0                    0   \n",
       "2                         0                   0                    0   \n",
       "3                         0                   0                    0   \n",
       "4                         0                   0                    0   \n",
       "...                     ...                 ...                  ...   \n",
       "262517                    0                   0                    0   \n",
       "262518                    0                   0                    0   \n",
       "262519                    0                   0                    0   \n",
       "262520                    0                   0                    0   \n",
       "262521                    0                   0                    0   \n",
       "\n",
       "        titleType_video  labels                                           0  \\\n",
       "0                     0       5                                 Un bon bock   \n",
       "1                     0       5                           Chinese Opium Den   \n",
       "2                     0       7                                  Miss Jerry   \n",
       "3                     0       6                   Opening of the Kiel Canal   \n",
       "4                     0       5        Arrivée d'un train gare de Vincennes   \n",
       "...                 ...     ...                                         ...   \n",
       "262517                0       2                                         Eco   \n",
       "262518                0       2  Danielle Darrieux: Il est poli d'être gai!   \n",
       "262519                0       1                                       Coven   \n",
       "262520                0       2                         The Secret of China   \n",
       "262521                0       3                                   The Nun 2   \n",
       "\n",
       "                            1  \n",
       "0             Animation,Short  \n",
       "1                       Short  \n",
       "2                     Romance  \n",
       "3                  News,Short  \n",
       "4           Documentary,Short  \n",
       "...                       ...  \n",
       "262517            Drama,Short  \n",
       "262518              Biography  \n",
       "262519   Drama,History,Horror  \n",
       "262520  Adventure,History,War  \n",
       "262521  Comedy,Horror,Mystery  \n",
       "\n",
       "[262522 rows x 14 columns]"
      ]
     },
     "execution_count": 443,
     "metadata": {},
     "output_type": "execute_result"
    }
   ],
   "source": [
    "conclude_df = pd.merge(finalData, new,right_index=True,left_index=True)\n",
    "conclude_df"
   ]
  },
  {
   "cell_type": "code",
   "execution_count": 412,
   "metadata": {},
   "outputs": [
    {
     "data": {
      "text/html": [
       "<div>\n",
       "<style scoped>\n",
       "    .dataframe tbody tr th:only-of-type {\n",
       "        vertical-align: middle;\n",
       "    }\n",
       "\n",
       "    .dataframe tbody tr th {\n",
       "        vertical-align: top;\n",
       "    }\n",
       "\n",
       "    .dataframe thead th {\n",
       "        text-align: right;\n",
       "    }\n",
       "</style>\n",
       "<table border=\"1\" class=\"dataframe\">\n",
       "  <thead>\n",
       "    <tr style=\"text-align: right;\">\n",
       "      <th></th>\n",
       "      <th>startYear</th>\n",
       "      <th>numVotes</th>\n",
       "      <th>averageRating</th>\n",
       "      <th>isAdult</th>\n",
       "      <th>labels</th>\n",
       "      <th>0</th>\n",
       "      <th>1</th>\n",
       "    </tr>\n",
       "  </thead>\n",
       "  <tbody>\n",
       "    <tr>\n",
       "      <th>0</th>\n",
       "      <td>1892</td>\n",
       "      <td>121</td>\n",
       "      <td>6.2</td>\n",
       "      <td>0</td>\n",
       "      <td>5</td>\n",
       "      <td>Un bon bock</td>\n",
       "      <td>Animation,Short</td>\n",
       "    </tr>\n",
       "    <tr>\n",
       "      <th>1</th>\n",
       "      <td>1894</td>\n",
       "      <td>115</td>\n",
       "      <td>5.3</td>\n",
       "      <td>0</td>\n",
       "      <td>5</td>\n",
       "      <td>Chinese Opium Den</td>\n",
       "      <td>Short</td>\n",
       "    </tr>\n",
       "    <tr>\n",
       "      <th>2</th>\n",
       "      <td>1894</td>\n",
       "      <td>156</td>\n",
       "      <td>5.9</td>\n",
       "      <td>0</td>\n",
       "      <td>7</td>\n",
       "      <td>Miss Jerry</td>\n",
       "      <td>Romance</td>\n",
       "    </tr>\n",
       "    <tr>\n",
       "      <th>3</th>\n",
       "      <td>1895</td>\n",
       "      <td>54</td>\n",
       "      <td>4.5</td>\n",
       "      <td>0</td>\n",
       "      <td>6</td>\n",
       "      <td>Opening of the Kiel Canal</td>\n",
       "      <td>News,Short</td>\n",
       "    </tr>\n",
       "    <tr>\n",
       "      <th>4</th>\n",
       "      <td>1896</td>\n",
       "      <td>135</td>\n",
       "      <td>5.3</td>\n",
       "      <td>0</td>\n",
       "      <td>5</td>\n",
       "      <td>Arrivée d'un train gare de Vincennes</td>\n",
       "      <td>Documentary,Short</td>\n",
       "    </tr>\n",
       "    <tr>\n",
       "      <th>...</th>\n",
       "      <td>...</td>\n",
       "      <td>...</td>\n",
       "      <td>...</td>\n",
       "      <td>...</td>\n",
       "      <td>...</td>\n",
       "      <td>...</td>\n",
       "      <td>...</td>\n",
       "    </tr>\n",
       "    <tr>\n",
       "      <th>262517</th>\n",
       "      <td>2019</td>\n",
       "      <td>9</td>\n",
       "      <td>5.4</td>\n",
       "      <td>0</td>\n",
       "      <td>2</td>\n",
       "      <td>Eco</td>\n",
       "      <td>Drama,Short</td>\n",
       "    </tr>\n",
       "    <tr>\n",
       "      <th>262518</th>\n",
       "      <td>2019</td>\n",
       "      <td>9</td>\n",
       "      <td>7.4</td>\n",
       "      <td>0</td>\n",
       "      <td>2</td>\n",
       "      <td>Danielle Darrieux: Il est poli d'être gai!</td>\n",
       "      <td>Biography</td>\n",
       "    </tr>\n",
       "    <tr>\n",
       "      <th>262519</th>\n",
       "      <td>2020</td>\n",
       "      <td>93</td>\n",
       "      <td>6.9</td>\n",
       "      <td>0</td>\n",
       "      <td>1</td>\n",
       "      <td>Coven</td>\n",
       "      <td>Drama,History,Horror</td>\n",
       "    </tr>\n",
       "    <tr>\n",
       "      <th>262520</th>\n",
       "      <td>2019</td>\n",
       "      <td>11</td>\n",
       "      <td>4.1</td>\n",
       "      <td>0</td>\n",
       "      <td>2</td>\n",
       "      <td>The Secret of China</td>\n",
       "      <td>Adventure,History,War</td>\n",
       "    </tr>\n",
       "    <tr>\n",
       "      <th>262521</th>\n",
       "      <td>2019</td>\n",
       "      <td>63</td>\n",
       "      <td>6.1</td>\n",
       "      <td>0</td>\n",
       "      <td>3</td>\n",
       "      <td>The Nun 2</td>\n",
       "      <td>Comedy,Horror,Mystery</td>\n",
       "    </tr>\n",
       "  </tbody>\n",
       "</table>\n",
       "<p>262522 rows × 7 columns</p>\n",
       "</div>"
      ],
      "text/plain": [
       "       startYear  numVotes  averageRating  isAdult  labels  \\\n",
       "0           1892       121            6.2        0       5   \n",
       "1           1894       115            5.3        0       5   \n",
       "2           1894       156            5.9        0       7   \n",
       "3           1895        54            4.5        0       6   \n",
       "4           1896       135            5.3        0       5   \n",
       "...          ...       ...            ...      ...     ...   \n",
       "262517      2019         9            5.4        0       2   \n",
       "262518      2019         9            7.4        0       2   \n",
       "262519      2020        93            6.9        0       1   \n",
       "262520      2019        11            4.1        0       2   \n",
       "262521      2019        63            6.1        0       3   \n",
       "\n",
       "                                                 0                      1  \n",
       "0                                      Un bon bock        Animation,Short  \n",
       "1                                Chinese Opium Den                  Short  \n",
       "2                                       Miss Jerry                Romance  \n",
       "3                        Opening of the Kiel Canal             News,Short  \n",
       "4             Arrivée d'un train gare de Vincennes      Documentary,Short  \n",
       "...                                            ...                    ...  \n",
       "262517                                         Eco            Drama,Short  \n",
       "262518  Danielle Darrieux: Il est poli d'être gai!              Biography  \n",
       "262519                                       Coven   Drama,History,Horror  \n",
       "262520                         The Secret of China  Adventure,History,War  \n",
       "262521                                   The Nun 2  Comedy,Horror,Mystery  \n",
       "\n",
       "[262522 rows x 7 columns]"
      ]
     },
     "execution_count": 412,
     "metadata": {},
     "output_type": "execute_result"
    }
   ],
   "source": [
    "conclude_df = conclude_df.drop(['Title','titleType_movie','titleType_short','titleType_tvEpisode','titleType_tvSeries','titleType_tvSpecial','titleType_video'],axis=1)\n",
    "conclude_df"
   ]
  },
  {
   "cell_type": "code",
   "execution_count": 413,
   "metadata": {},
   "outputs": [],
   "source": [
    "conclude_df = conclude_df.rename(columns={0: 'Title'})\n",
    "conclude_df = conclude_df.rename(columns={1:'titleType'})"
   ]
  },
  {
   "cell_type": "code",
   "execution_count": 414,
   "metadata": {},
   "outputs": [
    {
     "data": {
      "text/html": [
       "<div>\n",
       "<style scoped>\n",
       "    .dataframe tbody tr th:only-of-type {\n",
       "        vertical-align: middle;\n",
       "    }\n",
       "\n",
       "    .dataframe tbody tr th {\n",
       "        vertical-align: top;\n",
       "    }\n",
       "\n",
       "    .dataframe thead th {\n",
       "        text-align: right;\n",
       "    }\n",
       "</style>\n",
       "<table border=\"1\" class=\"dataframe\">\n",
       "  <thead>\n",
       "    <tr style=\"text-align: right;\">\n",
       "      <th></th>\n",
       "      <th>Title</th>\n",
       "      <th>titleType</th>\n",
       "      <th>startYear</th>\n",
       "      <th>numVotes</th>\n",
       "      <th>averageRating</th>\n",
       "      <th>isAdult</th>\n",
       "      <th>labels</th>\n",
       "    </tr>\n",
       "  </thead>\n",
       "  <tbody>\n",
       "    <tr>\n",
       "      <th>0</th>\n",
       "      <td>Un bon bock</td>\n",
       "      <td>Animation,Short</td>\n",
       "      <td>1892</td>\n",
       "      <td>121</td>\n",
       "      <td>6.2</td>\n",
       "      <td>0</td>\n",
       "      <td>5</td>\n",
       "    </tr>\n",
       "    <tr>\n",
       "      <th>1</th>\n",
       "      <td>Chinese Opium Den</td>\n",
       "      <td>Short</td>\n",
       "      <td>1894</td>\n",
       "      <td>115</td>\n",
       "      <td>5.3</td>\n",
       "      <td>0</td>\n",
       "      <td>5</td>\n",
       "    </tr>\n",
       "    <tr>\n",
       "      <th>2</th>\n",
       "      <td>Miss Jerry</td>\n",
       "      <td>Romance</td>\n",
       "      <td>1894</td>\n",
       "      <td>156</td>\n",
       "      <td>5.9</td>\n",
       "      <td>0</td>\n",
       "      <td>7</td>\n",
       "    </tr>\n",
       "    <tr>\n",
       "      <th>3</th>\n",
       "      <td>Opening of the Kiel Canal</td>\n",
       "      <td>News,Short</td>\n",
       "      <td>1895</td>\n",
       "      <td>54</td>\n",
       "      <td>4.5</td>\n",
       "      <td>0</td>\n",
       "      <td>6</td>\n",
       "    </tr>\n",
       "    <tr>\n",
       "      <th>4</th>\n",
       "      <td>Arrivée d'un train gare de Vincennes</td>\n",
       "      <td>Documentary,Short</td>\n",
       "      <td>1896</td>\n",
       "      <td>135</td>\n",
       "      <td>5.3</td>\n",
       "      <td>0</td>\n",
       "      <td>5</td>\n",
       "    </tr>\n",
       "  </tbody>\n",
       "</table>\n",
       "</div>"
      ],
      "text/plain": [
       "                                  Title          titleType startYear  \\\n",
       "0                           Un bon bock    Animation,Short      1892   \n",
       "1                     Chinese Opium Den              Short      1894   \n",
       "2                            Miss Jerry            Romance      1894   \n",
       "3             Opening of the Kiel Canal         News,Short      1895   \n",
       "4  Arrivée d'un train gare de Vincennes  Documentary,Short      1896   \n",
       "\n",
       "   numVotes  averageRating  isAdult  labels  \n",
       "0       121            6.2        0       5  \n",
       "1       115            5.3        0       5  \n",
       "2       156            5.9        0       7  \n",
       "3        54            4.5        0       6  \n",
       "4       135            5.3        0       5  "
      ]
     },
     "execution_count": 414,
     "metadata": {},
     "output_type": "execute_result"
    }
   ],
   "source": [
    "conclude_df = conclude_df[['Title', 'titleType','startYear','numVotes', 'averageRating','isAdult','labels' ]]\n",
    "conclude_df.head()"
   ]
  },
  {
   "cell_type": "code",
   "execution_count": 415,
   "metadata": {},
   "outputs": [
    {
     "data": {
      "text/html": [
       "<div>\n",
       "<style scoped>\n",
       "    .dataframe tbody tr th:only-of-type {\n",
       "        vertical-align: middle;\n",
       "    }\n",
       "\n",
       "    .dataframe tbody tr th {\n",
       "        vertical-align: top;\n",
       "    }\n",
       "\n",
       "    .dataframe thead th {\n",
       "        text-align: right;\n",
       "    }\n",
       "</style>\n",
       "<table border=\"1\" class=\"dataframe\">\n",
       "  <thead>\n",
       "    <tr style=\"text-align: right;\">\n",
       "      <th></th>\n",
       "      <th>Title</th>\n",
       "      <th>titleType</th>\n",
       "      <th>startYear</th>\n",
       "      <th>numVotes</th>\n",
       "      <th>averageRating</th>\n",
       "      <th>isAdult</th>\n",
       "      <th>labels</th>\n",
       "    </tr>\n",
       "  </thead>\n",
       "  <tbody>\n",
       "    <tr>\n",
       "      <th>121</th>\n",
       "      <td>Cinderella</td>\n",
       "      <td>Musical</td>\n",
       "      <td>1961</td>\n",
       "      <td>48</td>\n",
       "      <td>7.6</td>\n",
       "      <td>0</td>\n",
       "      <td>0</td>\n",
       "    </tr>\n",
       "    <tr>\n",
       "      <th>122</th>\n",
       "      <td>Cinderella</td>\n",
       "      <td>Musical</td>\n",
       "      <td>1961</td>\n",
       "      <td>48</td>\n",
       "      <td>7.6</td>\n",
       "      <td>0</td>\n",
       "      <td>0</td>\n",
       "    </tr>\n",
       "    <tr>\n",
       "      <th>123</th>\n",
       "      <td>Cinderella</td>\n",
       "      <td>Musical</td>\n",
       "      <td>1961</td>\n",
       "      <td>48</td>\n",
       "      <td>7.6</td>\n",
       "      <td>0</td>\n",
       "      <td>0</td>\n",
       "    </tr>\n",
       "    <tr>\n",
       "      <th>124</th>\n",
       "      <td>Cinderella</td>\n",
       "      <td>Musical</td>\n",
       "      <td>1961</td>\n",
       "      <td>48</td>\n",
       "      <td>7.6</td>\n",
       "      <td>0</td>\n",
       "      <td>0</td>\n",
       "    </tr>\n",
       "    <tr>\n",
       "      <th>125</th>\n",
       "      <td>Cinderella</td>\n",
       "      <td>Musical</td>\n",
       "      <td>1961</td>\n",
       "      <td>48</td>\n",
       "      <td>7.6</td>\n",
       "      <td>0</td>\n",
       "      <td>0</td>\n",
       "    </tr>\n",
       "    <tr>\n",
       "      <th>...</th>\n",
       "      <td>...</td>\n",
       "      <td>...</td>\n",
       "      <td>...</td>\n",
       "      <td>...</td>\n",
       "      <td>...</td>\n",
       "      <td>...</td>\n",
       "      <td>...</td>\n",
       "    </tr>\n",
       "    <tr>\n",
       "      <th>258162</th>\n",
       "      <td>Ik hou het wel voor gezien</td>\n",
       "      <td>Documentary,Short</td>\n",
       "      <td>1973</td>\n",
       "      <td>74</td>\n",
       "      <td>8.0</td>\n",
       "      <td>0</td>\n",
       "      <td>0</td>\n",
       "    </tr>\n",
       "    <tr>\n",
       "      <th>259837</th>\n",
       "      <td>The Midnight Parasites</td>\n",
       "      <td>Animation,Fantasy,Horror</td>\n",
       "      <td>1972</td>\n",
       "      <td>59</td>\n",
       "      <td>7.0</td>\n",
       "      <td>0</td>\n",
       "      <td>0</td>\n",
       "    </tr>\n",
       "    <tr>\n",
       "      <th>260311</th>\n",
       "      <td>Amor de Perdição</td>\n",
       "      <td>Drama</td>\n",
       "      <td>1979</td>\n",
       "      <td>35</td>\n",
       "      <td>7.7</td>\n",
       "      <td>0</td>\n",
       "      <td>0</td>\n",
       "    </tr>\n",
       "    <tr>\n",
       "      <th>261580</th>\n",
       "      <td>Al Shaqa Mn Haq Al Zawjah</td>\n",
       "      <td>Comedy</td>\n",
       "      <td>1985</td>\n",
       "      <td>37</td>\n",
       "      <td>6.4</td>\n",
       "      <td>0</td>\n",
       "      <td>0</td>\n",
       "    </tr>\n",
       "    <tr>\n",
       "      <th>262219</th>\n",
       "      <td>Vaya luna de miel</td>\n",
       "      <td>Adventure,Comedy</td>\n",
       "      <td>1980</td>\n",
       "      <td>43</td>\n",
       "      <td>6.0</td>\n",
       "      <td>0</td>\n",
       "      <td>0</td>\n",
       "    </tr>\n",
       "  </tbody>\n",
       "</table>\n",
       "<p>18451 rows × 7 columns</p>\n",
       "</div>"
      ],
      "text/plain": [
       "                             Title                 titleType startYear  \\\n",
       "121                     Cinderella                   Musical      1961   \n",
       "122                     Cinderella                   Musical      1961   \n",
       "123                     Cinderella                   Musical      1961   \n",
       "124                     Cinderella                   Musical      1961   \n",
       "125                     Cinderella                   Musical      1961   \n",
       "...                            ...                       ...       ...   \n",
       "258162  Ik hou het wel voor gezien         Documentary,Short      1973   \n",
       "259837      The Midnight Parasites  Animation,Fantasy,Horror      1972   \n",
       "260311            Amor de Perdição                     Drama      1979   \n",
       "261580   Al Shaqa Mn Haq Al Zawjah                    Comedy      1985   \n",
       "262219           Vaya luna de miel          Adventure,Comedy      1980   \n",
       "\n",
       "        numVotes  averageRating  isAdult  labels  \n",
       "121           48            7.6        0       0  \n",
       "122           48            7.6        0       0  \n",
       "123           48            7.6        0       0  \n",
       "124           48            7.6        0       0  \n",
       "125           48            7.6        0       0  \n",
       "...          ...            ...      ...     ...  \n",
       "258162        74            8.0        0       0  \n",
       "259837        59            7.0        0       0  \n",
       "260311        35            7.7        0       0  \n",
       "261580        37            6.4        0       0  \n",
       "262219        43            6.0        0       0  \n",
       "\n",
       "[18451 rows x 7 columns]"
      ]
     },
     "execution_count": 415,
     "metadata": {},
     "output_type": "execute_result"
    }
   ],
   "source": [
    "cluster=conclude_df[conclude_df['labels']==0]\n",
    "cluster"
   ]
  },
  {
   "cell_type": "code",
   "execution_count": 416,
   "metadata": {},
   "outputs": [
    {
     "name": "stdout",
     "output_type": "stream",
     "text": [
      "kmeans-2020-11-19-09-14-40-936\n"
     ]
    }
   ],
   "source": [
    "print(kmeans_predictor.endpoint_name)"
   ]
  },
  {
   "cell_type": "code",
   "execution_count": 417,
   "metadata": {},
   "outputs": [],
   "source": [
    "import sagemaker\n",
    "\n",
    "sagemaker.Session().delete_endpoint(kmeans_predictor.endpoint_name)\n"
   ]
  },
  {
   "cell_type": "markdown",
   "metadata": {},
   "source": [
    "# Suggest Movies "
   ]
  },
  {
   "cell_type": "code",
   "execution_count": 418,
   "metadata": {},
   "outputs": [],
   "source": [
    "conclude_df['Title'] = conclude_df['Title'].astype('string')"
   ]
  },
  {
   "cell_type": "code",
   "execution_count": 419,
   "metadata": {},
   "outputs": [
    {
     "data": {
      "text/plain": [
       "Title              string\n",
       "titleType          object\n",
       "startYear        category\n",
       "numVotes            int64\n",
       "averageRating     float64\n",
       "isAdult             uint8\n",
       "labels              int64\n",
       "dtype: object"
      ]
     },
     "execution_count": 419,
     "metadata": {},
     "output_type": "execute_result"
    }
   ],
   "source": [
    "conclude_df.dtypes"
   ]
  },
  {
   "cell_type": "code",
   "execution_count": 420,
   "metadata": {},
   "outputs": [
    {
     "name": "stdout",
     "output_type": "stream",
     "text": [
      "Please enter the title of the movie you just watched : Watering the Flowers\n"
     ]
    }
   ],
   "source": [
    "watchedMovie = input(\"Please enter the title of the movie you just watched : \")"
   ]
  },
  {
   "cell_type": "code",
   "execution_count": 421,
   "metadata": {},
   "outputs": [
    {
     "name": "stdout",
     "output_type": "stream",
     "text": [
      "Watering the Flowers\n"
     ]
    }
   ],
   "source": [
    "print(watchedMovie)"
   ]
  },
  {
   "cell_type": "code",
   "execution_count": 436,
   "metadata": {},
   "outputs": [
    {
     "name": "stdout",
     "output_type": "stream",
     "text": [
      "You finished watching: Watering the Flowers.\n",
      "Try one of these titles next.\n",
      "\n",
      "\n",
      "Un bon bock\n",
      "Chinese Opium Den\n",
      "Arrivée d'un train gare de Vincennes\n",
      "Carga de rurales\n",
      "Saída do Pessoal Operário da Fábrica Confiança\n",
      "Conjuring\n",
      "The Devil's Laboratory\n",
      "Výstavní párkar a lepic plakátù\n",
      "Cinderella\n",
      "Cinderella\n"
     ]
    }
   ],
   "source": [
    "#fullmatch attribute does not exist for StringMetthods object\n",
    "if conclude_df['Title'].str.match(watchedMovie).any():\n",
    "    watcheddf = conclude_df[conclude_df['Title'].str.contains(watchedMovie)==True]\n",
    "    index=watcheddf.index.values.astype(int)[0]\n",
    "    labelvalue = conclude_df['labels'].values[index]\n",
    "    newdf = conclude_df[conclude_df['labels']==labelvalue]\n",
    "\n",
    "    print(\"You finished watching: \" + watchedMovie + \".\")\n",
    "    print(\"Try one of these titles next.\")\n",
    "    print(\"\\n\")\n",
    "    \n",
    "    list_of_movies = newdf['Title'].to_list()   \n",
    "    i = 0\n",
    "    while i<11:   \n",
    "\n",
    "        if watchedMovie == list_of_movies[i]:\n",
    "            \n",
    "            i+=1\n",
    "        else:\n",
    "            print(list_of_movies[i])\n",
    "            i+=1\n",
    "\n",
    "else:\n",
    "    print('Sorry, we can not suggest other movies based on the movie title you just entered!')"
   ]
  },
  {
   "cell_type": "code",
   "execution_count": 444,
   "metadata": {},
   "outputs": [
    {
     "data": {
      "text/plain": [
       "Title                  The Office Mix-Up-Comedy,Romance\n",
       "startYear                                          2020\n",
       "numVotes                                             76\n",
       "averageRating                                       5.2\n",
       "isAdult                                               0\n",
       "titleType_movie                                       1\n",
       "titleType_short                                       0\n",
       "titleType_tvEpisode                                   0\n",
       "titleType_tvSeries                                    0\n",
       "titleType_tvSpecial                                   0\n",
       "titleType_video                                       0\n",
       "labels                                                3\n",
       "0                                        The Office Mix\n",
       "1                                     Up-Comedy,Romance\n",
       "Name: 259766, dtype: object"
      ]
     },
     "execution_count": 444,
     "metadata": {},
     "output_type": "execute_result"
    }
   ],
   "source": [
    "conclude_df.iloc[259766]"
   ]
  },
  {
   "cell_type": "code",
   "execution_count": null,
   "metadata": {},
   "outputs": [],
   "source": []
  }
 ],
 "metadata": {
  "kernelspec": {
   "display_name": "conda_mxnet_p36",
   "language": "python",
   "name": "conda_mxnet_p36"
  },
  "language_info": {
   "codemirror_mode": {
    "name": "ipython",
    "version": 3
   },
   "file_extension": ".py",
   "mimetype": "text/x-python",
   "name": "python",
   "nbconvert_exporter": "python",
   "pygments_lexer": "ipython3",
   "version": "3.6.10"
  }
 },
 "nbformat": 4,
 "nbformat_minor": 4
}
